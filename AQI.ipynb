{
 "cells": [
  {
   "cell_type": "code",
   "execution_count": 77,
   "id": "497b6978",
   "metadata": {
    "deletable": false,
    "editable": false
   },
   "outputs": [],
   "source": [
    "# Initialize Otter\n",
    "import otter\n",
    "grader = otter.Notebook(\"AQI.ipynb\")"
   ]
  },
  {
   "cell_type": "markdown",
   "id": "3c611a37",
   "metadata": {},
   "source": [
    "# Final Project: Air Quality Dataset\n",
    "## Analyzing and Predicting AQI Data through Modeling\n",
    "## Due Date: Thursday, December 17th, 11:59 PM\n",
    "## Collaboration Policy\n",
    "\n",
    "Data science is a collaborative activity. While you may talk with other groups about\n",
    "the project, we ask that you **write your solutions individually**. If you do\n",
    "discuss the assignments with others outside of your group please **include their names** at the top\n",
    "of your notebook."
   ]
  },
  {
   "cell_type": "markdown",
   "id": "299ff619",
   "metadata": {},
   "source": [
    "## This Assignment\n",
    "\n",
    "In this final project, we will investigate AQI data for the year 2020 from **USA EPA** data. All the data used for this project can be accessed from the [EPA Website](https://aqs.epa.gov/aqsweb/airdata/download_files.html), which we will pull from directly in this notebook. This dataset contains geographical and time-series data on various factors that contribute to AQI from all government sites. The main goal at the end for you will be to understand how AQI varies both geographically and over time, and use your analysis (as well as other data that you can find) to be predict AQI at a certain point in time for various locations in California.\n",
    "\n",
    "Through this final project, you will demonstrate your experience with:\n",
    "* EDA and merging on location using Pandas\n",
    "* Unsupervised and supervised learning techniques\n",
    "* Visualization and interpolation\n",
    "\n",
    "This is **part 1** of the project, which includes the data cleaning, guided EDA and open-ended EDA components of the project. This will help you for part 2, where you will be completing the modeling component. "
   ]
  },
  {
   "cell_type": "code",
   "execution_count": 78,
   "id": "5e624bff",
   "metadata": {},
   "outputs": [],
   "source": [
    "import pandas as pd\n",
    "import numpy as np\n",
    "import seaborn as sns\n",
    "import matplotlib.pyplot as plt\n",
    "import re\n",
    "import geopandas as gpd\n",
    "\n",
    "import os\n",
    "import requests, zipfile, io\n",
    "\n",
    "import warnings\n",
    "warnings.filterwarnings('ignore')"
   ]
  },
  {
   "cell_type": "markdown",
   "id": "105f2ec9",
   "metadata": {},
   "source": [
    "<br/><br/>\n",
    "\n",
    "---\n",
    "## Section 1: Data Cleaning\n",
    "\n",
    "As mentioned, we will be using the **US EPA** data from the EPA website. Below is a dataframe of the files we will be using for the project. The following two cells will download the data and put it into a dictionary called `epa_data`."
   ]
  },
  {
   "cell_type": "code",
   "execution_count": 79,
   "id": "c875d9e9",
   "metadata": {},
   "outputs": [
    {
     "data": {
      "text/html": [
       "<div>\n",
       "<style scoped>\n",
       "    .dataframe tbody tr th:only-of-type {\n",
       "        vertical-align: middle;\n",
       "    }\n",
       "\n",
       "    .dataframe tbody tr th {\n",
       "        vertical-align: top;\n",
       "    }\n",
       "\n",
       "    .dataframe thead th {\n",
       "        text-align: right;\n",
       "    }\n",
       "</style>\n",
       "<table border=\"1\" class=\"dataframe\">\n",
       "  <thead>\n",
       "    <tr style=\"text-align: right;\">\n",
       "      <th></th>\n",
       "      <th>name</th>\n",
       "      <th>epa_filename</th>\n",
       "    </tr>\n",
       "  </thead>\n",
       "  <tbody>\n",
       "    <tr>\n",
       "      <th>0</th>\n",
       "      <td>annual_county_aqi</td>\n",
       "      <td>annual_aqi_by_county_2020</td>\n",
       "    </tr>\n",
       "    <tr>\n",
       "      <th>1</th>\n",
       "      <td>daily_county_aqi</td>\n",
       "      <td>daily_aqi_by_county_2020</td>\n",
       "    </tr>\n",
       "    <tr>\n",
       "      <th>2</th>\n",
       "      <td>daily_ozone</td>\n",
       "      <td>daily_44201_2020</td>\n",
       "    </tr>\n",
       "    <tr>\n",
       "      <th>3</th>\n",
       "      <td>daily_so2</td>\n",
       "      <td>daily_42401_2020</td>\n",
       "    </tr>\n",
       "    <tr>\n",
       "      <th>4</th>\n",
       "      <td>daily_co</td>\n",
       "      <td>daily_42101_2020</td>\n",
       "    </tr>\n",
       "    <tr>\n",
       "      <th>5</th>\n",
       "      <td>daily_no2</td>\n",
       "      <td>daily_42602_2020</td>\n",
       "    </tr>\n",
       "    <tr>\n",
       "      <th>6</th>\n",
       "      <td>daily_wind</td>\n",
       "      <td>daily_WIND_2020</td>\n",
       "    </tr>\n",
       "    <tr>\n",
       "      <th>7</th>\n",
       "      <td>daily_temp</td>\n",
       "      <td>daily_TEMP_2020</td>\n",
       "    </tr>\n",
       "    <tr>\n",
       "      <th>8</th>\n",
       "      <td>aqs_sites</td>\n",
       "      <td>aqs_sites</td>\n",
       "    </tr>\n",
       "  </tbody>\n",
       "</table>\n",
       "</div>"
      ],
      "text/plain": [
       "                name               epa_filename\n",
       "0  annual_county_aqi  annual_aqi_by_county_2020\n",
       "1   daily_county_aqi   daily_aqi_by_county_2020\n",
       "2        daily_ozone           daily_44201_2020\n",
       "3          daily_so2           daily_42401_2020\n",
       "4           daily_co           daily_42101_2020\n",
       "5          daily_no2           daily_42602_2020\n",
       "6         daily_wind            daily_WIND_2020\n",
       "7         daily_temp            daily_TEMP_2020\n",
       "8          aqs_sites                  aqs_sites"
      ]
     },
     "execution_count": 79,
     "metadata": {},
     "output_type": "execute_result"
    }
   ],
   "source": [
    "epa_weburl = \"https://web.archive.org/web/20211118232504/https://aqs.epa.gov/aqsweb/airdata/\"\n",
    "epa_filenames = pd.read_csv(\"data/epa_filenames.csv\")\n",
    "epa_filenames"
   ]
  },
  {
   "cell_type": "markdown",
   "id": "37d5a045",
   "metadata": {},
   "source": [
    "Below is code that we used to extract the code from the AQI website, which we encourage you to understand! This will pull directly from the website urls and put it into your `data/` folder. "
   ]
  },
  {
   "cell_type": "code",
   "execution_count": 80,
   "id": "9fe1b30e-eae6-4a7f-9311-ad01ec372621",
   "metadata": {},
   "outputs": [],
   "source": [
    "epa_data = {}\n",
    "for name, filename in zip(epa_filenames['name'], epa_filenames['epa_filename']):\n",
    "    path_name = 'data/{}'.format(name)\n",
    "    if not os.path.isdir(path_name):\n",
    "        data_url = '{}{}.zip'.format(epa_weburl, filename)\n",
    "        req = requests.get(data_url)\n",
    "        z = zipfile.ZipFile(io.BytesIO(req.content))\n",
    "        z.extractall(path_name)\n",
    "    data = pd.read_csv(f'data/{name}/{filename}.csv')\n",
    "    epa_data[name] = data"
   ]
  },
  {
   "cell_type": "markdown",
   "id": "f86fef96",
   "metadata": {},
   "source": [
    "Use the below cell to explore each of the datasets, which can be accessed using the keys in the `name` column of `epa_filenames` above. Currently, the cell is viewing the `annual_county_aqi` dataset, but feel free to change it to whichever dataset you want to explore. "
   ]
  },
  {
   "cell_type": "code",
   "execution_count": 81,
   "id": "4a83d60d",
   "metadata": {},
   "outputs": [
    {
     "data": {
      "text/html": [
       "<div>\n",
       "<style scoped>\n",
       "    .dataframe tbody tr th:only-of-type {\n",
       "        vertical-align: middle;\n",
       "    }\n",
       "\n",
       "    .dataframe tbody tr th {\n",
       "        vertical-align: top;\n",
       "    }\n",
       "\n",
       "    .dataframe thead th {\n",
       "        text-align: right;\n",
       "    }\n",
       "</style>\n",
       "<table border=\"1\" class=\"dataframe\">\n",
       "  <thead>\n",
       "    <tr style=\"text-align: right;\">\n",
       "      <th></th>\n",
       "      <th>State</th>\n",
       "      <th>County</th>\n",
       "      <th>Year</th>\n",
       "      <th>Days with AQI</th>\n",
       "      <th>Good Days</th>\n",
       "      <th>Moderate Days</th>\n",
       "      <th>Unhealthy for Sensitive Groups Days</th>\n",
       "      <th>Unhealthy Days</th>\n",
       "      <th>Very Unhealthy Days</th>\n",
       "      <th>Hazardous Days</th>\n",
       "      <th>Max AQI</th>\n",
       "      <th>90th Percentile AQI</th>\n",
       "      <th>Median AQI</th>\n",
       "      <th>Days CO</th>\n",
       "      <th>Days NO2</th>\n",
       "      <th>Days Ozone</th>\n",
       "      <th>Days SO2</th>\n",
       "      <th>Days PM2.5</th>\n",
       "      <th>Days PM10</th>\n",
       "    </tr>\n",
       "  </thead>\n",
       "  <tbody>\n",
       "    <tr>\n",
       "      <th>0</th>\n",
       "      <td>Alabama</td>\n",
       "      <td>Baldwin</td>\n",
       "      <td>2020</td>\n",
       "      <td>269</td>\n",
       "      <td>250</td>\n",
       "      <td>19</td>\n",
       "      <td>0</td>\n",
       "      <td>0</td>\n",
       "      <td>0</td>\n",
       "      <td>0</td>\n",
       "      <td>74</td>\n",
       "      <td>49</td>\n",
       "      <td>36</td>\n",
       "      <td>0</td>\n",
       "      <td>0</td>\n",
       "      <td>198</td>\n",
       "      <td>0</td>\n",
       "      <td>71</td>\n",
       "      <td>0</td>\n",
       "    </tr>\n",
       "    <tr>\n",
       "      <th>1</th>\n",
       "      <td>Alabama</td>\n",
       "      <td>Clay</td>\n",
       "      <td>2020</td>\n",
       "      <td>108</td>\n",
       "      <td>99</td>\n",
       "      <td>9</td>\n",
       "      <td>0</td>\n",
       "      <td>0</td>\n",
       "      <td>0</td>\n",
       "      <td>0</td>\n",
       "      <td>86</td>\n",
       "      <td>49</td>\n",
       "      <td>26</td>\n",
       "      <td>0</td>\n",
       "      <td>0</td>\n",
       "      <td>0</td>\n",
       "      <td>0</td>\n",
       "      <td>108</td>\n",
       "      <td>0</td>\n",
       "    </tr>\n",
       "    <tr>\n",
       "      <th>2</th>\n",
       "      <td>Alabama</td>\n",
       "      <td>DeKalb</td>\n",
       "      <td>2020</td>\n",
       "      <td>364</td>\n",
       "      <td>350</td>\n",
       "      <td>14</td>\n",
       "      <td>0</td>\n",
       "      <td>0</td>\n",
       "      <td>0</td>\n",
       "      <td>0</td>\n",
       "      <td>90</td>\n",
       "      <td>45</td>\n",
       "      <td>36</td>\n",
       "      <td>0</td>\n",
       "      <td>0</td>\n",
       "      <td>331</td>\n",
       "      <td>0</td>\n",
       "      <td>33</td>\n",
       "      <td>0</td>\n",
       "    </tr>\n",
       "    <tr>\n",
       "      <th>3</th>\n",
       "      <td>Alabama</td>\n",
       "      <td>Elmore</td>\n",
       "      <td>2020</td>\n",
       "      <td>197</td>\n",
       "      <td>197</td>\n",
       "      <td>0</td>\n",
       "      <td>0</td>\n",
       "      <td>0</td>\n",
       "      <td>0</td>\n",
       "      <td>0</td>\n",
       "      <td>47</td>\n",
       "      <td>41</td>\n",
       "      <td>31</td>\n",
       "      <td>0</td>\n",
       "      <td>0</td>\n",
       "      <td>197</td>\n",
       "      <td>0</td>\n",
       "      <td>0</td>\n",
       "      <td>0</td>\n",
       "    </tr>\n",
       "    <tr>\n",
       "      <th>4</th>\n",
       "      <td>Alabama</td>\n",
       "      <td>Etowah</td>\n",
       "      <td>2020</td>\n",
       "      <td>278</td>\n",
       "      <td>260</td>\n",
       "      <td>18</td>\n",
       "      <td>0</td>\n",
       "      <td>0</td>\n",
       "      <td>0</td>\n",
       "      <td>0</td>\n",
       "      <td>92</td>\n",
       "      <td>46</td>\n",
       "      <td>34</td>\n",
       "      <td>0</td>\n",
       "      <td>0</td>\n",
       "      <td>204</td>\n",
       "      <td>0</td>\n",
       "      <td>74</td>\n",
       "      <td>0</td>\n",
       "    </tr>\n",
       "  </tbody>\n",
       "</table>\n",
       "</div>"
      ],
      "text/plain": [
       "     State   County  Year  Days with AQI  Good Days  Moderate Days  \\\n",
       "0  Alabama  Baldwin  2020            269        250             19   \n",
       "1  Alabama     Clay  2020            108         99              9   \n",
       "2  Alabama   DeKalb  2020            364        350             14   \n",
       "3  Alabama   Elmore  2020            197        197              0   \n",
       "4  Alabama   Etowah  2020            278        260             18   \n",
       "\n",
       "   Unhealthy for Sensitive Groups Days  Unhealthy Days  Very Unhealthy Days  \\\n",
       "0                                    0               0                    0   \n",
       "1                                    0               0                    0   \n",
       "2                                    0               0                    0   \n",
       "3                                    0               0                    0   \n",
       "4                                    0               0                    0   \n",
       "\n",
       "   Hazardous Days  Max AQI  90th Percentile AQI  Median AQI  Days CO  \\\n",
       "0               0       74                   49          36        0   \n",
       "1               0       86                   49          26        0   \n",
       "2               0       90                   45          36        0   \n",
       "3               0       47                   41          31        0   \n",
       "4               0       92                   46          34        0   \n",
       "\n",
       "   Days NO2  Days Ozone  Days SO2  Days PM2.5  Days PM10  \n",
       "0         0         198         0          71          0  \n",
       "1         0           0         0         108          0  \n",
       "2         0         331         0          33          0  \n",
       "3         0         197         0           0          0  \n",
       "4         0         204         0          74          0  "
      ]
     },
     "execution_count": 81,
     "metadata": {},
     "output_type": "execute_result"
    }
   ],
   "source": [
    "epa_data.get('annual_county_aqi').head()"
   ]
  },
  {
   "cell_type": "markdown",
   "id": "bb2e3c82",
   "metadata": {
    "deletable": false,
    "editable": false
   },
   "source": [
    "<!-- BEGIN QUESTION -->\n",
    "\n",
    "<br/>\n",
    "\n",
    "### Question 0: Understanding the Data\n",
    "\n",
    "Notice that for the table `annual_county_aqi`, the 90th percentile AQI is reported as a column. Why would the 90th percentile AQI be useful as opposed to the maximum? What does it mean when the difference between the 90th percentile AQI and Max AQI is very large compared to the difference between the 90th percentile AQI and the median AQI?\n",
    "\n",
    "<!--\n",
    "BEGIN QUESTION\n",
    "name: q0\n",
    "manual: True\n",
    "points: 2\n",
    "-->"
   ]
  },
  {
   "cell_type": "markdown",
   "id": "09a64f72",
   "metadata": {},
   "source": [
    "_The data likely contains outliers of AQI far greater/less than the majority of the data, so the maximum AQI could be an outlier and thus mislead us on what the data looks like. The 90th percentile AQI is a safer estimation of the upper bound of the non-outlier data. When the difference between the 90th percentile AQI and the Max AQI is very large compared to the difference between the 90th percentile AQI and the median AQI, it means the Max AQI is likely an outlier._"
   ]
  },
  {
   "cell_type": "markdown",
   "id": "f81fa62f",
   "metadata": {
    "deletable": false,
    "editable": false
   },
   "source": [
    "<!-- END QUESTION -->\n",
    "\n",
    "<br/>\n",
    "\n",
    "### Question 1a: Creating Month and Day Columns\n",
    "\n",
    "In the `daily_county_aqi` table in `epa_data`, add two new columns called `Day` and `Month` that denote the day and month, respectively, of the AQI reading. The day and month should both be reported as an **integer** as opposed to a string (`Jan`, `Feb`, etc.)\n",
    "\n",
    "hint: `pd.to_datetime` may be useful.\n",
    "\n",
    "<!--\n",
    "BEGIN QUESTION\n",
    "name: q1a\n",
    "points: 1\n",
    "-->"
   ]
  },
  {
   "cell_type": "code",
   "execution_count": 82,
   "id": "e3287b23",
   "metadata": {},
   "outputs": [
    {
     "data": {
      "text/html": [
       "<div>\n",
       "<style scoped>\n",
       "    .dataframe tbody tr th:only-of-type {\n",
       "        vertical-align: middle;\n",
       "    }\n",
       "\n",
       "    .dataframe tbody tr th {\n",
       "        vertical-align: top;\n",
       "    }\n",
       "\n",
       "    .dataframe thead th {\n",
       "        text-align: right;\n",
       "    }\n",
       "</style>\n",
       "<table border=\"1\" class=\"dataframe\">\n",
       "  <thead>\n",
       "    <tr style=\"text-align: right;\">\n",
       "      <th></th>\n",
       "      <th>State Name</th>\n",
       "      <th>county Name</th>\n",
       "      <th>State Code</th>\n",
       "      <th>County Code</th>\n",
       "      <th>Date</th>\n",
       "      <th>AQI</th>\n",
       "      <th>Category</th>\n",
       "      <th>Defining Parameter</th>\n",
       "      <th>Defining Site</th>\n",
       "      <th>Number of Sites Reporting</th>\n",
       "      <th>Month</th>\n",
       "      <th>Day</th>\n",
       "    </tr>\n",
       "  </thead>\n",
       "  <tbody>\n",
       "    <tr>\n",
       "      <th>0</th>\n",
       "      <td>Alabama</td>\n",
       "      <td>Baldwin</td>\n",
       "      <td>1</td>\n",
       "      <td>3</td>\n",
       "      <td>2020-01-01</td>\n",
       "      <td>48</td>\n",
       "      <td>Good</td>\n",
       "      <td>PM2.5</td>\n",
       "      <td>01-003-0010</td>\n",
       "      <td>1</td>\n",
       "      <td>1</td>\n",
       "      <td>1</td>\n",
       "    </tr>\n",
       "    <tr>\n",
       "      <th>1</th>\n",
       "      <td>Alabama</td>\n",
       "      <td>Baldwin</td>\n",
       "      <td>1</td>\n",
       "      <td>3</td>\n",
       "      <td>2020-01-04</td>\n",
       "      <td>13</td>\n",
       "      <td>Good</td>\n",
       "      <td>PM2.5</td>\n",
       "      <td>01-003-0010</td>\n",
       "      <td>1</td>\n",
       "      <td>1</td>\n",
       "      <td>4</td>\n",
       "    </tr>\n",
       "    <tr>\n",
       "      <th>2</th>\n",
       "      <td>Alabama</td>\n",
       "      <td>Baldwin</td>\n",
       "      <td>1</td>\n",
       "      <td>3</td>\n",
       "      <td>2020-01-07</td>\n",
       "      <td>14</td>\n",
       "      <td>Good</td>\n",
       "      <td>PM2.5</td>\n",
       "      <td>01-003-0010</td>\n",
       "      <td>1</td>\n",
       "      <td>1</td>\n",
       "      <td>7</td>\n",
       "    </tr>\n",
       "    <tr>\n",
       "      <th>3</th>\n",
       "      <td>Alabama</td>\n",
       "      <td>Baldwin</td>\n",
       "      <td>1</td>\n",
       "      <td>3</td>\n",
       "      <td>2020-01-10</td>\n",
       "      <td>39</td>\n",
       "      <td>Good</td>\n",
       "      <td>PM2.5</td>\n",
       "      <td>01-003-0010</td>\n",
       "      <td>1</td>\n",
       "      <td>1</td>\n",
       "      <td>10</td>\n",
       "    </tr>\n",
       "    <tr>\n",
       "      <th>4</th>\n",
       "      <td>Alabama</td>\n",
       "      <td>Baldwin</td>\n",
       "      <td>1</td>\n",
       "      <td>3</td>\n",
       "      <td>2020-01-13</td>\n",
       "      <td>29</td>\n",
       "      <td>Good</td>\n",
       "      <td>PM2.5</td>\n",
       "      <td>01-003-0010</td>\n",
       "      <td>1</td>\n",
       "      <td>1</td>\n",
       "      <td>13</td>\n",
       "    </tr>\n",
       "  </tbody>\n",
       "</table>\n",
       "</div>"
      ],
      "text/plain": [
       "  State Name county Name  State Code  County Code        Date  AQI Category  \\\n",
       "0    Alabama     Baldwin           1            3  2020-01-01   48     Good   \n",
       "1    Alabama     Baldwin           1            3  2020-01-04   13     Good   \n",
       "2    Alabama     Baldwin           1            3  2020-01-07   14     Good   \n",
       "3    Alabama     Baldwin           1            3  2020-01-10   39     Good   \n",
       "4    Alabama     Baldwin           1            3  2020-01-13   29     Good   \n",
       "\n",
       "  Defining Parameter Defining Site  Number of Sites Reporting  Month  Day  \n",
       "0              PM2.5   01-003-0010                          1      1    1  \n",
       "1              PM2.5   01-003-0010                          1      1    4  \n",
       "2              PM2.5   01-003-0010                          1      1    7  \n",
       "3              PM2.5   01-003-0010                          1      1   10  \n",
       "4              PM2.5   01-003-0010                          1      1   13  "
      ]
     },
     "execution_count": 82,
     "metadata": {},
     "output_type": "execute_result"
    }
   ],
   "source": [
    "daily_county = epa_data.get('daily_county_aqi')\n",
    "daily_county['Month'] = pd.to_datetime(daily_county[\"Date\"]).dt.month\n",
    "daily_county['Day'] = pd.to_datetime(daily_county[\"Date\"]).dt.day\n",
    "\n",
    "\n",
    "daily_county.head()"
   ]
  },
  {
   "cell_type": "code",
   "execution_count": 83,
   "id": "a01fb006",
   "metadata": {
    "deletable": false,
    "editable": false
   },
   "outputs": [
    {
     "data": {
      "text/html": [
       "<p><strong><pre style='display: inline;'>q1a</pre></strong> passed!</p>"
      ],
      "text/plain": [
       "q1a results: All test cases passed!"
      ]
     },
     "execution_count": 83,
     "metadata": {},
     "output_type": "execute_result"
    }
   ],
   "source": [
    "grader.check(\"q1a\")"
   ]
  },
  {
   "cell_type": "markdown",
   "id": "d7aac1d3",
   "metadata": {
    "deletable": false,
    "editable": false
   },
   "source": [
    "<br/>\n",
    "\n",
    "### Question 1b: California Data\n",
    "\n",
    "Currently, `epa_data` contains data for **all** counties in the United States. For the guided part of this project, we are specifically going to be focusing on AQI data for counties in California only. Your task is to assign `epa_data_CA` a dictionary mapping table names to dataframes. This map should have the same contents as `epa_data` but only tables that contain **daily data** in the state of `California`.\n",
    "\n",
    "<!--\n",
    "BEGIN QUESTION\n",
    "name: q1b\n",
    "points: 3\n",
    "-->"
   ]
  },
  {
   "cell_type": "code",
   "execution_count": 84,
   "id": "0b203093",
   "metadata": {},
   "outputs": [
    {
     "data": {
      "text/html": [
       "<div>\n",
       "<style scoped>\n",
       "    .dataframe tbody tr th:only-of-type {\n",
       "        vertical-align: middle;\n",
       "    }\n",
       "\n",
       "    .dataframe tbody tr th {\n",
       "        vertical-align: top;\n",
       "    }\n",
       "\n",
       "    .dataframe thead th {\n",
       "        text-align: right;\n",
       "    }\n",
       "</style>\n",
       "<table border=\"1\" class=\"dataframe\">\n",
       "  <thead>\n",
       "    <tr style=\"text-align: right;\">\n",
       "      <th></th>\n",
       "      <th>State Name</th>\n",
       "      <th>county Name</th>\n",
       "      <th>State Code</th>\n",
       "      <th>County Code</th>\n",
       "      <th>Date</th>\n",
       "      <th>AQI</th>\n",
       "      <th>Category</th>\n",
       "      <th>Defining Parameter</th>\n",
       "      <th>Defining Site</th>\n",
       "      <th>Number of Sites Reporting</th>\n",
       "      <th>Month</th>\n",
       "      <th>Day</th>\n",
       "    </tr>\n",
       "  </thead>\n",
       "  <tbody>\n",
       "    <tr>\n",
       "      <th>14003</th>\n",
       "      <td>California</td>\n",
       "      <td>Alameda</td>\n",
       "      <td>6</td>\n",
       "      <td>1</td>\n",
       "      <td>2020-01-01</td>\n",
       "      <td>53</td>\n",
       "      <td>Moderate</td>\n",
       "      <td>PM2.5</td>\n",
       "      <td>06-001-0009</td>\n",
       "      <td>7</td>\n",
       "      <td>1</td>\n",
       "      <td>1</td>\n",
       "    </tr>\n",
       "    <tr>\n",
       "      <th>14004</th>\n",
       "      <td>California</td>\n",
       "      <td>Alameda</td>\n",
       "      <td>6</td>\n",
       "      <td>1</td>\n",
       "      <td>2020-01-02</td>\n",
       "      <td>43</td>\n",
       "      <td>Good</td>\n",
       "      <td>PM2.5</td>\n",
       "      <td>06-001-0013</td>\n",
       "      <td>7</td>\n",
       "      <td>1</td>\n",
       "      <td>2</td>\n",
       "    </tr>\n",
       "    <tr>\n",
       "      <th>14005</th>\n",
       "      <td>California</td>\n",
       "      <td>Alameda</td>\n",
       "      <td>6</td>\n",
       "      <td>1</td>\n",
       "      <td>2020-01-03</td>\n",
       "      <td>74</td>\n",
       "      <td>Moderate</td>\n",
       "      <td>PM2.5</td>\n",
       "      <td>06-001-0013</td>\n",
       "      <td>7</td>\n",
       "      <td>1</td>\n",
       "      <td>3</td>\n",
       "    </tr>\n",
       "    <tr>\n",
       "      <th>14006</th>\n",
       "      <td>California</td>\n",
       "      <td>Alameda</td>\n",
       "      <td>6</td>\n",
       "      <td>1</td>\n",
       "      <td>2020-01-04</td>\n",
       "      <td>45</td>\n",
       "      <td>Good</td>\n",
       "      <td>PM2.5</td>\n",
       "      <td>06-001-0007</td>\n",
       "      <td>7</td>\n",
       "      <td>1</td>\n",
       "      <td>4</td>\n",
       "    </tr>\n",
       "    <tr>\n",
       "      <th>14007</th>\n",
       "      <td>California</td>\n",
       "      <td>Alameda</td>\n",
       "      <td>6</td>\n",
       "      <td>1</td>\n",
       "      <td>2020-01-05</td>\n",
       "      <td>33</td>\n",
       "      <td>Good</td>\n",
       "      <td>PM2.5</td>\n",
       "      <td>06-001-0007</td>\n",
       "      <td>7</td>\n",
       "      <td>1</td>\n",
       "      <td>5</td>\n",
       "    </tr>\n",
       "  </tbody>\n",
       "</table>\n",
       "</div>"
      ],
      "text/plain": [
       "       State Name county Name  State Code  County Code        Date  AQI  \\\n",
       "14003  California     Alameda           6            1  2020-01-01   53   \n",
       "14004  California     Alameda           6            1  2020-01-02   43   \n",
       "14005  California     Alameda           6            1  2020-01-03   74   \n",
       "14006  California     Alameda           6            1  2020-01-04   45   \n",
       "14007  California     Alameda           6            1  2020-01-05   33   \n",
       "\n",
       "       Category Defining Parameter Defining Site  Number of Sites Reporting  \\\n",
       "14003  Moderate              PM2.5   06-001-0009                          7   \n",
       "14004      Good              PM2.5   06-001-0013                          7   \n",
       "14005  Moderate              PM2.5   06-001-0013                          7   \n",
       "14006      Good              PM2.5   06-001-0007                          7   \n",
       "14007      Good              PM2.5   06-001-0007                          7   \n",
       "\n",
       "       Month  Day  \n",
       "14003      1    1  \n",
       "14004      1    2  \n",
       "14005      1    3  \n",
       "14006      1    4  \n",
       "14007      1    5  "
      ]
     },
     "execution_count": 84,
     "metadata": {},
     "output_type": "execute_result"
    }
   ],
   "source": [
    "epa_daily = {}\n",
    "for (key, value) in epa_data.items():\n",
    "    if \"daily\" in key:\n",
    "        epa_daily[key] = value\n",
    "\n",
    "epa_data_CA = {}\n",
    "for (key, value) in epa_daily.items():\n",
    "    if \"State Name\" in value:\n",
    "        cond1 = value[\"State Name\"] == \"California\"\n",
    "        epa_data_CA[key] = (epa_daily[key].loc[cond1])\n",
    "    if \"State\" in value:\n",
    "        cond2 = value[\"State\"] == \"California\"\n",
    "        epa_data_CA[key] = (epa_daily[key].loc[cond2])\n",
    "    \n",
    "\n",
    "epa_data_CA.get('daily_county_aqi').head()\n"
   ]
  },
  {
   "cell_type": "code",
   "execution_count": 85,
   "id": "3ff29afa",
   "metadata": {
    "deletable": false,
    "editable": false
   },
   "outputs": [
    {
     "data": {
      "text/html": [
       "<p><strong><pre style='display: inline;'>q1b</pre></strong> passed!</p>"
      ],
      "text/plain": [
       "q1b results: All test cases passed!"
      ]
     },
     "execution_count": 85,
     "metadata": {},
     "output_type": "execute_result"
    }
   ],
   "source": [
    "grader.check(\"q1b\")"
   ]
  },
  {
   "cell_type": "markdown",
   "id": "cbd789c4",
   "metadata": {
    "deletable": false,
    "editable": false
   },
   "source": [
    "<br/>\n",
    "\n",
    "### Question 1c: Merging Site Information\n",
    "\n",
    "Now take a look at this [link](https://www.epa.gov/outdoor-air-quality-data/about-air-data-reports) and look under \"Site ID\". For later analysis, we want to first get the latitude and longitudes of each of the measurements in the `daily_county_aqi` table by merging two or more tables in `epa_data_CA` (one of the tables is `daily_county_aqi`).\n",
    "\n",
    "Our final merged table should be assigned to `epa_data_CA_merged` and the result should contain the following columns: `State Name`, `county Name`, `Month`, `Day`, `AQI`, `Category`, `Defining Site`, `Latitude`, and `Longitude`\n",
    "\n",
    "<!--\n",
    "BEGIN QUESTION\n",
    "name: q1c\n",
    "points: 4\n",
    "-->"
   ]
  },
  {
   "cell_type": "code",
   "execution_count": 86,
   "id": "be28f7dc",
   "metadata": {},
   "outputs": [
    {
     "data": {
      "text/html": [
       "<div>\n",
       "<style scoped>\n",
       "    .dataframe tbody tr th:only-of-type {\n",
       "        vertical-align: middle;\n",
       "    }\n",
       "\n",
       "    .dataframe tbody tr th {\n",
       "        vertical-align: top;\n",
       "    }\n",
       "\n",
       "    .dataframe thead th {\n",
       "        text-align: right;\n",
       "    }\n",
       "</style>\n",
       "<table border=\"1\" class=\"dataframe\">\n",
       "  <thead>\n",
       "    <tr style=\"text-align: right;\">\n",
       "      <th></th>\n",
       "      <th>State Name</th>\n",
       "      <th>county Name</th>\n",
       "      <th>Month</th>\n",
       "      <th>Day</th>\n",
       "      <th>AQI</th>\n",
       "      <th>Category</th>\n",
       "      <th>Defining Site</th>\n",
       "      <th>Latitude</th>\n",
       "      <th>Longitude</th>\n",
       "    </tr>\n",
       "  </thead>\n",
       "  <tbody>\n",
       "    <tr>\n",
       "      <th>0</th>\n",
       "      <td>California</td>\n",
       "      <td>Alameda</td>\n",
       "      <td>1</td>\n",
       "      <td>1</td>\n",
       "      <td>53</td>\n",
       "      <td>Moderate</td>\n",
       "      <td>06-001-0009</td>\n",
       "      <td>37.743065</td>\n",
       "      <td>-122.169935</td>\n",
       "    </tr>\n",
       "    <tr>\n",
       "      <th>1</th>\n",
       "      <td>California</td>\n",
       "      <td>Alameda</td>\n",
       "      <td>1</td>\n",
       "      <td>2</td>\n",
       "      <td>43</td>\n",
       "      <td>Good</td>\n",
       "      <td>06-001-0013</td>\n",
       "      <td>37.864767</td>\n",
       "      <td>-122.302741</td>\n",
       "    </tr>\n",
       "    <tr>\n",
       "      <th>2</th>\n",
       "      <td>California</td>\n",
       "      <td>Alameda</td>\n",
       "      <td>1</td>\n",
       "      <td>3</td>\n",
       "      <td>74</td>\n",
       "      <td>Moderate</td>\n",
       "      <td>06-001-0013</td>\n",
       "      <td>37.864767</td>\n",
       "      <td>-122.302741</td>\n",
       "    </tr>\n",
       "    <tr>\n",
       "      <th>3</th>\n",
       "      <td>California</td>\n",
       "      <td>Alameda</td>\n",
       "      <td>1</td>\n",
       "      <td>4</td>\n",
       "      <td>45</td>\n",
       "      <td>Good</td>\n",
       "      <td>06-001-0007</td>\n",
       "      <td>37.687526</td>\n",
       "      <td>-121.784217</td>\n",
       "    </tr>\n",
       "    <tr>\n",
       "      <th>4</th>\n",
       "      <td>California</td>\n",
       "      <td>Alameda</td>\n",
       "      <td>1</td>\n",
       "      <td>5</td>\n",
       "      <td>33</td>\n",
       "      <td>Good</td>\n",
       "      <td>06-001-0007</td>\n",
       "      <td>37.687526</td>\n",
       "      <td>-121.784217</td>\n",
       "    </tr>\n",
       "  </tbody>\n",
       "</table>\n",
       "</div>"
      ],
      "text/plain": [
       "   State Name county Name  Month  Day  AQI  Category Defining Site   Latitude  \\\n",
       "0  California     Alameda      1    1   53  Moderate   06-001-0009  37.743065   \n",
       "1  California     Alameda      1    2   43      Good   06-001-0013  37.864767   \n",
       "2  California     Alameda      1    3   74  Moderate   06-001-0013  37.864767   \n",
       "3  California     Alameda      1    4   45      Good   06-001-0007  37.687526   \n",
       "4  California     Alameda      1    5   33      Good   06-001-0007  37.687526   \n",
       "\n",
       "    Longitude  \n",
       "0 -122.169935  \n",
       "1 -122.302741  \n",
       "2 -122.302741  \n",
       "3 -121.784217  \n",
       "4 -121.784217  "
      ]
     },
     "execution_count": 86,
     "metadata": {},
     "output_type": "execute_result"
    }
   ],
   "source": [
    "cols = ['State Name', 'county Name', 'Month', 'Day', 'AQI', 'Category', 'Defining Site', 'Latitude', 'Longitude']\n",
    "county_aqi = epa_data_CA.get(\"daily_county_aqi\")\n",
    "aqi_sites = epa_data.get('aqs_sites')\n",
    "\n",
    "# Reformat County and Site numbers to Site ID format\n",
    "aqi_sites['County Code'] = aqi_sites['County Code'].astype(str)\n",
    "aqi_sites['Site Number'] = aqi_sites['Site Number'].astype(str)\n",
    "aqi_sites['County Code'] = aqi_sites['County Code'].str.pad(width=3, side='left', fillchar='0')\n",
    "aqi_sites['Site Number'] = aqi_sites['Site Number'].str.pad(width=4, side='left', fillchar='0')\n",
    "\n",
    "# Add Defining Site column to aqi_sites for join\n",
    "aqi_sites['Defining Site'] = aqi_sites['State Code'] + \"-\" + aqi_sites['County Code'] + \"-\" + aqi_sites['Site Number']\n",
    "\n",
    "# Join daily_county_aqi with aqi_sites on Defining Site to obtain latitude & longitude\n",
    "cleaned_county_aqi = county_aqi[['State Name', 'county Name', 'Month', 'Day', 'AQI', 'Category', 'Defining Site']]\n",
    "cleaned_aqi_sites = aqi_sites[['Defining Site', 'Latitude', 'Longitude']]\n",
    "epa_data_CA_merged = cleaned_county_aqi.merge(cleaned_aqi_sites.set_index('Defining Site'), on='Defining Site', how='left')\n",
    "\n",
    "\n",
    "epa_data_CA_merged.head()"
   ]
  },
  {
   "cell_type": "code",
   "execution_count": 87,
   "id": "86b3e2aa",
   "metadata": {
    "deletable": false,
    "editable": false
   },
   "outputs": [
    {
     "data": {
      "text/html": [
       "<p><strong><pre style='display: inline;'>q1c</pre></strong> passed!</p>"
      ],
      "text/plain": [
       "q1c results: All test cases passed!"
      ]
     },
     "execution_count": 87,
     "metadata": {},
     "output_type": "execute_result"
    }
   ],
   "source": [
    "grader.check(\"q1c\")"
   ]
  },
  {
   "cell_type": "markdown",
   "id": "0934d18f",
   "metadata": {
    "deletable": false,
    "editable": false
   },
   "source": [
    "<br/>\n",
    "\n",
    "### Question 2a - Cleaning Traffic Data \n",
    "\n",
    "Throughout this project, you will be using other datasets to assist with analysis and predictions. Traditionally, to join dataframes we need to join on a specific column with shared values. However, when it comes to locations, exact latitudes and longitudes are hard to come by since it is a continuous space. First, lets look at such a dataset that we may want to merge on with `epa_data_CA_merged`. \n",
    "\n",
    "In the below cell, we have loaded in the `traffic_data` dataset, which contains traffic data for various locations in California. Your task is to clean this table so that it includes only the following columns (you may have to rename some): `District`, `Route`, `County`, `Descriptn`, `AADT`, `Latitude`, `Longitude`, where `AADT` is found by taking the sum of the back and ahead `AADT`s (you may run into some issues with cleaning the data in order to add these columns - `.str` functions may help with this). The metric AADT, annual average daily traffic, is calculated as the sum of the traffic north of the route (ahead AADT) and south of the route (back AADT). You also need to make sure to clean and remove any illegal values from the dataframe (hint: check `Latitude` and `Longitude`).\n",
    "\n",
    "*Hint:* `str` functions you will likely use: `.strip()`, `.replace()`.\n",
    "\n",
    "<!--\n",
    "BEGIN QUESTION\n",
    "name: q2a\n",
    "points: 3\n",
    "-->"
   ]
  },
  {
   "cell_type": "code",
   "execution_count": 88,
   "id": "fbd51a57",
   "metadata": {},
   "outputs": [
    {
     "data": {
      "text/html": [
       "<div>\n",
       "<style scoped>\n",
       "    .dataframe tbody tr th:only-of-type {\n",
       "        vertical-align: middle;\n",
       "    }\n",
       "\n",
       "    .dataframe tbody tr th {\n",
       "        vertical-align: top;\n",
       "    }\n",
       "\n",
       "    .dataframe thead th {\n",
       "        text-align: right;\n",
       "    }\n",
       "</style>\n",
       "<table border=\"1\" class=\"dataframe\">\n",
       "  <thead>\n",
       "    <tr style=\"text-align: right;\">\n",
       "      <th></th>\n",
       "      <th>District</th>\n",
       "      <th>Route</th>\n",
       "      <th>County</th>\n",
       "      <th>Descriptn</th>\n",
       "      <th>Lon_S_or_W</th>\n",
       "      <th>Lat_S_or_W</th>\n",
       "      <th>Lon_N_or_E</th>\n",
       "      <th>Lat_N_or_E</th>\n",
       "      <th>AADT</th>\n",
       "    </tr>\n",
       "  </thead>\n",
       "  <tbody>\n",
       "    <tr>\n",
       "      <th>0</th>\n",
       "      <td>1</td>\n",
       "      <td>1</td>\n",
       "      <td>MEN</td>\n",
       "      <td>SONOMA/MENDOCINO COUNTY LINE</td>\n",
       "      <td>-123.518503</td>\n",
       "      <td>38.759843</td>\n",
       "      <td>-123.518503</td>\n",
       "      <td>38.759843</td>\n",
       "      <td>4000</td>\n",
       "    </tr>\n",
       "    <tr>\n",
       "      <th>1</th>\n",
       "      <td>1</td>\n",
       "      <td>1</td>\n",
       "      <td>MEN</td>\n",
       "      <td>NORTH LIMITS GUALALA</td>\n",
       "      <td>-123.531890</td>\n",
       "      <td>38.770046</td>\n",
       "      <td>-123.531890</td>\n",
       "      <td>38.770046</td>\n",
       "      <td>7100</td>\n",
       "    </tr>\n",
       "    <tr>\n",
       "      <th>2</th>\n",
       "      <td>1</td>\n",
       "      <td>1</td>\n",
       "      <td>MEN</td>\n",
       "      <td>FISH ROCK ROAD</td>\n",
       "      <td>-123.585411</td>\n",
       "      <td>38.803549</td>\n",
       "      <td>-123.585411</td>\n",
       "      <td>38.803549</td>\n",
       "      <td>6200</td>\n",
       "    </tr>\n",
       "    <tr>\n",
       "      <th>3</th>\n",
       "      <td>1</td>\n",
       "      <td>1</td>\n",
       "      <td>MEN</td>\n",
       "      <td>POINT ARENA, SOUTH CITY LIMITS</td>\n",
       "      <td>-123.691513</td>\n",
       "      <td>38.903973</td>\n",
       "      <td>-123.691513</td>\n",
       "      <td>38.903973</td>\n",
       "      <td>4600</td>\n",
       "    </tr>\n",
       "    <tr>\n",
       "      <th>4</th>\n",
       "      <td>1</td>\n",
       "      <td>1</td>\n",
       "      <td>MEN</td>\n",
       "      <td>POINT ARENA, RIVERSIDE DRIVE</td>\n",
       "      <td>-123.692410</td>\n",
       "      <td>38.910913</td>\n",
       "      <td>-123.692410</td>\n",
       "      <td>38.910913</td>\n",
       "      <td>5000</td>\n",
       "    </tr>\n",
       "  </tbody>\n",
       "</table>\n",
       "</div>"
      ],
      "text/plain": [
       "   District  Route County                       Descriptn  Lon_S_or_W  \\\n",
       "0         1      1    MEN    SONOMA/MENDOCINO COUNTY LINE -123.518503   \n",
       "1         1      1    MEN            NORTH LIMITS GUALALA -123.531890   \n",
       "2         1      1    MEN                  FISH ROCK ROAD -123.585411   \n",
       "3         1      1    MEN  POINT ARENA, SOUTH CITY LIMITS -123.691513   \n",
       "4         1      1    MEN    POINT ARENA, RIVERSIDE DRIVE -123.692410   \n",
       "\n",
       "   Lat_S_or_W  Lon_N_or_E  Lat_N_or_E  AADT  \n",
       "0   38.759843 -123.518503   38.759843  4000  \n",
       "1   38.770046 -123.531890   38.770046  7100  \n",
       "2   38.803549 -123.585411   38.803549  6200  \n",
       "3   38.903973 -123.691513   38.903973  4600  \n",
       "4   38.910913 -123.692410   38.910913  5000  "
      ]
     },
     "execution_count": 88,
     "metadata": {},
     "output_type": "execute_result"
    }
   ],
   "source": [
    "traffic_data = pd.read_csv(\"data/Traffic_Volumes_AADT.csv\")\n",
    "traffic_data = traffic_data[['District', 'Route', 'County', 'Descriptn', 'Back_AADT', 'Ahead_AADT', 'Lon_S_or_W',\n",
    "       'Lat_S_or_W', 'Lon_N_or_E', 'Lat_N_or_E']]\n",
    "\n",
    "# Replace empty spaces in AADT columns with 0\n",
    "traffic_data['Back_AADT'] = traffic_data['Back_AADT'].str.replace(' ', '0')\n",
    "traffic_data['Ahead_AADT'] = traffic_data['Ahead_AADT'].str.replace(' ', '0')\n",
    "\n",
    "# Create new combined AADT column & drop back and ahead AADT\n",
    "traffic_data['AADT'] = traffic_data['Back_AADT'].astype(int) + traffic_data['Ahead_AADT'].astype(int)\n",
    "traffic_data = traffic_data.drop(columns=['Back_AADT', 'Ahead_AADT'])\n",
    "\n",
    "# Drop all rows with strings from latitude & longitude\n",
    "traffic_data['Lon_S_or_W'] = traffic_data['Lon_S_or_W'].apply(lambda x: pd.to_numeric(x, errors = 'coerce'))\n",
    "ind1 = traffic_data['Lon_S_or_W'].isna()\n",
    "traffic_data = traffic_data.drop(traffic_data[ind1].index)\n",
    "traffic_data['Lat_S_or_W'] = traffic_data['Lat_S_or_W'].apply(lambda x: pd.to_numeric(x, errors = 'coerce'))\n",
    "ind2 = traffic_data['Lat_S_or_W'].isna()\n",
    "traffic_data = traffic_data.drop(traffic_data[ind2].index)\n",
    "traffic_data['Lat_N_or_E'] = traffic_data['Lat_N_or_E'].apply(lambda x: pd.to_numeric(x, errors = 'coerce'))\n",
    "ind3 = traffic_data['Lat_N_or_E'].isna()\n",
    "traffic_data = traffic_data.drop(traffic_data[ind3].index)\n",
    "traffic_data['Lon_N_or_E'] = traffic_data['Lon_N_or_E'].apply(lambda x: pd.to_numeric(x, errors = 'coerce'))\n",
    "ind4 = traffic_data['Lon_N_or_E'].isna()\n",
    "traffic_data_cleaned = traffic_data.drop(traffic_data[ind4].index)\n",
    "\n",
    "traffic_data_cleaned.head()\n"
   ]
  },
  {
   "cell_type": "code",
   "execution_count": 89,
   "id": "302e1457",
   "metadata": {
    "deletable": false,
    "editable": false
   },
   "outputs": [
    {
     "data": {
      "text/html": [
       "<p><strong><pre style='display: inline;'>q2a</pre></strong> passed!</p>"
      ],
      "text/plain": [
       "q2a results: All test cases passed!"
      ]
     },
     "execution_count": 89,
     "metadata": {},
     "output_type": "execute_result"
    }
   ],
   "source": [
    "grader.check(\"q2a\")"
   ]
  },
  {
   "cell_type": "markdown",
   "id": "67e35cda",
   "metadata": {
    "deletable": false,
    "editable": false
   },
   "source": [
    "### Question 2b - Merging on Traffic Data \n",
    "\n",
    "Traditionally, we could employ some sort of join where we join `epa_data_CA_merged` rows with the row in `traffic_data` that it is the \"closest\" to, as measured by euclidean distance. As you can imagine, this can be quite tedious so instead we will use a special type of join called a **spatial join**, which can be done using the package `geopandas`, which is imported as `gpd`. The documentation for `geopandas` is linked [here](https://geopandas.org/docs/reference/api/geopandas.sjoin_nearest.html). Please use this as a resource to do the following tasks: \n",
    "\n",
    " - turn `traffic_data_cleaned` and `epa_data_CA_merged` into a geopandas dataframe using the latitude and longitude.\n",
    " - Use a spatial join (which function is this in the documentation?) to match the correct traffic row information to each entry in `epa_data_CA_merged`. \n",
    "\n",
    "Your final dataframe should be assigned to `gpd_epa_traffic` with the following columns: `State Name`, `county Name`, `Month`, `Day`, `AQI`, `Category`, `Defining Site`, `Site Lat`, `Site Long`, `Traffic Lat`, `Traffic Long`, `Descriptn`, and `AADT`.\n",
    "\n",
    "<!--\n",
    "BEGIN QUESTION\n",
    "name: q2b\n",
    "points: 2\n",
    "-->"
   ]
  },
  {
   "cell_type": "code",
   "execution_count": 90,
   "id": "eef79865",
   "metadata": {},
   "outputs": [
    {
     "data": {
      "text/html": [
       "<div>\n",
       "<style scoped>\n",
       "    .dataframe tbody tr th:only-of-type {\n",
       "        vertical-align: middle;\n",
       "    }\n",
       "\n",
       "    .dataframe tbody tr th {\n",
       "        vertical-align: top;\n",
       "    }\n",
       "\n",
       "    .dataframe thead th {\n",
       "        text-align: right;\n",
       "    }\n",
       "</style>\n",
       "<table border=\"1\" class=\"dataframe\">\n",
       "  <thead>\n",
       "    <tr style=\"text-align: right;\">\n",
       "      <th></th>\n",
       "      <th>State Name</th>\n",
       "      <th>county Name</th>\n",
       "      <th>Month</th>\n",
       "      <th>Day</th>\n",
       "      <th>AQI</th>\n",
       "      <th>Category</th>\n",
       "      <th>Defining Site</th>\n",
       "      <th>Site Lat</th>\n",
       "      <th>Site Long</th>\n",
       "      <th>Traffic Lat</th>\n",
       "      <th>Traffic Long</th>\n",
       "      <th>Descriptn</th>\n",
       "    </tr>\n",
       "  </thead>\n",
       "  <tbody>\n",
       "    <tr>\n",
       "      <th>0</th>\n",
       "      <td>California</td>\n",
       "      <td>Alameda</td>\n",
       "      <td>1</td>\n",
       "      <td>1</td>\n",
       "      <td>53</td>\n",
       "      <td>Moderate</td>\n",
       "      <td>06-001-0009</td>\n",
       "      <td>37.743065</td>\n",
       "      <td>-122.169935</td>\n",
       "      <td>37.744352</td>\n",
       "      <td>-122.170586</td>\n",
       "      <td>OAKLAND, 98TH AVENUE</td>\n",
       "    </tr>\n",
       "    <tr>\n",
       "      <th>1</th>\n",
       "      <td>California</td>\n",
       "      <td>Alameda</td>\n",
       "      <td>1</td>\n",
       "      <td>2</td>\n",
       "      <td>43</td>\n",
       "      <td>Good</td>\n",
       "      <td>06-001-0013</td>\n",
       "      <td>37.864767</td>\n",
       "      <td>-122.302741</td>\n",
       "      <td>37.866594</td>\n",
       "      <td>-122.303832</td>\n",
       "      <td>BERKELEY, UNIVERSITY AVENUE</td>\n",
       "    </tr>\n",
       "    <tr>\n",
       "      <th>2</th>\n",
       "      <td>California</td>\n",
       "      <td>Alameda</td>\n",
       "      <td>1</td>\n",
       "      <td>3</td>\n",
       "      <td>74</td>\n",
       "      <td>Moderate</td>\n",
       "      <td>06-001-0013</td>\n",
       "      <td>37.864767</td>\n",
       "      <td>-122.302741</td>\n",
       "      <td>37.866594</td>\n",
       "      <td>-122.303832</td>\n",
       "      <td>BERKELEY, UNIVERSITY AVENUE</td>\n",
       "    </tr>\n",
       "    <tr>\n",
       "      <th>3</th>\n",
       "      <td>California</td>\n",
       "      <td>Alameda</td>\n",
       "      <td>1</td>\n",
       "      <td>4</td>\n",
       "      <td>45</td>\n",
       "      <td>Good</td>\n",
       "      <td>06-001-0007</td>\n",
       "      <td>37.687526</td>\n",
       "      <td>-121.784217</td>\n",
       "      <td>37.700835</td>\n",
       "      <td>-121.773562</td>\n",
       "      <td>NORTH LIVERMORE AVENUE</td>\n",
       "    </tr>\n",
       "    <tr>\n",
       "      <th>4</th>\n",
       "      <td>California</td>\n",
       "      <td>Alameda</td>\n",
       "      <td>1</td>\n",
       "      <td>5</td>\n",
       "      <td>33</td>\n",
       "      <td>Good</td>\n",
       "      <td>06-001-0007</td>\n",
       "      <td>37.687526</td>\n",
       "      <td>-121.784217</td>\n",
       "      <td>37.700835</td>\n",
       "      <td>-121.773562</td>\n",
       "      <td>NORTH LIVERMORE AVENUE</td>\n",
       "    </tr>\n",
       "  </tbody>\n",
       "</table>\n",
       "</div>"
      ],
      "text/plain": [
       "   State Name county Name  Month  Day  AQI  Category Defining Site   Site Lat  \\\n",
       "0  California     Alameda      1    1   53  Moderate   06-001-0009  37.743065   \n",
       "1  California     Alameda      1    2   43      Good   06-001-0013  37.864767   \n",
       "2  California     Alameda      1    3   74  Moderate   06-001-0013  37.864767   \n",
       "3  California     Alameda      1    4   45      Good   06-001-0007  37.687526   \n",
       "4  California     Alameda      1    5   33      Good   06-001-0007  37.687526   \n",
       "\n",
       "    Site Long  Traffic Lat  Traffic Long                    Descriptn  \n",
       "0 -122.169935    37.744352   -122.170586         OAKLAND, 98TH AVENUE  \n",
       "1 -122.302741    37.866594   -122.303832  BERKELEY, UNIVERSITY AVENUE  \n",
       "2 -122.302741    37.866594   -122.303832  BERKELEY, UNIVERSITY AVENUE  \n",
       "3 -121.784217    37.700835   -121.773562       NORTH LIVERMORE AVENUE  \n",
       "4 -121.784217    37.700835   -121.773562       NORTH LIVERMORE AVENUE  "
      ]
     },
     "execution_count": 90,
     "metadata": {},
     "output_type": "execute_result"
    }
   ],
   "source": [
    "# Create gpd df's\n",
    "geo_traffic = gpd.GeoDataFrame(\n",
    "    traffic_data_cleaned, geometry=gpd.points_from_xy(traffic_data_cleaned.Lon_S_or_W, traffic_data_cleaned.Lat_S_or_W))\n",
    "epa_data_CA_merged_copy = epa_data_CA_merged.copy()\n",
    "geo_epa = gpd.GeoDataFrame(\n",
    "    epa_data_CA_merged_copy, geometry=gpd.points_from_xy(epa_data_CA_merged_copy.Longitude, epa_data_CA_merged_copy.Latitude))\n",
    "\n",
    "# sjoin_nearest epa and traffic\n",
    "gpd_epa_traffic = gpd.sjoin_nearest(geo_epa, geo_traffic, how = \"left\")\n",
    "traffic_aadt = gpd_epa_traffic.copy()\n",
    "\n",
    "# Clean\n",
    "gpd_epa_traffic = gpd_epa_traffic.rename(columns = {\"Lat_S_or_W\": \"Traffic Lat\", \"Lon_S_or_W\": \"Traffic Long\", \"Latitude\": \"Site Lat\", \"Longitude\": \"Site Long\"})\n",
    "gpd_epa_traffic = gpd_epa_traffic[[\"State Name\", \"county Name\", \"Month\", \"Day\", \"AQI\", \"Category\", \"Defining Site\", \"Site Lat\", \"Site Long\", \"Traffic Lat\", \"Traffic Long\", \"Descriptn\"]]\n",
    "\n",
    "gpd_epa_traffic.head()"
   ]
  },
  {
   "cell_type": "code",
   "execution_count": 91,
   "id": "b551886e",
   "metadata": {
    "deletable": false,
    "editable": false
   },
   "outputs": [
    {
     "data": {
      "text/html": [
       "<p><strong><pre style='display: inline;'>q2b</pre></strong> passed!</p>"
      ],
      "text/plain": [
       "q2b results: All test cases passed!"
      ]
     },
     "execution_count": 91,
     "metadata": {},
     "output_type": "execute_result"
    }
   ],
   "source": [
    "grader.check(\"q2b\")"
   ]
  },
  {
   "cell_type": "markdown",
   "id": "cc72f6c9",
   "metadata": {},
   "source": [
    "<br/><br/>\n",
    "\n",
    "---\n",
    "## Section 2: Guided EDA\n"
   ]
  },
  {
   "cell_type": "markdown",
   "id": "07b60cd6",
   "metadata": {
    "deletable": false,
    "editable": false
   },
   "source": [
    "### Question 3a: Initial AQI Analysis\n",
    "\n",
    "Assign a `pd.Series` object to `worst_median_aqis` that contains the states with the top 10 worst median AQIs throughout the year 2020, as measured by the average median AQIs across all counties for a single state. Your result should have index `state`, the column value should be labelled `Average Median AQI`, and it should be arranged in descending order.\n",
    "\n",
    "Now, assign the same thing to `worst_max_aqis`, except instead of aggregating the average median AQIs across all counties, aggregate the average **max AQIs** across all counties. Your result should have the same shape and labels as before, except the column value should be labelled `Average Max AQI`. \n",
    "\n",
    "Note: you may have to remove a few regions in your tables. Make sure every entry in your output is a **US State**.\n",
    "\n",
    "<!--\n",
    "BEGIN QUESTION\n",
    "name: q3a\n",
    "points: 2\n",
    "-->"
   ]
  },
  {
   "cell_type": "code",
   "execution_count": 92,
   "id": "61aac8a2",
   "metadata": {},
   "outputs": [
    {
     "name": "stdout",
     "output_type": "stream",
     "text": [
      "Worst Median AQI : \n",
      "State\n",
      "California       48.018868\n",
      "Arizona          47.307692\n",
      "Utah             41.066667\n",
      "Connecticut      39.125000\n",
      "Delaware         38.000000\n",
      "Mississippi      37.200000\n",
      "New Jersey       36.937500\n",
      "Massachusetts    36.538462\n",
      "Nevada           36.222222\n",
      "Pennsylvania     35.756098\n",
      "Name: Average Median AQI, dtype: float64\n",
      "\n",
      "Worst Max AQI : \n",
      "State\n",
      "Oregon          430.347826\n",
      "Washington      334.419355\n",
      "California      286.981132\n",
      "Arizona         238.230769\n",
      "Idaho           197.857143\n",
      "Wyoming         196.666667\n",
      "Nevada          196.666667\n",
      "Montana         137.421053\n",
      "Rhode Island    133.000000\n",
      "Connecticut     124.750000\n",
      "Name: Average Max AQI, dtype: float64\n"
     ]
    },
    {
     "data": {
      "text/plain": [
       "array([430.35, 334.42, 286.98, 238.23, 197.86, 196.67, 196.67, 137.42,\n",
       "       133.  , 124.75])"
      ]
     },
     "execution_count": 92,
     "metadata": {},
     "output_type": "execute_result"
    }
   ],
   "source": [
    "aqis = epa_data.get('annual_county_aqi') #loading the table \n",
    "american_aqis = aqis[~aqis[\"State\"].isin({\"Country Of Mexico\",\"District Of Columbia\", \"Virgin Islands\",\"Puerto Rico\"})] #filtering out non-American states\n",
    "grouped_by_state_mean = american_aqis.groupby([\"State\"]).mean() #grouping by mean\n",
    "\n",
    "worst_median_aqis = grouped_by_state_mean.sort_values(by = \"Median AQI\", ascending = False)[\"Median AQI\"][:10]\n",
    "worst_max_aqis = grouped_by_state_mean.sort_values(by = \"Max AQI\", ascending = False)[\"Max AQI\"][:10]\n",
    "\n",
    "worst_median_aqis.name = \"Average Median AQI\"\n",
    "worst_max_aqis.name = \"Average Max AQI\"\n",
    "\n",
    "print(\"Worst Median AQI : \\n{}\\n\".format(worst_median_aqis))\n",
    "print(\"Worst Max AQI : \\n{}\".format(worst_max_aqis))\n",
    "\n",
    "np.round(list(worst_max_aqis), 2)"
   ]
  },
  {
   "cell_type": "code",
   "execution_count": 93,
   "id": "308f7328",
   "metadata": {
    "deletable": false,
    "editable": false
   },
   "outputs": [
    {
     "data": {
      "text/html": [
       "<p><strong><pre style='display: inline;'>q3a</pre></strong> passed!</p>"
      ],
      "text/plain": [
       "q3a results: All test cases passed!"
      ]
     },
     "execution_count": 93,
     "metadata": {},
     "output_type": "execute_result"
    }
   ],
   "source": [
    "grader.check(\"q3a\")"
   ]
  },
  {
   "cell_type": "markdown",
   "id": "2ed7af0d",
   "metadata": {
    "deletable": false,
    "editable": false,
    "tags": []
   },
   "source": [
    "<!-- BEGIN QUESTION -->\n",
    "\n",
    "<br/>\n",
    "\n",
    "### Question 3b: Worst AQI States\n",
    "\n",
    "What are the states that are in both of the top 10 lists? Why do you think most of these states are on both of the lists?\n",
    "\n",
    "<!--\n",
    "BEGIN QUESTION\n",
    "name: q3b\n",
    "manual: True\n",
    "points: 2\n",
    "-->"
   ]
  },
  {
   "cell_type": "markdown",
   "id": "5afe8e40",
   "metadata": {},
   "source": [
    "_California, Arizona, Nevada, and Connecticut appear in both top 10 lists. In regards to California, Arizona, and Nevada, I think a large part of why they appear on both lists is due to both of them being very prone to wildfire. Almost every summer/fall, all 3 of these states suffer catastrophic wildfire seasons that undoubtedly ruin the AQI due to ash, smoke, and other combusted organic material. Furthermore, these 3 states are also relatively extremely drought ridden, and suffer from lack of precipitation, which could also further contribute to worse AQIs.\n",
    "._"
   ]
  },
  {
   "cell_type": "markdown",
   "id": "129b9ef4",
   "metadata": {
    "deletable": false,
    "editable": false
   },
   "source": [
    "<!-- END QUESTION -->\n",
    "\n",
    "<br/>\n",
    "\n",
    "### Question 4a: Missing AQI Data\n",
    "\n",
    "We want to see the accessibility of the AQI data across states. In the following cell, assign `days_with_AQI` to a series that contains the state as the index and the average number of days with AQI entries across all counties in that state as the value. Make sure to label the series as `Days with AQI` and sort in ascending order (smallest average number of days at the top). As before, make sure to remove the regions that are not **US States** from your series.\n",
    "\n",
    "<!--\n",
    "BEGIN QUESTION\n",
    "name: q4a\n",
    "points: 2\n",
    "-->"
   ]
  },
  {
   "cell_type": "code",
   "execution_count": 94,
   "id": "200bab31",
   "metadata": {},
   "outputs": [
    {
     "data": {
      "text/plain": [
       "State\n",
       "Alaska        235.222222\n",
       "Arkansas      251.545455\n",
       "New Mexico    264.062500\n",
       "Virginia      265.303030\n",
       "Colorado      278.892857\n",
       "Name: Days with AQI, dtype: float64"
      ]
     },
     "execution_count": 94,
     "metadata": {},
     "output_type": "execute_result"
    }
   ],
   "source": [
    "days_with_AQI = grouped_by_state_mean.sort_values(by = \"Days with AQI\", ascending = True)[\"Days with AQI\"]\n",
    "\n",
    "days_with_AQI.head()"
   ]
  },
  {
   "cell_type": "code",
   "execution_count": 95,
   "id": "c7982396",
   "metadata": {
    "deletable": false,
    "editable": false
   },
   "outputs": [
    {
     "data": {
      "text/html": [
       "<p><strong><pre style='display: inline;'>q4a</pre></strong> passed!</p>"
      ],
      "text/plain": [
       "q4a results: All test cases passed!"
      ]
     },
     "execution_count": 95,
     "metadata": {},
     "output_type": "execute_result"
    }
   ],
   "source": [
    "grader.check(\"q4a\")"
   ]
  },
  {
   "cell_type": "markdown",
   "id": "77eeaccc",
   "metadata": {},
   "source": [
    "<br/>\n",
    "\n",
    "### Question 4b: What are the missing dates?\n",
    "\n",
    "In the following cell, we create the series `ca_aqi_days` that outputs a series with each county in California mapped to the number of days that they have AQI data on. Notice that there exists a few counties without the full year of data, which is what you will be taking a closer look at in the following two parts."
   ]
  },
  {
   "cell_type": "code",
   "execution_count": 96,
   "id": "9442b8cb",
   "metadata": {},
   "outputs": [
    {
     "data": {
      "text/plain": [
       "54    274\n",
       "96    331\n",
       "63    351\n",
       "98    353\n",
       "49    359\n",
       "76    360\n",
       "51    364\n",
       "57    364\n",
       "72    365\n",
       "79    366\n",
       "Name: Days with AQI, dtype: int64"
      ]
     },
     "execution_count": 96,
     "metadata": {},
     "output_type": "execute_result"
    }
   ],
   "source": [
    "ca_annual_data = epa_data.get('annual_county_aqi')[epa_data.get('annual_county_aqi')['State'] == 'California']\n",
    "ca_aqi_days = ca_annual_data['Days with AQI'].sort_values()\n",
    "ca_aqi_days.head(10)"
   ]
  },
  {
   "cell_type": "markdown",
   "id": "792d52bc",
   "metadata": {
    "deletable": false,
    "editable": false
   },
   "source": [
    "#### Question 4bi: Missing Days\n",
    "\n",
    "Assign `county_to_missing_dates` to a dictionary that maps each county with less than the full year of data to the dates that have missing AQI data. Make sure that your keys are just the county name (no whitespace around it or `, California` appended to it) and the values are of the format `yyyy-mm-dd`.\n",
    "\n",
    "<!--\n",
    "BEGIN QUESTION\n",
    "name: q4i\n",
    "points: 2\n",
    "-->"
   ]
  },
  {
   "cell_type": "code",
   "execution_count": 97,
   "id": "6c64da0f",
   "metadata": {},
   "outputs": [
    {
     "data": {
      "text/plain": [
       "{'Amador': ['2020-01-04',\n",
       "  '2020-01-05',\n",
       "  '2020-01-06',\n",
       "  '2020-01-07',\n",
       "  '2020-08-24',\n",
       "  '2020-10-17',\n",
       "  '2020-10-18'],\n",
       " 'Plumas': ['2020-01-06',\n",
       "  '2020-02-16',\n",
       "  '2020-02-25',\n",
       "  '2020-02-26',\n",
       "  '2020-02-28',\n",
       "  '2020-02-29'],\n",
       " 'Tuolumne': ['2020-01-08',\n",
       "  '2020-01-26',\n",
       "  '2020-01-27',\n",
       "  '2020-01-28',\n",
       "  '2020-01-29',\n",
       "  '2020-01-30',\n",
       "  '2020-01-31',\n",
       "  '2020-02-01',\n",
       "  '2020-02-02',\n",
       "  '2020-02-03',\n",
       "  '2020-09-07',\n",
       "  '2020-09-08',\n",
       "  '2020-10-25'],\n",
       " 'Del Norte': ['2020-01-15',\n",
       "  '2020-01-16',\n",
       "  '2020-01-17',\n",
       "  '2020-01-18',\n",
       "  '2020-01-20',\n",
       "  '2020-01-21',\n",
       "  '2020-01-23',\n",
       "  '2020-03-14',\n",
       "  '2020-03-15',\n",
       "  '2020-04-22',\n",
       "  '2020-04-23',\n",
       "  '2020-04-25',\n",
       "  '2020-04-26',\n",
       "  '2020-04-28',\n",
       "  '2020-04-29',\n",
       "  '2020-05-01',\n",
       "  '2020-05-02',\n",
       "  '2020-05-04',\n",
       "  '2020-05-05',\n",
       "  '2020-05-07',\n",
       "  '2020-05-08',\n",
       "  '2020-05-10',\n",
       "  '2020-05-11',\n",
       "  '2020-05-13',\n",
       "  '2020-05-14',\n",
       "  '2020-05-16',\n",
       "  '2020-05-17',\n",
       "  '2020-05-19',\n",
       "  '2020-05-20',\n",
       "  '2020-05-22',\n",
       "  '2020-05-23',\n",
       "  '2020-05-25',\n",
       "  '2020-05-26',\n",
       "  '2020-05-28',\n",
       "  '2020-05-29',\n",
       "  '2020-05-31',\n",
       "  '2020-06-01',\n",
       "  '2020-06-02',\n",
       "  '2020-06-03',\n",
       "  '2020-06-04',\n",
       "  '2020-06-05',\n",
       "  '2020-06-06',\n",
       "  '2020-06-07',\n",
       "  '2020-06-08',\n",
       "  '2020-06-09',\n",
       "  '2020-06-10',\n",
       "  '2020-06-11',\n",
       "  '2020-06-12',\n",
       "  '2020-06-13',\n",
       "  '2020-06-14',\n",
       "  '2020-06-15',\n",
       "  '2020-06-16',\n",
       "  '2020-06-17',\n",
       "  '2020-06-18',\n",
       "  '2020-06-19',\n",
       "  '2020-06-20',\n",
       "  '2020-06-21',\n",
       "  '2020-06-22',\n",
       "  '2020-06-23',\n",
       "  '2020-06-24',\n",
       "  '2020-06-25',\n",
       "  '2020-06-26',\n",
       "  '2020-06-27',\n",
       "  '2020-06-28',\n",
       "  '2020-06-29',\n",
       "  '2020-06-30',\n",
       "  '2020-07-01',\n",
       "  '2020-07-02',\n",
       "  '2020-07-03',\n",
       "  '2020-07-04',\n",
       "  '2020-07-05',\n",
       "  '2020-07-06',\n",
       "  '2020-07-07',\n",
       "  '2020-07-08',\n",
       "  '2020-07-09',\n",
       "  '2020-07-10',\n",
       "  '2020-07-11',\n",
       "  '2020-07-12',\n",
       "  '2020-07-13',\n",
       "  '2020-07-14',\n",
       "  '2020-07-15',\n",
       "  '2020-07-16',\n",
       "  '2020-07-17',\n",
       "  '2020-07-18',\n",
       "  '2020-07-19',\n",
       "  '2020-07-20',\n",
       "  '2020-07-21',\n",
       "  '2020-09-13',\n",
       "  '2020-09-14',\n",
       "  '2020-09-15',\n",
       "  '2020-12-02',\n",
       "  '2020-12-03'],\n",
       " 'Trinity': ['2020-01-29',\n",
       "  '2020-02-28',\n",
       "  '2020-02-29',\n",
       "  '2020-03-02',\n",
       "  '2020-03-03',\n",
       "  '2020-07-01',\n",
       "  '2020-07-02',\n",
       "  '2020-07-03',\n",
       "  '2020-07-04',\n",
       "  '2020-07-05',\n",
       "  '2020-07-06',\n",
       "  '2020-07-08',\n",
       "  '2020-07-09',\n",
       "  '2020-07-10',\n",
       "  '2020-07-11',\n",
       "  '2020-07-12',\n",
       "  '2020-07-13',\n",
       "  '2020-07-14',\n",
       "  '2020-07-23',\n",
       "  '2020-07-24',\n",
       "  '2020-07-25',\n",
       "  '2020-07-26',\n",
       "  '2020-07-27',\n",
       "  '2020-07-28',\n",
       "  '2020-07-29',\n",
       "  '2020-07-30',\n",
       "  '2020-07-31',\n",
       "  '2020-08-01',\n",
       "  '2020-08-02',\n",
       "  '2020-08-03',\n",
       "  '2020-08-13',\n",
       "  '2020-09-27',\n",
       "  '2020-09-28',\n",
       "  '2020-12-01',\n",
       "  '2020-12-02'],\n",
       " 'Lake': ['2020-02-04',\n",
       "  '2020-02-05',\n",
       "  '2020-02-29',\n",
       "  '2020-04-24',\n",
       "  '2020-05-04',\n",
       "  '2020-05-05',\n",
       "  '2020-05-06',\n",
       "  '2020-05-07',\n",
       "  '2020-06-16',\n",
       "  '2020-06-17',\n",
       "  '2020-08-17',\n",
       "  '2020-08-22',\n",
       "  '2020-08-23',\n",
       "  '2020-08-24',\n",
       "  '2020-10-21'],\n",
       " 'Calaveras': ['2020-06-04', '2020-09-21'],\n",
       " 'Napa': ['2020-11-04'],\n",
       " 'Glenn': ['2020-11-08', '2020-11-11']}"
      ]
     },
     "execution_count": 97,
     "metadata": {},
     "output_type": "execute_result"
    }
   ],
   "source": [
    "counties = set(ca_annual_data[\"County\"])\n",
    "\n",
    "daily_county_aqi = epa_data.get('daily_county_aqi')\n",
    "daily_county_aqi_california = daily_county_aqi[daily_county_aqi[\"State Name\"] == \"California\"]\n",
    "group_by_dates = daily_county_aqi_california.groupby([\"Date\"]).agg(set)[\"county Name\"]\n",
    "group_by_dates #dates and counties that have data for that date\n",
    "\n",
    "missing_date_freqs= {}\n",
    "county_to_missing_dates = {}\n",
    "dates = group_by_dates.index\n",
    "for i in range(len(group_by_dates)):\n",
    "    d = dates[i]\n",
    "    missing = counties - group_by_dates[i]\n",
    "    for county in missing:\n",
    "        county_to_missing_dates[county] = county_to_missing_dates.get(county,[]) + [d]\n",
    "        missing_date_freqs[d] = missing_date_freqs.get(d,0) + 1\n",
    "county_to_missing_dates"
   ]
  },
  {
   "cell_type": "code",
   "execution_count": 98,
   "id": "e2470372",
   "metadata": {
    "deletable": false,
    "editable": false
   },
   "outputs": [
    {
     "data": {
      "text/html": [
       "<p><strong><pre style='display: inline;'>q4i</pre></strong> passed!</p>"
      ],
      "text/plain": [
       "q4i results: All test cases passed!"
      ]
     },
     "execution_count": 98,
     "metadata": {},
     "output_type": "execute_result"
    }
   ],
   "source": [
    "grader.check(\"q4i\")"
   ]
  },
  {
   "cell_type": "markdown",
   "id": "ff49cc54",
   "metadata": {
    "deletable": false,
    "editable": false
   },
   "source": [
    "<!-- BEGIN QUESTION -->\n",
    "\n",
    "#### Question 4bii: Missing Days\n",
    "\n",
    "Are there any key missing dates in common between the counties that have missing AQI data? What two counties have the most missing days and why do you think they do?\n",
    "\n",
    "<!--\n",
    "BEGIN QUESTION\n",
    "name: q4bii\n",
    "manual: True\n",
    "points: 2\n",
    "-->"
   ]
  },
  {
   "cell_type": "markdown",
   "id": "07c6c60a",
   "metadata": {},
   "source": [
    "_Yes, February 29th (leap day) is missing by 3 different counties. Del Norte and Trinity counties have the most missing days and I believe this could be due to the counties being extremely isolated, remote,  and sparse in population, which may lead to lack of attention and overhead going into the recording of data (and reliability of methods) since this data originates from such a low populated area (and therefore holds less priority and demands less monitoring)._\n"
   ]
  },
  {
   "cell_type": "markdown",
   "id": "fbbc718f",
   "metadata": {},
   "source": [
    "<!-- END QUESTION -->\n",
    "\n",
    "\n",
    "\n",
    "<br/>\n",
    "\n",
    "### Question 5a: AQI over Time "
   ]
  },
  {
   "cell_type": "markdown",
   "id": "aeeba668",
   "metadata": {
    "deletable": false,
    "editable": false
   },
   "source": [
    "Assign `aqi_per_month` to a series of the average aqi per month across all US states and `aqi_per_month_CA` to a series of the average AQI per month across California.\n",
    "\n",
    "<!--\n",
    "BEGIN QUESTION\n",
    "name: q5a\n",
    "points: 1\n",
    "-->"
   ]
  },
  {
   "cell_type": "code",
   "execution_count": 99,
   "id": "a243c2dc",
   "metadata": {},
   "outputs": [
    {
     "name": "stdout",
     "output_type": "stream",
     "text": [
      "AQI per Month: \n",
      "Month\n",
      "1     31.032050\n",
      "2     32.258621\n",
      "3     34.509181\n",
      "4     37.287264\n",
      "5     36.273464\n",
      "6     40.533681\n",
      "7     40.070404\n",
      "8     41.252281\n",
      "9     43.290611\n",
      "10    35.285558\n",
      "11    34.184020\n",
      "12    34.990632\n",
      "Name: AQI, dtype: float64\n",
      "\n",
      "AQI per Month California : \n",
      "Month\n",
      "1      46.346888\n",
      "2      47.110236\n",
      "3      40.114094\n",
      "4      41.443462\n",
      "5      49.538319\n",
      "6      47.996146\n",
      "7      56.069375\n",
      "8      79.960220\n",
      "9     107.020228\n",
      "10     75.491763\n",
      "11     52.070573\n",
      "12     53.645516\n",
      "Name: AQI, dtype: float64\n"
     ]
    }
   ],
   "source": [
    "aqi_per_month = daily_county.groupby(\"Month\").mean()['AQI']\n",
    "aqi_per_month_CA = epa_data_CA.get('daily_county_aqi').groupby(\"Month\").mean()['AQI']\n",
    "\n",
    "\n",
    "print(\"AQI per Month: \\n{}\\n\".format(aqi_per_month))\n",
    "print(\"AQI per Month California : \\n{}\".format(aqi_per_month_CA))"
   ]
  },
  {
   "cell_type": "code",
   "execution_count": 100,
   "id": "c03e76e1",
   "metadata": {
    "deletable": false,
    "editable": false
   },
   "outputs": [
    {
     "data": {
      "text/html": [
       "<p><strong><pre style='display: inline;'>q5a</pre></strong> passed!</p>"
      ],
      "text/plain": [
       "q5a results: All test cases passed!"
      ]
     },
     "execution_count": 100,
     "metadata": {},
     "output_type": "execute_result"
    }
   ],
   "source": [
    "grader.check(\"q5a\")"
   ]
  },
  {
   "cell_type": "markdown",
   "id": "738baa95",
   "metadata": {
    "deletable": false,
    "editable": false
   },
   "source": [
    "<!-- BEGIN QUESTION -->\n",
    "\n",
    "<br/>\n",
    "\n",
    "### Question 5b: AQI over Time Analysis \n",
    "\n",
    "Is there anything interesting that you notice in `aqi_per_month_CA`? If so, why do you think that is?\n",
    "\n",
    "<!--\n",
    "BEGIN QUESTION\n",
    "name: q5b\n",
    "manual: True\n",
    "points: 1\n",
    "-->"
   ]
  },
  {
   "cell_type": "markdown",
   "id": "bf8fcea7",
   "metadata": {},
   "source": [
    "_The average aqi per month in California is consistently higher than the country's average, with a large peak in August, September (the highest at 107), and October. One reason for this is that California is the most populated state, which means increased its economy, businesses, and transportation produce greater pollution than other states that would be less densely populated. Also, as mentioned before, California is prone to wildfires, whose smoke travels far throughout the state and degrades the overall air quality, especially during the dry summer months._"
   ]
  },
  {
   "cell_type": "markdown",
   "id": "e939efa5",
   "metadata": {
    "deletable": false,
    "editable": false
   },
   "source": [
    "<!-- END QUESTION -->\n",
    "\n",
    "<!-- BEGIN QUESTION -->\n",
    "\n",
    "<br/>\n",
    "\n",
    "### Question 5c: Modeling AQI over Time\n",
    "\n",
    "Based on the AQI pattern in the year 2020, if we were to model AQI over the last 10 years, with the average AQI per year being the same, what sort of parametric function $f(x)$ would you use? Let us say that we see a linear increase in the average AQI per year over the last 10 years instead, then what parametric function $g(x)$ would you use?\n",
    "\n",
    "<!--\n",
    "BEGIN QUESTION\n",
    "name: q5c\n",
    "manual: True\n",
    "points: 3\n",
    "-->"
   ]
  },
  {
   "cell_type": "markdown",
   "id": "44e24030",
   "metadata": {},
   "source": [
    "_If the average AQI was the same every year, then a good model to represent the pattern could be a modified sine function to capture the repeating peaks every month, f(x) = sin(x) + c. Or if the AQI every month has very little change, a constant function where f(x) = c might fit well. If we see a linear increase in the average AQI instead, then we can use a linear model to fit the data, where g(x) = mx + c, or a combination of a sine and linear function, g(x) = k*sin(x) + mx + c._"
   ]
  },
  {
   "cell_type": "markdown",
   "id": "389dc921",
   "metadata": {},
   "source": [
    "<!-- END QUESTION -->\n",
    "\n",
    "\n",
    "\n",
    "<br/>\n",
    "\n",
    "### Question 6a: Create Heatmap Buckets\n",
    "\n",
    "Now we want to create a function called `bucket_data`, which takes in the following parameters: `table`, `resolution`. It outputs a pivot table with the latitude bucket (smallest latitude for that grid point) on the index and the longitude bucket (smallest longitude for that grid point) on the columns. The values in the pivot table should be the average AQI of the monitor sites inside that respective rectangle grid of latitudes and longitudes. The following should be the output of `bucket_data(epa_data_CA_merged, np.mean, 5)`:\n",
    "\n",
    "<img src=\"images/q6a.png\" width=\"600px\" align=\"center\"/>"
   ]
  },
  {
   "cell_type": "markdown",
   "id": "65b89123",
   "metadata": {
    "deletable": false,
    "editable": false
   },
   "source": [
    "The `resolution` parameter describes the number of buckets that the latitudes and longitudes are divided into on the heatmap. As an example, let us say that the range of longitudes for site monitors are between \\[100, 110\\]; make sure that the start of the range is exactly the **minimum** of all longitude values of your site monitors and the end of the range is the exactly the **maximum** of all longitude values of your site monitors. Let us say that we have a resolution of 10. Then we have the buckets \n",
    "$$([100, 101], [101, 102], ..., [109, 110])$$\n",
    "\n",
    "The column and row labels of this dataframe should be labelled as the **start** of the bucket. In the case of the example above, the names of the buckets should be $ 100, 101, \\dots 109 $. Note that we are just looking at the longitude dimension in this example, and you have to do do the same for the latitude dimension along the rows in order to build the pivot table.\n",
    "\n",
    "Finally, make sure the row and column labels of your pivot table are **exactly** the same as the example given above. \n",
    "<!--\n",
    "BEGIN QUESTION\n",
    "name: q6a\n",
    "points: 6\n",
    "-->"
   ]
  },
  {
   "cell_type": "code",
   "execution_count": 101,
   "id": "7c0eb71f",
   "metadata": {},
   "outputs": [
    {
     "data": {
      "text/html": [
       "<div>\n",
       "<style scoped>\n",
       "    .dataframe tbody tr th:only-of-type {\n",
       "        vertical-align: middle;\n",
       "    }\n",
       "\n",
       "    .dataframe tbody tr th {\n",
       "        vertical-align: top;\n",
       "    }\n",
       "\n",
       "    .dataframe thead tr th {\n",
       "        text-align: left;\n",
       "    }\n",
       "\n",
       "    .dataframe thead tr:last-of-type th {\n",
       "        text-align: right;\n",
       "    }\n",
       "</style>\n",
       "<table border=\"1\" class=\"dataframe\">\n",
       "  <thead>\n",
       "    <tr>\n",
       "      <th></th>\n",
       "      <th colspan=\"5\" halign=\"left\">AQI</th>\n",
       "    </tr>\n",
       "    <tr>\n",
       "      <th>long_bucket</th>\n",
       "      <th>-124.20</th>\n",
       "      <th>-122.28</th>\n",
       "      <th>-120.36</th>\n",
       "      <th>-118.44</th>\n",
       "      <th>-116.52</th>\n",
       "    </tr>\n",
       "    <tr>\n",
       "      <th>lat_bucket</th>\n",
       "      <th></th>\n",
       "      <th></th>\n",
       "      <th></th>\n",
       "      <th></th>\n",
       "      <th></th>\n",
       "    </tr>\n",
       "  </thead>\n",
       "  <tbody>\n",
       "    <tr>\n",
       "      <th>32.58</th>\n",
       "      <td>NaN</td>\n",
       "      <td>NaN</td>\n",
       "      <td>65.317391</td>\n",
       "      <td>87.059645</td>\n",
       "      <td>67.955508</td>\n",
       "    </tr>\n",
       "    <tr>\n",
       "      <th>34.41</th>\n",
       "      <td>NaN</td>\n",
       "      <td>50.221983</td>\n",
       "      <td>67.597970</td>\n",
       "      <td>74.442308</td>\n",
       "      <td>58.294118</td>\n",
       "    </tr>\n",
       "    <tr>\n",
       "      <th>36.25</th>\n",
       "      <td>42.792276</td>\n",
       "      <td>51.489882</td>\n",
       "      <td>81.094254</td>\n",
       "      <td>74.704918</td>\n",
       "      <td>NaN</td>\n",
       "    </tr>\n",
       "    <tr>\n",
       "      <th>38.08</th>\n",
       "      <td>38.934803</td>\n",
       "      <td>53.699484</td>\n",
       "      <td>48.977778</td>\n",
       "      <td>NaN</td>\n",
       "      <td>NaN</td>\n",
       "    </tr>\n",
       "    <tr>\n",
       "      <th>39.92</th>\n",
       "      <td>38.790792</td>\n",
       "      <td>55.207065</td>\n",
       "      <td>NaN</td>\n",
       "      <td>NaN</td>\n",
       "      <td>NaN</td>\n",
       "    </tr>\n",
       "  </tbody>\n",
       "</table>\n",
       "</div>"
      ],
      "text/plain": [
       "                   AQI                                            \n",
       "long_bucket    -124.20    -122.28    -120.36    -118.44    -116.52\n",
       "lat_bucket                                                        \n",
       "32.58              NaN        NaN  65.317391  87.059645  67.955508\n",
       "34.41              NaN  50.221983  67.597970  74.442308  58.294118\n",
       "36.25        42.792276  51.489882  81.094254  74.704918        NaN\n",
       "38.08        38.934803  53.699484  48.977778        NaN        NaN\n",
       "39.92        38.790792  55.207065        NaN        NaN        NaN"
      ]
     },
     "execution_count": 101,
     "metadata": {},
     "output_type": "execute_result"
    }
   ],
   "source": [
    "def bucket_data(table, aggfunc, resolution):\n",
    "    table_copy = table.copy()\n",
    "    long_buckets = np.sort(np.linspace(table_copy['Longitude'].min(), table_copy['Longitude'].max(), num = resolution, endpoint = False))\n",
    "    lat_buckets = np.sort(np.linspace(table_copy['Latitude'].min(), table_copy['Latitude'].max(), num = resolution, endpoint = False))\n",
    "    \n",
    "    long_buckets_map = dict(list(zip(long_buckets, np.around(long_buckets, decimals = 2))))\n",
    "    lat_buckets_map = dict(list(zip(lat_buckets, np.around(lat_buckets, decimals = 2))))\n",
    "    \n",
    "    get_lat_bucket_num = lambda loc : lat_buckets_map.get(lat_buckets[lat_buckets <= loc].max())\n",
    "    get_long_bucket_num = lambda loc : long_buckets_map.get(long_buckets[long_buckets <= loc].max())\n",
    "    \n",
    "    table_copy['lat_bucket'] = table_copy['Latitude'].apply(get_lat_bucket_num)\n",
    "    table_copy['long_bucket'] = table_copy['Longitude'].apply(get_long_bucket_num)\n",
    "    \n",
    "    pivot_cols = ['lat_bucket', 'long_bucket', 'AQI']\n",
    "    return pd.pivot_table(table_copy[pivot_cols], index = 'lat_bucket', columns = 'long_bucket', aggfunc = aggfunc)\n",
    "\n",
    "bucket_data(epa_data_CA_merged, np.mean, 5)"
   ]
  },
  {
   "cell_type": "code",
   "execution_count": 102,
   "id": "4b097507",
   "metadata": {
    "deletable": false,
    "editable": false
   },
   "outputs": [
    {
     "data": {
      "text/html": [
       "<p><strong><pre style='display: inline;'>q6a</pre></strong> passed!</p>"
      ],
      "text/plain": [
       "q6a results: All test cases passed!"
      ]
     },
     "execution_count": 102,
     "metadata": {},
     "output_type": "execute_result"
    }
   ],
   "source": [
    "grader.check(\"q6a\")"
   ]
  },
  {
   "cell_type": "markdown",
   "id": "39ec7023",
   "metadata": {
    "deletable": false,
    "editable": false
   },
   "source": [
    "<br/>\n",
    "\n",
    "### Question 6b: Visualize Heatmap\n",
    "\n",
    "Assign `heatmap_data` to a heatmap bucket pivot table aggregated by median with resolution 30 for California AQI for the month of september. The code in the following cell will plot this heatmap for you. \n",
    "\n",
    "<!--\n",
    "BEGIN QUESTION\n",
    "name: q6b\n",
    "points: 1\n",
    "-->"
   ]
  },
  {
   "cell_type": "code",
   "execution_count": 103,
   "id": "80dddafb",
   "metadata": {},
   "outputs": [
    {
     "data": {
      "image/png": "[encoded data removed]",
      "text/plain": [
       "<Figure size 1080x576 with 2 Axes>"
      ]
     },
     "metadata": {
      "needs_background": "light"
     },
     "output_type": "display_data"
    }
   ],
   "source": [
    "temp_ca = epa_data_CA_merged[epa_data_CA_merged['Month'] == 9]\n",
    "heatmap_data = bucket_data(temp_ca, np.median, 30)\n",
    "\n",
    "#create visualization\n",
    "plt.figure(figsize=(15, 8))\n",
    "ax = sns.heatmap(heatmap_data, vmin=0, vmax=230, cmap = sns.cm.rocket_r)\n",
    "ax.invert_yaxis()\n",
    "plt.show()"
   ]
  },
  {
   "cell_type": "code",
   "execution_count": 104,
   "id": "f26c7478",
   "metadata": {
    "deletable": false,
    "editable": false
   },
   "outputs": [
    {
     "data": {
      "text/html": [
       "<p><strong><pre style='display: inline;'>q6b</pre></strong> passed!</p>"
      ],
      "text/plain": [
       "q6b results: All test cases passed!"
      ]
     },
     "execution_count": 104,
     "metadata": {},
     "output_type": "execute_result"
    }
   ],
   "source": [
    "grader.check(\"q6b\")"
   ]
  },
  {
   "cell_type": "markdown",
   "id": "dfc1c343",
   "metadata": {
    "deletable": false,
    "editable": false
   },
   "source": [
    "<!-- BEGIN QUESTION -->\n",
    "\n",
    "<br/>\n",
    "\n",
    "### Question 6c: Analyze Heatmap\n",
    "\n",
    "Look up where the dark regions correspond to. Does this heatmap make sense?\n",
    "\n",
    "<!--\n",
    "BEGIN QUESTION\n",
    "name: q6c\n",
    "manual: True\n",
    "points: 2\n",
    "-->"
   ]
  },
  {
   "cell_type": "markdown",
   "id": "1338999e",
   "metadata": {},
   "source": [
    "_As the heatmap is based on longitude and latitude of data from California, the resulting graph becomes a crude map of California itself, following its diagonal shape. It makes sense as the darker concentrated regions in the heat map correspond to highly populated areas, areas covered in wildfire last year, or both like the Los Angeles area. We can also see a slight gradient in air quality as we go south, which could be due to population and climate._\n"
   ]
  },
  {
   "cell_type": "markdown",
   "id": "bb9e18aa",
   "metadata": {},
   "source": [
    "<!-- END QUESTION -->\n",
    "\n",
    "\n",
    "\n",
    "<br/><br/>\n",
    "\n",
    "---\n",
    "## Part 3: Open-Ended EDA\n",
    "\n",
    "Not that we have explored the data both spatially and temporally, we want to be able to look at what other indicators there are for air quality in California. Through the previous few questions we have discussed that wilfire data as well as temperature may be good indicators, but we can explitly look at correlations via the temperature to verify our hypothesis. Like temperature, there are other columns of data such as particulate matter, chemical concentrations, wind data, etc. Your open-ended EDA will be useful for filling in missing points in the heatmap that you created in question 4b. \n",
    "\n",
    "Your goal in this question is to find relationships between AQI and other features in the current datasets, across time and space. Your exploration can include, but is not limited to: \n",
    "- Looking at correlations between AQI and various columns of interest in `epa_data_CA`.\n",
    "    - This will require some merging, which you can look at question 1 for reference. \n",
    "- Performing clustering and/or other unsupervised learning methods such as PCA to discover clusters or useful (combinations of) features in the data.\n",
    "- Merging and exploring other external datasets that you may think are useful."
   ]
  },
  {
   "cell_type": "markdown",
   "id": "af361520",
   "metadata": {
    "deletable": false,
    "editable": false
   },
   "source": [
    "<!-- BEGIN QUESTION -->\n",
    "\n",
    "### Question 7a - Code and Analysis\n",
    "\n",
    "Please complete all of your analysis in the **single cell** below based on the prompt above.\n",
    "\n",
    "<!--\n",
    "BEGIN QUESTION\n",
    "name: q7a\n",
    "manual: True\n",
    "points: 10\n",
    "-->"
   ]
  },
  {
   "cell_type": "code",
   "execution_count": 105,
   "id": "942b9066-0d89-44e0-b627-46d455dd531a",
   "metadata": {},
   "outputs": [
    {
     "data": {
      "text/html": [
       "<div>\n",
       "<style scoped>\n",
       "    .dataframe tbody tr th:only-of-type {\n",
       "        vertical-align: middle;\n",
       "    }\n",
       "\n",
       "    .dataframe tbody tr th {\n",
       "        vertical-align: top;\n",
       "    }\n",
       "\n",
       "    .dataframe thead th {\n",
       "        text-align: right;\n",
       "    }\n",
       "</style>\n",
       "<table border=\"1\" class=\"dataframe\">\n",
       "  <thead>\n",
       "    <tr style=\"text-align: right;\">\n",
       "      <th></th>\n",
       "      <th>State Name</th>\n",
       "      <th>county Name</th>\n",
       "      <th>Month</th>\n",
       "      <th>Day</th>\n",
       "      <th>AQI</th>\n",
       "      <th>Category</th>\n",
       "      <th>Defining Site</th>\n",
       "    </tr>\n",
       "  </thead>\n",
       "  <tbody>\n",
       "    <tr>\n",
       "      <th>14003</th>\n",
       "      <td>California</td>\n",
       "      <td>Alameda</td>\n",
       "      <td>1</td>\n",
       "      <td>1</td>\n",
       "      <td>53</td>\n",
       "      <td>Moderate</td>\n",
       "      <td>06-001-0009</td>\n",
       "    </tr>\n",
       "    <tr>\n",
       "      <th>14004</th>\n",
       "      <td>California</td>\n",
       "      <td>Alameda</td>\n",
       "      <td>1</td>\n",
       "      <td>2</td>\n",
       "      <td>43</td>\n",
       "      <td>Good</td>\n",
       "      <td>06-001-0013</td>\n",
       "    </tr>\n",
       "    <tr>\n",
       "      <th>14005</th>\n",
       "      <td>California</td>\n",
       "      <td>Alameda</td>\n",
       "      <td>1</td>\n",
       "      <td>3</td>\n",
       "      <td>74</td>\n",
       "      <td>Moderate</td>\n",
       "      <td>06-001-0013</td>\n",
       "    </tr>\n",
       "    <tr>\n",
       "      <th>14006</th>\n",
       "      <td>California</td>\n",
       "      <td>Alameda</td>\n",
       "      <td>1</td>\n",
       "      <td>4</td>\n",
       "      <td>45</td>\n",
       "      <td>Good</td>\n",
       "      <td>06-001-0007</td>\n",
       "    </tr>\n",
       "    <tr>\n",
       "      <th>14007</th>\n",
       "      <td>California</td>\n",
       "      <td>Alameda</td>\n",
       "      <td>1</td>\n",
       "      <td>5</td>\n",
       "      <td>33</td>\n",
       "      <td>Good</td>\n",
       "      <td>06-001-0007</td>\n",
       "    </tr>\n",
       "    <tr>\n",
       "      <th>...</th>\n",
       "      <td>...</td>\n",
       "      <td>...</td>\n",
       "      <td>...</td>\n",
       "      <td>...</td>\n",
       "      <td>...</td>\n",
       "      <td>...</td>\n",
       "      <td>...</td>\n",
       "    </tr>\n",
       "    <tr>\n",
       "      <th>33223</th>\n",
       "      <td>California</td>\n",
       "      <td>Yolo</td>\n",
       "      <td>12</td>\n",
       "      <td>27</td>\n",
       "      <td>20</td>\n",
       "      <td>Good</td>\n",
       "      <td>06-113-0004</td>\n",
       "    </tr>\n",
       "    <tr>\n",
       "      <th>33224</th>\n",
       "      <td>California</td>\n",
       "      <td>Yolo</td>\n",
       "      <td>12</td>\n",
       "      <td>28</td>\n",
       "      <td>33</td>\n",
       "      <td>Good</td>\n",
       "      <td>06-113-0004</td>\n",
       "    </tr>\n",
       "    <tr>\n",
       "      <th>33225</th>\n",
       "      <td>California</td>\n",
       "      <td>Yolo</td>\n",
       "      <td>12</td>\n",
       "      <td>29</td>\n",
       "      <td>28</td>\n",
       "      <td>Good</td>\n",
       "      <td>06-113-0004</td>\n",
       "    </tr>\n",
       "    <tr>\n",
       "      <th>33226</th>\n",
       "      <td>California</td>\n",
       "      <td>Yolo</td>\n",
       "      <td>12</td>\n",
       "      <td>30</td>\n",
       "      <td>39</td>\n",
       "      <td>Good</td>\n",
       "      <td>06-113-0004</td>\n",
       "    </tr>\n",
       "    <tr>\n",
       "      <th>33227</th>\n",
       "      <td>California</td>\n",
       "      <td>Yolo</td>\n",
       "      <td>12</td>\n",
       "      <td>31</td>\n",
       "      <td>35</td>\n",
       "      <td>Good</td>\n",
       "      <td>06-113-0004</td>\n",
       "    </tr>\n",
       "  </tbody>\n",
       "</table>\n",
       "<p>19225 rows × 7 columns</p>\n",
       "</div>"
      ],
      "text/plain": [
       "       State Name county Name  Month  Day  AQI  Category Defining Site\n",
       "14003  California     Alameda      1    1   53  Moderate   06-001-0009\n",
       "14004  California     Alameda      1    2   43      Good   06-001-0013\n",
       "14005  California     Alameda      1    3   74  Moderate   06-001-0013\n",
       "14006  California     Alameda      1    4   45      Good   06-001-0007\n",
       "14007  California     Alameda      1    5   33      Good   06-001-0007\n",
       "...           ...         ...    ...  ...  ...       ...           ...\n",
       "33223  California        Yolo     12   27   20      Good   06-113-0004\n",
       "33224  California        Yolo     12   28   33      Good   06-113-0004\n",
       "33225  California        Yolo     12   29   28      Good   06-113-0004\n",
       "33226  California        Yolo     12   30   39      Good   06-113-0004\n",
       "33227  California        Yolo     12   31   35      Good   06-113-0004\n",
       "\n",
       "[19225 rows x 7 columns]"
      ]
     },
     "execution_count": 105,
     "metadata": {},
     "output_type": "execute_result"
    }
   ],
   "source": [
    "cleaned_county_aqi"
   ]
  },
  {
   "cell_type": "code",
   "execution_count": 106,
   "id": "d584c43f",
   "metadata": {},
   "outputs": [
    {
     "data": {
      "text/html": [
       "<div>\n",
       "<style scoped>\n",
       "    .dataframe tbody tr th:only-of-type {\n",
       "        vertical-align: middle;\n",
       "    }\n",
       "\n",
       "    .dataframe tbody tr th {\n",
       "        vertical-align: top;\n",
       "    }\n",
       "\n",
       "    .dataframe thead th {\n",
       "        text-align: right;\n",
       "    }\n",
       "</style>\n",
       "<table border=\"1\" class=\"dataframe\">\n",
       "  <thead>\n",
       "    <tr style=\"text-align: right;\">\n",
       "      <th></th>\n",
       "      <th>county Name</th>\n",
       "      <th>Median AQI</th>\n",
       "      <th>90th Percentile AQI</th>\n",
       "      <th>Min AQI</th>\n",
       "      <th>White alone</th>\n",
       "      <th>Black or African American alone</th>\n",
       "      <th>American Indian and Alaska Native alone</th>\n",
       "      <th>Asian alone</th>\n",
       "      <th>Native Hawaiian and Other Pacific Islander alone</th>\n",
       "    </tr>\n",
       "  </thead>\n",
       "  <tbody>\n",
       "    <tr>\n",
       "      <th>43</th>\n",
       "      <td>Solano</td>\n",
       "      <td>41.0</td>\n",
       "      <td>75.0</td>\n",
       "      <td>19</td>\n",
       "      <td>0.548862</td>\n",
       "      <td>0.194094</td>\n",
       "      <td>0.016825</td>\n",
       "      <td>0.227223</td>\n",
       "      <td>0.012996</td>\n",
       "    </tr>\n",
       "    <tr>\n",
       "      <th>32</th>\n",
       "      <td>San Bernardino</td>\n",
       "      <td>93.0</td>\n",
       "      <td>185.0</td>\n",
       "      <td>36</td>\n",
       "      <td>0.652972</td>\n",
       "      <td>0.153970</td>\n",
       "      <td>0.034758</td>\n",
       "      <td>0.152076</td>\n",
       "      <td>0.006224</td>\n",
       "    </tr>\n",
       "    <tr>\n",
       "      <th>16</th>\n",
       "      <td>Los Angeles</td>\n",
       "      <td>83.0</td>\n",
       "      <td>164.0</td>\n",
       "      <td>28</td>\n",
       "      <td>0.567670</td>\n",
       "      <td>0.138348</td>\n",
       "      <td>0.028469</td>\n",
       "      <td>0.261241</td>\n",
       "      <td>0.004271</td>\n",
       "    </tr>\n",
       "    <tr>\n",
       "      <th>0</th>\n",
       "      <td>Alameda</td>\n",
       "      <td>43.0</td>\n",
       "      <td>79.0</td>\n",
       "      <td>20</td>\n",
       "      <td>0.413199</td>\n",
       "      <td>0.130056</td>\n",
       "      <td>0.015507</td>\n",
       "      <td>0.430099</td>\n",
       "      <td>0.011140</td>\n",
       "    </tr>\n",
       "    <tr>\n",
       "      <th>30</th>\n",
       "      <td>Sacramento</td>\n",
       "      <td>51.5</td>\n",
       "      <td>100.0</td>\n",
       "      <td>26</td>\n",
       "      <td>0.602561</td>\n",
       "      <td>0.128637</td>\n",
       "      <td>0.015690</td>\n",
       "      <td>0.237189</td>\n",
       "      <td>0.015924</td>\n",
       "    </tr>\n",
       "  </tbody>\n",
       "</table>\n",
       "</div>"
      ],
      "text/plain": [
       "       county Name  Median AQI  90th Percentile AQI  Min AQI  White alone  \\\n",
       "43          Solano        41.0                 75.0       19     0.548862   \n",
       "32  San Bernardino        93.0                185.0       36     0.652972   \n",
       "16     Los Angeles        83.0                164.0       28     0.567670   \n",
       "0          Alameda        43.0                 79.0       20     0.413199   \n",
       "30      Sacramento        51.5                100.0       26     0.602561   \n",
       "\n",
       "    Black or African American alone  American Indian and Alaska Native alone  \\\n",
       "43                         0.194094                                 0.016825   \n",
       "32                         0.153970                                 0.034758   \n",
       "16                         0.138348                                 0.028469   \n",
       "0                          0.130056                                 0.015507   \n",
       "30                         0.128637                                 0.015690   \n",
       "\n",
       "    Asian alone  Native Hawaiian and Other Pacific Islander alone  \n",
       "43     0.227223                                          0.012996  \n",
       "32     0.152076                                          0.006224  \n",
       "16     0.261241                                          0.004271  \n",
       "0      0.430099                                          0.011140  \n",
       "30     0.237189                                          0.015924  "
      ]
     },
     "execution_count": 106,
     "metadata": {},
     "output_type": "execute_result"
    }
   ],
   "source": [
    "# Looking at race and AQI across counties in CA\n",
    "# Create new cleaned AQI table grouped by county\n",
    "stats_county_aqi = cleaned_county_aqi.groupby(\"county Name\").median().drop([\"Month\", \"Day\"], axis=1)\n",
    "top90_aqi = cleaned_county_aqi.groupby(\"county Name\").quantile(0.9).drop([\"Month\", \"Day\"], axis=1)\n",
    "min_aqi = cleaned_county_aqi.groupby(\"county Name\").min().drop([\"Month\", \"Day\"], axis=1)\n",
    "\n",
    "stats_county_aqi[\"90th Percentile AQI\"] = top90_aqi[\"AQI\"]\n",
    "stats_county_aqi[\"Min AQI\"] = min_aqi[\"AQI\"]\n",
    "stats_county_aqi = stats_county_aqi.rename(columns={\"AQI\": \"Median AQI\"})\n",
    "\n",
    "# Reading in table of race demographics by county in CA\n",
    "ca_race = pd.read_excel('data/CA2020_race.xlsx')\n",
    "ca_race = ca_race.rename(columns={'Label': 'county Name'}).iloc[2:7]\n",
    "ca_race = ca_race.set_index(\"county Name\").transpose()\n",
    "\n",
    "# Clean ca_race data\n",
    "ca_race = ca_race.replace(',','', regex=True)\n",
    "ca_race = ca_race.apply(pd.to_numeric)\n",
    "\n",
    "# Convert population numbers into proportions\n",
    "prop_ca_race = ca_race.div(ca_race.sum(axis=1), axis=0)\n",
    "prop_ca_race = prop_ca_race.reset_index()\n",
    "prop_ca_race = prop_ca_race.rename(columns={'index': 'county Name'})\n",
    "prop_ca_race\n",
    "prop_ca_race['county Name'] = prop_ca_race['county Name'].str.extract(r'(.*) County,')\n",
    "\n",
    "stats_county_aqi = stats_county_aqi.reset_index()\n",
    "stats_county_aqi = stats_county_aqi.rename(columns={'index': 'county Name'})\n",
    "# Joined race and AQI tables\n",
    "joint_race_aqi = stats_county_aqi.merge(prop_ca_race, how = 'left', on = \"county Name\").sort_values(by=\"Black or African American alone\", ascending=False)\n",
    "joint_race_aqi.head()\n"
   ]
  },
  {
   "cell_type": "markdown",
   "id": "e40a68bb",
   "metadata": {
    "deletable": false,
    "editable": false
   },
   "source": [
    "<!-- END QUESTION -->\n",
    "\n",
    "<!-- BEGIN QUESTION -->\n",
    "\n",
    "<br/>\n",
    "\n",
    "### Question 7b - Visualization\n",
    "\n",
    "Please create **two** visualizations to summarize your analysis above. The only restrictions are that these visualizations **cannot** simply be scatterplots between two features in the dataset(s) and **cannot** be of the same type (dont make two bar graphs, for example). \n",
    "\n",
    "<!--\n",
    "BEGIN QUESTION\n",
    "name: q7b\n",
    "manual: True\n",
    "points: 4\n",
    "-->"
   ]
  },
  {
   "cell_type": "code",
   "execution_count": 107,
   "id": "3f94c859",
   "metadata": {},
   "outputs": [
    {
     "name": "stdout",
     "output_type": "stream",
     "text": [
      "r for Black Prop v. AQI is: 0.5365355787129255\n"
     ]
    },
    {
     "data": {
      "image/png": "[encoded data removed]",
      "text/plain": [
       "<Figure size 360x360 with 1 Axes>"
      ]
     },
     "metadata": {
      "needs_background": "light"
     },
     "output_type": "display_data"
    },
    {
     "data": {
      "image/png": "[encoded data removed]",
      "text/plain": [
       "<Figure size 360x360 with 1 Axes>"
      ]
     },
     "metadata": {
      "needs_background": "light"
     },
     "output_type": "display_data"
    },
    {
     "data": {
      "image/png": "[encoded data removed]",
      "text/plain": [
       "<Figure size 360x360 with 1 Axes>"
      ]
     },
     "metadata": {
      "needs_background": "light"
     },
     "output_type": "display_data"
    },
    {
     "data": {
      "image/png": "[encoded data removed]",
      "text/plain": [
       "<Figure size 360x360 with 1 Axes>"
      ]
     },
     "metadata": {
      "needs_background": "light"
     },
     "output_type": "display_data"
    }
   ],
   "source": [
    "# several lmplots across race\n",
    "race_aqi_lm = sns.lmplot(x=\"Black or African American alone\", y=\"Median AQI\", data=joint_race_aqi);\n",
    "print(\"r for Black Prop v. AQI is: \" + str(np.corrcoef(joint_race_aqi['Black or African American alone'], joint_race_aqi['Median AQI'])[0,1]))\n",
    "race_aqi_lm = sns.lmplot(x=\"White alone\", y=\"Median AQI\", data=joint_race_aqi);\n",
    "race_aqi_lm = sns.lmplot(x=\"American Indian and Alaska Native alone\", y=\"Median AQI\", data=joint_race_aqi);\n",
    "race_aqi_lm = sns.lmplot(x=\"Asian alone\", y=\"Median AQI\", data=joint_race_aqi);"
   ]
  },
  {
   "cell_type": "code",
   "execution_count": 108,
   "id": "1e37c5cc-7ae8-4a60-ab9a-5736a73425da",
   "metadata": {},
   "outputs": [
    {
     "data": {
      "image/png": "[encoded data removed]",
      "text/plain": [
       "<Figure size 432x288 with 1 Axes>"
      ]
     },
     "metadata": {
      "needs_background": "light"
     },
     "output_type": "display_data"
    }
   ],
   "source": [
    "ten_highest = joint_race_aqi.sort_values(by = ['Median AQI'], ascending = False).head(10)\n",
    "plt.bar(ten_highest['county Name'], ten_highest['Median AQI'])\n",
    "plt.bar(ten_highest['county Name'], ten_highest['White alone'] * ten_highest['Median AQI'])\n",
    "ax = plt.bar(ten_highest['county Name'], ten_highest['Black or African American alone'] * ten_highest['Median AQI'], bottom = ten_highest['White alone'])\n",
    "plt.xticks(rotation = 45)\n",
    "plt.title(\"Proportion of White and Black or African American population in Highest AQI Counties\")\n",
    "plt.xlabel(\"Counties with highest AQI\")\n",
    "plt.ylabel(\"AQI\")\n",
    "plt.legend(labels = ['Other','Caucasian','African American'], bbox_to_anchor=(1.4, 1));"
   ]
  },
  {
   "cell_type": "code",
   "execution_count": 109,
   "id": "6ae27b66-968c-4a4e-8545-e48b15bd9f53",
   "metadata": {},
   "outputs": [
    {
     "data": {
      "image/png": "[encoded data removed]",
      "text/plain": [
       "<Figure size 432x288 with 1 Axes>"
      ]
     },
     "metadata": {
      "needs_background": "light"
     },
     "output_type": "display_data"
    }
   ],
   "source": [
    "ten_lowest = joint_race_aqi.sort_values(by = ['Median AQI']).head(10)\n",
    "plt.bar(ten_lowest['county Name'], ten_lowest['Median AQI'])\n",
    "plt.bar(ten_lowest['county Name'], ten_lowest['White alone'] * ten_lowest['Median AQI'])\n",
    "plt.bar(ten_lowest['county Name'], ten_lowest['Black or African American alone'] * ten_lowest['Median AQI'], bottom = ten_lowest['White alone'])\n",
    "plt.xticks(rotation = 45)\n",
    "plt.title(\"Proportion of White and Black or African American population in Lowest AQI Counties\")\n",
    "plt.xlabel(\"Counties with lowest AQI\")\n",
    "plt.ylabel(\"AQI\")\n",
    "plt.legend(labels = ['Other','Caucasian','African American'], bbox_to_anchor=(1, 1));"
   ]
  },
  {
   "cell_type": "markdown",
   "id": "331e4060",
   "metadata": {
    "deletable": false,
    "editable": false
   },
   "source": [
    "<!-- END QUESTION -->\n",
    "\n",
    "<!-- BEGIN QUESTION -->\n",
    "\n",
    "<br/>\n",
    "\n",
    "### Question 7c - Summary\n",
    "\n",
    "In a paragraph, summarize the your findings and visualizations and explain how they will be useful for predicting AQI. Make sure that your answer is thoughtful and detailed in that it describes what you did and how you reached your conclusion. \n",
    "\n",
    "<!--\n",
    "BEGIN QUESTION\n",
    "name: q7c\n",
    "manual: True\n",
    "points: 4\n",
    "-->"
   ]
  },
  {
   "cell_type": "markdown",
   "id": "540a0fb7",
   "metadata": {},
   "source": [
    "_Due to California's history of redlining and other racially discriminatory acts/policies, we wanted to look at how demography relates to AQI, focusing on BIPOC vs White populations' relationships to AQI. First we looked at the relationship between individual racial proportions and median AQI using lmplots. We can see a positive correlation between the proportion of Black or African Americans in the county versus AQI, whereas the proportion of Whites had a negative correlation with AQI. Asians and American Indian/Alaska Native do not seem to show any correlation with AQI._\n",
    "\n",
    "\n",
    "_To compare the two groups with correlation against each other, we used a stacked bar plot where the Black proportion shows as green, the White proportion as orange, and the total AQI shows as blue. By comparing the 10 counties of the highest and lowest AQIs, we can see that the highest AQI counties have a greater proportion of Blacks or African Americans versus Whites than the lowest AQI counties._\n"
   ]
  },
  {
   "cell_type": "markdown",
   "id": "7bed937a",
   "metadata": {},
   "source": [
    "<!-- END QUESTION -->\n",
    "\n",
    "\n",
    "\n",
    "<br/><br/>\n",
    "\n",
    "---\n",
    "## Part 4: Guided Modeling\n",
    "\n",
    "For this part, we will be looking at some open-ended modeling approaches to answering the question of predicting AQI given a location and a date. \n",
    "\n",
    "### Question 8 - Interpolation\n",
    "\n",
    "For this part, we will be using a simple interpolation to find the missing grid values for AQI on the heatmap visualization that you produced in part 1. Simple linear interpolation just takes the locations' values and averages them to produce an estimate of the current location. Though this is not as predictive (we are not predicting based on features about the location itself), it will give you a sense of the task at hand for the remainder of the project. \n",
    "\n",
    "As a reminder, the heatmap produced after running the cell below is the one you produced for question 6b when creating a visualization for the AQI in California for the month of september. It produces white spaces where there exist `NaN` values in the pivot table. "
   ]
  },
  {
   "cell_type": "code",
   "execution_count": 110,
   "id": "61fe3c84",
   "metadata": {},
   "outputs": [
    {
     "data": {
      "image/png": "[encoded data removed]",
      "text/plain": [
       "<Figure size 1080x576 with 2 Axes>"
      ]
     },
     "metadata": {
      "needs_background": "light"
     },
     "output_type": "display_data"
    }
   ],
   "source": [
    "table_sep = epa_data_CA_merged[epa_data_CA_merged['Month'] == 9]\n",
    "heatmap_data = bucket_data(table_sep, np.median, 25)\n",
    "\n",
    "plt.figure(figsize=(15, 8))\n",
    "ax = sns.heatmap(heatmap_data, vmin=0, vmax=230, cmap = sns.cm.rocket_r)\n",
    "ax.invert_yaxis()\n",
    "plt.show()"
   ]
  },
  {
   "cell_type": "markdown",
   "id": "518c3a87",
   "metadata": {
    "deletable": false,
    "editable": false
   },
   "source": [
    "<br/>\n",
    "\n",
    "### Question 8a - Simple Linear Interpolation\n",
    "As previously mentioned, interpolation is a technique that is used to predict labels in a dataset by forming a model out of the data that is already labelled. In this case, we have a pivot table that we use to create a heatmap, but there contains many `NaN` values that we want to fill in. \n",
    "\n",
    "- Create the function `fill_bucket` that takes in the following parameters:\n",
    "    - `pivot_table`: the pivot table that we are providing. \n",
    "    - `lat_bucket`: the bucket number that the latitude is in, indexed by zero. ex. if there are 25 buckets, they are numbered $ 0, 2, \\dots 24 $, from lowest to highest value latitudes. \n",
    "    - `lon_bucket`: the bucket number that the longitude is in, indexed by zero. ex. if there are 25 buckets, they are numbered $ 0, 2, \\dots 24 $. from lowest to highest value longitudes.\n",
    "    \n",
    "- In the pivot table, every value has cells above (A cells), cells below (B cells), cells to the left (L cells), and cells to the right (R cells). We will say that a direction (R for example) is valid if and only if there exists a cell **anywhere** to its right that is not `NaN`. The closest such cell will be called the \"closest R cell\". The same goes for the rest of the directions. For the cases below, assuming that our current cell is called cell K. \n",
    "    - If cell K is not `NaN`, then simply return the AQI at that given cell.\n",
    "    - **Only** if there are **at least** three valid directional cells (ex. has A, B, and L valid but not R valid), we will call K *interpolable*. If K is *interpolable*, then interpolate K by assigning it an AQI value equal to the average of the closest cell AQIs in each of the valid directions. \n",
    "    - If K is *not interpolable*, then do not do anything and simply return `NaN`.\n",
    "- The return value of `fill_bucket` should be the the value assigned to K. **DO NOT** mutate the cell K in the pivot table yet.\n",
    "\n",
    "<!--\n",
    "BEGIN QUESTION\n",
    "name: q8a\n",
    "points: 6\n",
    "-->"
   ]
  },
  {
   "cell_type": "code",
   "execution_count": 111,
   "id": "dd43b812",
   "metadata": {},
   "outputs": [],
   "source": [
    "def fill_bucket(pivot_table, lat_bucket, lon_bucket):\n",
    "    valid = 0\n",
    "    prox_values = []\n",
    "    \n",
    "    if not np.isnan(pivot_table.iloc[lat_bucket, lon_bucket]):\n",
    "        return pivot_table.iloc[lat_bucket, lon_bucket]\n",
    "    else:\n",
    "        # checks left\n",
    "        if not np.isnan(pivot_table.iloc[lat_bucket, :lon_bucket]).all():\n",
    "            valid += 1\n",
    "            for x in pivot_table.iloc[lat_bucket, :lon_bucket].sort_index(ascending=False):\n",
    "                if not np.isnan(x):\n",
    "                    prox_values.append(x)\n",
    "                    break\n",
    "                    \n",
    "        # checks right\n",
    "        if not np.isnan(pivot_table.iloc[lat_bucket, (lon_bucket + 1):]).all():\n",
    "            valid += 1         \n",
    "            for x in pivot_table.iloc[lat_bucket, (lon_bucket + 1):]:\n",
    "                if not np.isnan(x):\n",
    "                    prox_values.append(x) \n",
    "                    break\n",
    "         \n",
    "        # checks below\n",
    "        if not np.isnan(pivot_table.iloc[:lat_bucket, lon_bucket]).all():\n",
    "            valid += 1 \n",
    "            for x in pivot_table.iloc[:lat_bucket, lon_bucket].sort_index(ascending=False):\n",
    "                if not np.isnan(x):\n",
    "                    prox_values.append(x)\n",
    "                    break\n",
    "        \n",
    "        # checks above\n",
    "        if not np.isnan(pivot_table.iloc[(lat_bucket + 1):, lon_bucket]).all():\n",
    "            valid += 1\n",
    "            for x in pivot_table.iloc[(lat_bucket + 1):, lon_bucket]:\n",
    "                if not np.isnan(x):\n",
    "                    prox_values.append(x)  \n",
    "                    break\n",
    "    if valid >= 3:\n",
    "        return np.mean(prox_values)\n",
    "    else:\n",
    "        return np.nan\n"
   ]
  },
  {
   "cell_type": "code",
   "execution_count": 112,
   "id": "62eab44a",
   "metadata": {
    "deletable": false,
    "editable": false
   },
   "outputs": [
    {
     "data": {
      "text/html": [
       "<p><strong><pre style='display: inline;'>q8a</pre></strong> passed!</p>"
      ],
      "text/plain": [
       "q8a results: All test cases passed!"
      ]
     },
     "execution_count": 112,
     "metadata": {},
     "output_type": "execute_result"
    }
   ],
   "source": [
    "grader.check(\"q8a\")"
   ]
  },
  {
   "cell_type": "markdown",
   "id": "1f24e9a7",
   "metadata": {
    "deletable": false,
    "editable": false
   },
   "source": [
    "def fill_all(pivot_table):\n",
    "    pivot_table_copy = pivot_table\n",
    "    rows = pivot_table.shape[1] \n",
    "    columns = pivot_table.shape[0] \n",
    "    for i in np.arange(columns):\n",
    "        for j in np.arange(rows):\n",
    "            pivot_table_copy.iloc[i,j] = fill_bucket(pivot_table, i, j)\n",
    "    return pivot_table_copy\n",
    "\n",
    "filled_heatmap_data = fill_all(heatmap_data)\n",
    "\n",
    "plt.figure(figsize=(15, 8))\n",
    "ax = sns.heatmap(filled_heatmap_data, vmin=0, vmax=230, cmap = sns.cm.rocket_r)\n",
    "ax.invert_yaxis()\n",
    "plt.show()   \n",
    "<br/>\n",
    "\n",
    "### Question 8b - Create Filled Heatmap\n",
    "\n",
    "Now that you have created the `fill_bucket` function, we want to actually use it to fill in the values in `heatmap_data`. Complete the function `fill_all` that takes in the pivot table and fills in all the values and produces a pivot table with the updated values. **DO NOT** mutate the original pivot table. Instead, produce a new pivot table that that contains the filled values. \n",
    "\n",
    "One point to note is that when we update a cell here, we do not use any surrounding *interpolated* cells to do our interpolation on any given cell. As a result, we will always use the **original** pivot table to find surrounding cells and interpolate.\n",
    "\n",
    "<!--\n",
    "BEGIN QUESTION\n",
    "name: q8b\n",
    "points: 3\n",
    "-->"
   ]
  },
  {
   "cell_type": "code",
   "execution_count": 113,
   "id": "30dc5001",
   "metadata": {
    "tags": []
   },
   "outputs": [
    {
     "data": {
      "image/png": "[encoded data removed]",
      "text/plain": [
       "<Figure size 1080x576 with 2 Axes>"
      ]
     },
     "metadata": {
      "needs_background": "light"
     },
     "output_type": "display_data"
    }
   ],
   "source": [
    "def fill_all(pivot_table):\n",
    "    pivot_table_copy = pivot_table\n",
    "    rows = pivot_table.shape[1] \n",
    "    columns = pivot_table.shape[0] \n",
    "    for i in np.arange(columns):\n",
    "        for j in np.arange(rows):\n",
    "            pivot_table_copy.iloc[i,j] = fill_bucket(pivot_table, i, j)\n",
    "    return pivot_table_copy\n",
    "\n",
    "filled_heatmap_data = fill_all(heatmap_data)\n",
    "\n",
    "plt.figure(figsize=(15, 8))\n",
    "ax = sns.heatmap(filled_heatmap_data, vmin=0, vmax=230, cmap = sns.cm.rocket_r)\n",
    "ax.invert_yaxis()\n",
    "plt.show()   \n"
   ]
  },
  {
   "cell_type": "code",
   "execution_count": 114,
   "id": "d94c73af",
   "metadata": {
    "deletable": false,
    "editable": false
   },
   "outputs": [
    {
     "data": {
      "text/html": [
       "<p><strong><pre style='display: inline;'>q8b</pre></strong> passed!</p>"
      ],
      "text/plain": [
       "q8b results: All test cases passed!"
      ]
     },
     "execution_count": 114,
     "metadata": {},
     "output_type": "execute_result"
    }
   ],
   "source": [
    "grader.check(\"q8b\")"
   ]
  },
  {
   "cell_type": "markdown",
   "id": "463b7e54",
   "metadata": {
    "deletable": false,
    "editable": false
   },
   "source": [
    "<!-- BEGIN QUESTION -->\n",
    "\n",
    "<br/>\n",
    "\n",
    "### Question 8c - Other Interpolation Ideas\n",
    "\n",
    "Instead of just interpolating in a simple fashion as we did above, suggest one other way to interpolate (that actually works so do not just say \"put the average of all cells in every `NaN` cell). For example, you can take into account of the distance of the surrounding cells, the number of cells you use, and more. \n",
    "\n",
    "<!--\n",
    "BEGIN QUESTION\n",
    "name: q8c\n",
    "points: 2\n",
    "manual: True\n",
    "-->"
   ]
  },
  {
   "cell_type": "markdown",
   "id": "102cfb47",
   "metadata": {},
   "source": [
    "_Another interpolation method would be to scale the value of the Above, Below, Right, and Left value by distance. As such we can utilize the same method we used in 8a but take into account distance. For instance, if the NaN cell has a value above it (meaning that there are no additional empty spaces from the NaN cell to a non-NaN cell), we can use that value itself without scaling by any factor. However, if for that same NaN cell, there is a non-NaN value 4 spaces to the right, we can scale that value by 0.1 * number of NaN cells (or any other value to represent the distance), decreasing the weight of that cell on our interpolated value._"
   ]
  },
  {
   "cell_type": "markdown",
   "id": "256edc81",
   "metadata": {
    "deletable": false,
    "editable": false
   },
   "source": [
    "<!-- END QUESTION -->\n",
    "\n",
    "<!-- BEGIN QUESTION -->\n",
    "\n",
    "<br/>\n",
    "\n",
    "### Question 9 - Choosing your Loss Function\n",
    "\n",
    "Let us say that you are trying to define a loss function $L(x_{i}, y_{i})$ to use for model, where $x_{i}$ is the input and the $y_{i}$ is a qualitative variable that that model outputs, consisting of the following five groups: good, moderate, unhealthy for sensitive groups, unhealthy, very unhealthy, or hazardous. How would you design your loss function to evaluate your model?\n",
    "\n",
    "<!--\n",
    "BEGIN QUESTION\n",
    "name: q9\n",
    "manual: True\n",
    "points: 2\n",
    "-->"
   ]
  },
  {
   "cell_type": "markdown",
   "id": "06e863ad",
   "metadata": {},
   "source": [
    "_I would design my loss function to determine how far the model's estimated output $\\hat{y}$ differs from the actual $y_i$. Since the categorical variable of the 6 AQI groups are of different magnitude/extremety, using an absolute value function could be useful to take into account how large the error in estimation is. For example, for a given $i$, let's say $x_i$ yields  $\\hat{y_i} =$ unhealthy for sensitive groups. If $y_i$ is $good$, the loss function would yield a greater loss for $\\hat{y_i} =$ $unhealthy for sensitive groups$ than if $y_i=$ $moderate$. The loss function would output 0 loss if $\\hat{y_i} = y_i$. If we utilize this absolute value, the summed value over all $i$ may be too large so I would take the mean of the absolute values as my loss function._"
   ]
  },
  {
   "cell_type": "markdown",
   "id": "2ea97f3e",
   "metadata": {},
   "source": [
    "<!-- END QUESTION -->\n",
    "\n",
    "\n",
    "\n",
    "</br></br>\n",
    "\n",
    "### Question 10: Creating your own Model!\n",
    "\n",
    "Now that you have an idea of how to interpolate values, we will be using something more predictive. In this part, your final goal is to be creating a model and function that uses **at least four** features, with at least one of those four features being from an external dataset that you bring in and process yourself. Here are some rules on the model that you should follow: \n",
    "\n",
    "- Using your open-ended EDA analysis, use at least three features in the dataset provided to come up with some sort of predictive model for the AQI for remaining locations not predicted in the heatmap. You are **NOT** allowed to use any more than **one** of the particulate matter features for this model i.e. ozone or CO2 concentrations for example. \n",
    "    - The reason behind this is that AQI is directly based on these values, so there will be in some sense a near 100\\% correlation between AQI and these features under some transformations. \n",
    "- Use at least one feature that comes from an external dataset of choice. Some examples are geographical region (categorical), elevation (quantitative), or wilfire data. \n",
    "    - Reference question 2c of this project to see how to merge external data with the current EPA data.\n",
    "- Your model should, at the end, predict one of the following broad categories for the AQI: good, moderate, unhealthy for sensitive groups, unhealthy, very unhealthy, or hazardous. Note that this specification is different from `fill_bucket` in the sense that instead of returning a value, you will be returning a string for a category.\n",
    "    - As a result, you can either directly predict the category, or the AQI (ex. through regression) and then convert to the category. Category ranges for AQI can be found online.\n",
    "- The final model should be validated with some data that you hold out. You decide how to do this but there should be some model validation accuracy reported. You should be using the loss function that you designed in question 3 in order to do this.\n",
    "\n",
    "---\n",
    "\n",
    "#### Deliverables\n",
    "<br/>\n",
    "\n",
    "**`features`**: This should be a `pd.DataFrame` object that represents the design matrix that will be fed in as input to your model. Each row represents a data point and each column represents a feature. Essentially your $X$ matrix. \n",
    "\n",
    "**`targets`**: This should be a numpy array that where each value corresponds to the AQI value or AQI category for each of the data points in `features`. Essentially your $y$ vector. \n",
    "\n",
    "**`build_model`**: This function should have two parameters: `features` that will be used as input into your model as a `pd.DataFrame` object, and `targets` should be a numpy array of AQI values OR AQI categories. It should return a *function* or *object* that represents your model.\n",
    "\n",
    "**`predict`**: This function should have two parameters: `model`, the model that you build from the previous function `build_model`, and `features` that represent the design matrix for the test values that we want to predict. It should return the **AQI category** (not a value) that the model predicts for these inputs."
   ]
  },
  {
   "cell_type": "markdown",
   "id": "cc24c2fc",
   "metadata": {
    "deletable": false,
    "editable": false
   },
   "source": [
    "<!-- BEGIN QUESTION -->\n",
    "\n",
    "<br/>\n",
    "\n",
    "### Question 10a: Choose Features and Model\n",
    "\n",
    "First, decide on the features that you will be using for your model. How predictive do you think each of the features that you chose will be of the AQI category? Then, how will you choose to make your model (multiple regression, decision trees, etc.)?\n",
    "\n",
    "<!--\n",
    "BEGIN QUESTION\n",
    "name: q10a\n",
    "points: 2\n",
    "manual: True\n",
    "-->"
   ]
  },
  {
   "cell_type": "markdown",
   "id": "5a8c83ba",
   "metadata": {},
   "source": [
    "_The features that we will be using for our model are region (determined by the county), average AADT (Average Annual Daily Traffic by county), total population (by county), average population density (by county), season (determined by month), ozone level (by parts per million), latitude/longitude, and elevation. (AADT comes from the included traffic dataset; Total population and Average Population Density from external dataset sourced from U.S. Census, the external dataset features are commented out for atuograder) I think that ozone level will be very predictive of the AQI category since air particulate matter is very correlated with AQI. Additionally, I think that population density will be fairly predictive of AQI category since higher density would correlate to higher use of resources such as gas for transportation. We also chose season as a feature because we believe that seasons like Summer and Spring are more prone to wildfires meaning that AQI during these time frames may be higher. As for latitude/longitude, we think it will be less predictive of AQI but we wanted to include it because it is a quantitative variable versus the categorical variable of region. Finally, we think that elevation will be fairly predictive of AQI category since elevation may be related with other variables like wind speed (which affects AQI)._\n",
    "\n",
    "_We will choose to make our multiple regression model by first conducting a train-test split on our cleaned data-set of CA dataset. Then we will utilize a feature function to create a design matrix from the training set by utilizing OHE/dummies for categorical variables and standardizing numerical variables appropriately. Once we create a design matrix, we will utilize our build_model function to create a model and fit our model to our training data (design matrix and targets). Then we will test our model by first predicting AQI using our test-data as an input into our model fitted on training data and utilizing the loss function that we described above to determine whether our model is effective._\n"
   ]
  },
  {
   "cell_type": "markdown",
   "id": "ba5c84a3",
   "metadata": {
    "deletable": false,
    "editable": false
   },
   "source": [
    "<!-- END QUESTION -->\n",
    "\n",
    "<br/>\n",
    "\n",
    "### Question 10b: Build Features\n",
    "\n",
    "Create the `build_features` function as described at the beginning of this part. You should also do any cleaning or merging of internal or external datasets in this part. Make sure to read the specifications of the function very carefully. The autograder will provide some sanity checks on your output.\n",
    "\n",
    "<!--\n",
    "BEGIN QUESTION\n",
    "name: q10b\n",
    "points: 3\n",
    "-->"
   ]
  },
  {
   "cell_type": "code",
   "execution_count": 115,
   "id": "2f8f1206-3401-4737-a8d6-526e60dd026e",
   "metadata": {},
   "outputs": [
    {
     "data": {
      "text/html": [
       "<div>\n",
       "<style scoped>\n",
       "    .dataframe tbody tr th:only-of-type {\n",
       "        vertical-align: middle;\n",
       "    }\n",
       "\n",
       "    .dataframe tbody tr th {\n",
       "        vertical-align: top;\n",
       "    }\n",
       "\n",
       "    .dataframe thead th {\n",
       "        text-align: right;\n",
       "    }\n",
       "</style>\n",
       "<table border=\"1\" class=\"dataframe\">\n",
       "  <thead>\n",
       "    <tr style=\"text-align: right;\">\n",
       "      <th></th>\n",
       "      <th>County Code</th>\n",
       "      <th>Site Number</th>\n",
       "      <th>Date Local</th>\n",
       "      <th>Average Ozone PPM</th>\n",
       "      <th>1st Max Value</th>\n",
       "      <th>1st Max Hour</th>\n",
       "      <th>AQI</th>\n",
       "      <th>County Name</th>\n",
       "      <th>City Name</th>\n",
       "      <th>Season</th>\n",
       "      <th>Latitude</th>\n",
       "      <th>Longitude</th>\n",
       "      <th>Elevation</th>\n",
       "      <th>Avg AADT</th>\n",
       "    </tr>\n",
       "  </thead>\n",
       "  <tbody>\n",
       "    <tr>\n",
       "      <th>24239</th>\n",
       "      <td>001</td>\n",
       "      <td>0007</td>\n",
       "      <td>2020-01-01</td>\n",
       "      <td>0.019471</td>\n",
       "      <td>0.025</td>\n",
       "      <td>10</td>\n",
       "      <td>23</td>\n",
       "      <td>Alameda</td>\n",
       "      <td>Livermore</td>\n",
       "      <td>Winter</td>\n",
       "      <td>37.687526</td>\n",
       "      <td>-121.784217</td>\n",
       "      <td>137.0</td>\n",
       "      <td>386344</td>\n",
       "    </tr>\n",
       "    <tr>\n",
       "      <th>24239</th>\n",
       "      <td>001</td>\n",
       "      <td>0007</td>\n",
       "      <td>2020-01-01</td>\n",
       "      <td>0.019471</td>\n",
       "      <td>0.025</td>\n",
       "      <td>10</td>\n",
       "      <td>23</td>\n",
       "      <td>Alameda</td>\n",
       "      <td>Livermore</td>\n",
       "      <td>Winter</td>\n",
       "      <td>39.708454</td>\n",
       "      <td>-121.617309</td>\n",
       "      <td>0.0</td>\n",
       "      <td>386344</td>\n",
       "    </tr>\n",
       "    <tr>\n",
       "      <th>24239</th>\n",
       "      <td>001</td>\n",
       "      <td>0007</td>\n",
       "      <td>2020-01-01</td>\n",
       "      <td>0.019471</td>\n",
       "      <td>0.025</td>\n",
       "      <td>10</td>\n",
       "      <td>23</td>\n",
       "      <td>Alameda</td>\n",
       "      <td>Livermore</td>\n",
       "      <td>Winter</td>\n",
       "      <td>39.021221</td>\n",
       "      <td>-122.281803</td>\n",
       "      <td>696.0</td>\n",
       "      <td>386344</td>\n",
       "    </tr>\n",
       "    <tr>\n",
       "      <th>24239</th>\n",
       "      <td>001</td>\n",
       "      <td>0007</td>\n",
       "      <td>2020-01-01</td>\n",
       "      <td>0.019471</td>\n",
       "      <td>0.025</td>\n",
       "      <td>10</td>\n",
       "      <td>23</td>\n",
       "      <td>Alameda</td>\n",
       "      <td>Livermore</td>\n",
       "      <td>Winter</td>\n",
       "      <td>38.034331</td>\n",
       "      <td>-122.270336</td>\n",
       "      <td>12.0</td>\n",
       "      <td>386344</td>\n",
       "    </tr>\n",
       "    <tr>\n",
       "      <th>24239</th>\n",
       "      <td>001</td>\n",
       "      <td>0007</td>\n",
       "      <td>2020-01-01</td>\n",
       "      <td>0.019471</td>\n",
       "      <td>0.025</td>\n",
       "      <td>10</td>\n",
       "      <td>23</td>\n",
       "      <td>Alameda</td>\n",
       "      <td>Livermore</td>\n",
       "      <td>Winter</td>\n",
       "      <td>41.756130</td>\n",
       "      <td>-124.203470</td>\n",
       "      <td>13.0</td>\n",
       "      <td>386344</td>\n",
       "    </tr>\n",
       "  </tbody>\n",
       "</table>\n",
       "</div>"
      ],
      "text/plain": [
       "      County Code Site Number  Date Local  Average Ozone PPM  1st Max Value  \\\n",
       "24239         001        0007  2020-01-01           0.019471          0.025   \n",
       "24239         001        0007  2020-01-01           0.019471          0.025   \n",
       "24239         001        0007  2020-01-01           0.019471          0.025   \n",
       "24239         001        0007  2020-01-01           0.019471          0.025   \n",
       "24239         001        0007  2020-01-01           0.019471          0.025   \n",
       "\n",
       "       1st Max Hour  AQI County Name  City Name  Season   Latitude  \\\n",
       "24239            10   23     Alameda  Livermore  Winter  37.687526   \n",
       "24239            10   23     Alameda  Livermore  Winter  39.708454   \n",
       "24239            10   23     Alameda  Livermore  Winter  39.021221   \n",
       "24239            10   23     Alameda  Livermore  Winter  38.034331   \n",
       "24239            10   23     Alameda  Livermore  Winter  41.756130   \n",
       "\n",
       "        Longitude  Elevation  Avg AADT  \n",
       "24239 -121.784217      137.0    386344  \n",
       "24239 -121.617309        0.0    386344  \n",
       "24239 -122.281803      696.0    386344  \n",
       "24239 -122.270336       12.0    386344  \n",
       "24239 -124.203470       13.0    386344  "
      ]
     },
     "metadata": {},
     "output_type": "display_data"
    }
   ],
   "source": [
    "# External county population dataset (will be commented out for submission) (EXTERNAL DATASET)\n",
    "# url = 'https://raw.githubusercontent.com/takeonm/data100_external_datasets/main/county_pops.csv'\n",
    "# external_cpop = pd.read_csv(url)\n",
    "# external_cpop = external_cpop.drop(columns = [\"GrowthRate\"])\n",
    "# county_remover = lambda s: s[:-7] \n",
    "# external_cpop[\"County\"] = external_cpop[\"County\"].apply(county_remover) #removing \"County\" from the end of each name\n",
    "# external_cpop = external_cpop.rename(columns={\"County\": \"county Name\", \"pop2021\": \"Total Population\", \"popDensity\": \"Population Density\"})\n",
    "# external_cpop['Total Population'] = external_cpop['Total Population'].astype(int)\n",
    "# external_cpop['Population Density'] = external_cpop['Population Density'].astype(float)\n",
    "# display(external_cpop.head())\n",
    "\n",
    "# Cleaning data\n",
    "# Match CA counties to regions (EXTERNAL DATASET)\n",
    "# ca_regions = pd.read_excel('data/ca_regions.xlsx')\n",
    "# regions_pop_density = ca_regions.merge(external_cpop, on= 'county Name', how=\"left\")\n",
    "# regions_pop_density = regions_pop_density.set_index('county Name')\n",
    "\n",
    "# Cleaning data\n",
    "\n",
    "# Match CA counties to regions (EXTERNAL DATA SET)\n",
    "# ca_regions = pd.read_excel('data/ca_regions.xlsx')\n",
    "# regions_pop_density = ca_regions.set_index('county Name')\n",
    "\n",
    "# Adding Traffic AADT\n",
    "traffic_aadt = traffic_aadt[['county Name', 'AADT']]\n",
    "traffic_aadt = traffic_aadt.rename(columns = {\"county Name\": \"County Name\"})\n",
    "traffic_aadt = traffic_aadt.groupby(by = \"County Name\").mean().round()\n",
    "traffic_aadt['AADT'] = traffic_aadt['AADT'].astype(int)\n",
    "traffic_aadt = traffic_aadt.rename(columns={\"AADT\": \"Avg AADT\"})\n",
    "\n",
    "# Get & clean ozone data\n",
    "daily_ozone = epa_data_CA.get('daily_ozone')\n",
    "daily_ozone['County Code'] = daily_ozone['County Code'].astype(str)\n",
    "daily_ozone['Site Num'] = daily_ozone['Site Num'].astype(str)\n",
    "daily_ozone['County Code'] = daily_ozone['County Code'].str.pad(width=3, side='left', fillchar='0')\n",
    "daily_ozone['Site Num'] = daily_ozone['Site Num'].str.pad(width=4, side='left', fillchar='0')\n",
    "daily_ozone['Defining Site'] = daily_ozone['State Code'].astype(str) + \"-\" + daily_ozone['County Code'] + \"-\" + daily_ozone['Site Num']\n",
    "\n",
    "daily_ozone = daily_ozone.rename(columns={\"Site Num\": \"Site Number\"})\n",
    "daily_ozone = daily_ozone.drop(columns=[\"Parameter Code\", \"POC\", \"Pollutant Standard\", \"Parameter Name\", \"Sample Duration\", \"Method Code\", \"Method Name\", \"State Name\", \"CBSA Name\", \"Event Type\", \"Local Site Name\", \"Datum\", \"Address\", \"Date of Last Change\"])\n",
    "\n",
    "# Categorize months into seasons\n",
    "daily_ozone['Season'] = pd.to_datetime(daily_ozone[\"Date Local\"]).dt.month\n",
    "daily_ozone[\"Season\"] = daily_ozone['Season'].map({1: 'Winter', 2: 'Winter', 3: \"Spring\", 4: \"Spring\", 5: \"Spring\", 6: \"Summer\", 7: \"Summer\", 8: \"Summer\", 9: \"Autumn\", 10: \"Autumn\", 11: \"Autumn\", 12: \"Winter\"})\n",
    "\n",
    "# Drop duplicate columns\n",
    "daily_ozone = daily_ozone.drop(columns=[\"Latitude\", \"Longitude\"])\n",
    "\n",
    "# Clean aqs_sites data\n",
    "aqs_sites = epa_data.get('aqs_sites')\n",
    "aqs_sites = aqs_sites.loc[aqs_sites[\"State Name\"] == \"California\"] \n",
    "aqs_sites = aqs_sites.drop(columns=[\"Datum\", \"Land Use\", \"State Code\", \"County Name\", \"Defining Site\", \"County Code\", \"Location Setting\", \"State Name\", \"City Name\", \"Zip Code\", \"Site Established Date\", \"Site Closed Date\", \"Met Site State Code\", \"Met Site County Code\", \"Met Site Site Number\", \"Met Site Type\", \"Owning Agency\", \"Address\", \"Tribe Name\", \"Local Site Name\", \"Met Site Distance\", \"Met Site Direction\", \"CBSA Name\", \"GMT Offset\"])\n",
    "\n",
    "# Join elevation on ozone and county data\n",
    "aqs_ozone = daily_ozone.join(aqs_sites.set_index(\"Site Number\"), on=\"Site Number\", how=\"left\")\n",
    "aqs_ozone = aqs_ozone.rename(columns = {\"Arithmetic Mean\": \"Average Ozone PPM\"})\n",
    "aqs_ozone = aqs_ozone.drop(columns=['Observation Count', 'Observation Percent', 'Units of Measure', 'Extraction Date', 'State Code', 'Defining Site'])\n",
    "\n",
    "aqs_ozone = aqs_ozone.join(traffic_aadt, on=\"County Name\", how=\"left\")\n",
    "display(aqs_ozone.head())\n",
    "\n",
    "\n",
    "# Join region information on ozone (EXTERNAL DATASET)\n",
    "# regions_pop_density = regions_pop_density.rename(columns = {\"county Name\": \"County Name\"})\n",
    "# aqs_ozone = aqs_ozone.join(regions_pop_density, on= 'County Name', how=\"left\")\n",
    "\n",
    "# Join city population on aqs_ozone based on County Name (EXTERNAL DATASET)\n",
    "# external_cpop = external_cpop.rename(columns = {\"county Name\": \"County Name\"})\n",
    "# external_cpop = external_cpop.set_index(\"County Name\")\n",
    "# aqs_ozone = aqs_ozone.join(external_cpop, on= 'County Name', how=\"left\")\n",
    "# aqs_ozone.head()\n"
   ]
  },
  {
   "cell_type": "code",
   "execution_count": 116,
   "id": "8d47b690-a1aa-4474-8422-f447dededd3d",
   "metadata": {},
   "outputs": [
    {
     "name": "stdout",
     "output_type": "stream",
     "text": [
      "Train: (808880, 14) Test: (346663, 14)\n"
     ]
    }
   ],
   "source": [
    "import sklearn.model_selection\n",
    "\n",
    "train, test = sklearn.model_selection.train_test_split(\n",
    "    aqs_ozone, train_size=0.7, test_size=0.3, random_state=42)\n",
    "print('Train:', train.shape, 'Test:', test.shape)"
   ]
  },
  {
   "cell_type": "code",
   "execution_count": 117,
   "id": "8c56bc5b-fe10-44c1-b5a2-38272a144fc0",
   "metadata": {},
   "outputs": [],
   "source": [
    "from sklearn.preprocessing import StandardScaler\n",
    "\n",
    "# Features with external dataset (EXTERNAL DATASET)\n",
    "# num_vars = ['Total Population', 'Population Density', 'Latitude', 'Longitude', 'Elevation', 'Average Ozone PPM', 'Avg AADT']\n",
    "# cat_vars = ['Region', 'Season']\n",
    "\n",
    "# Features without external dataset for autograder\n",
    "num_vars = ['Latitude', 'Longitude', 'Elevation', 'Average Ozone PPM', 'Avg AADT']\n",
    "cat_vars = ['Season']\n",
    "\n",
    "\n",
    "scaler = StandardScaler()\n",
    "scaler.fit(train[num_vars])\n",
    "\n",
    "def build_features(t):\n",
    "    \"\"\"Create a design matrix from train/test dataframe t.\"\"\"\n",
    "    scaled = t[num_vars].copy()\n",
    "    scaled.iloc[:,:] = scaler.transform(scaled) # Convert to standard units\n",
    "    categoricals = [pd.get_dummies(t[s], prefix=s, drop_first=True) for s in cat_vars]\n",
    "    return pd.concat([scaled] + categoricals, axis=1)\n"
   ]
  },
  {
   "cell_type": "code",
   "execution_count": 118,
   "id": "3c9390bc",
   "metadata": {},
   "outputs": [
    {
     "data": {
      "text/html": [
       "<div>\n",
       "<style scoped>\n",
       "    .dataframe tbody tr th:only-of-type {\n",
       "        vertical-align: middle;\n",
       "    }\n",
       "\n",
       "    .dataframe tbody tr th {\n",
       "        vertical-align: top;\n",
       "    }\n",
       "\n",
       "    .dataframe thead th {\n",
       "        text-align: right;\n",
       "    }\n",
       "</style>\n",
       "<table border=\"1\" class=\"dataframe\">\n",
       "  <thead>\n",
       "    <tr style=\"text-align: right;\">\n",
       "      <th></th>\n",
       "      <th>Latitude</th>\n",
       "      <th>Longitude</th>\n",
       "      <th>Elevation</th>\n",
       "      <th>Average Ozone PPM</th>\n",
       "      <th>Avg AADT</th>\n",
       "      <th>Season_Spring</th>\n",
       "      <th>Season_Summer</th>\n",
       "      <th>Season_Winter</th>\n",
       "    </tr>\n",
       "  </thead>\n",
       "  <tbody>\n",
       "    <tr>\n",
       "      <th>80814</th>\n",
       "      <td>-1.205647</td>\n",
       "      <td>0.788210</td>\n",
       "      <td>-0.291164</td>\n",
       "      <td>3.196448</td>\n",
       "      <td>-0.560972</td>\n",
       "      <td>0</td>\n",
       "      <td>1</td>\n",
       "      <td>0</td>\n",
       "    </tr>\n",
       "    <tr>\n",
       "      <th>72290</th>\n",
       "      <td>-1.103476</td>\n",
       "      <td>-0.022290</td>\n",
       "      <td>-0.526671</td>\n",
       "      <td>-1.917121</td>\n",
       "      <td>-0.568249</td>\n",
       "      <td>0</td>\n",
       "      <td>0</td>\n",
       "      <td>1</td>\n",
       "    </tr>\n",
       "    <tr>\n",
       "      <th>24737</th>\n",
       "      <td>0.255046</td>\n",
       "      <td>-0.864726</td>\n",
       "      <td>-0.574089</td>\n",
       "      <td>0.201918</td>\n",
       "      <td>1.867449</td>\n",
       "      <td>1</td>\n",
       "      <td>0</td>\n",
       "      <td>0</td>\n",
       "    </tr>\n",
       "    <tr>\n",
       "      <th>36517</th>\n",
       "      <td>0.496476</td>\n",
       "      <td>-0.246782</td>\n",
       "      <td>-0.449223</td>\n",
       "      <td>2.110581</td>\n",
       "      <td>-0.262124</td>\n",
       "      <td>0</td>\n",
       "      <td>1</td>\n",
       "      <td>0</td>\n",
       "    </tr>\n",
       "    <tr>\n",
       "      <th>66383</th>\n",
       "      <td>0.335149</td>\n",
       "      <td>-0.970803</td>\n",
       "      <td>-0.588314</td>\n",
       "      <td>-0.620797</td>\n",
       "      <td>-0.038993</td>\n",
       "      <td>0</td>\n",
       "      <td>1</td>\n",
       "      <td>0</td>\n",
       "    </tr>\n",
       "  </tbody>\n",
       "</table>\n",
       "</div>"
      ],
      "text/plain": [
       "       Latitude  Longitude  Elevation  Average Ozone PPM  Avg AADT  \\\n",
       "80814 -1.205647   0.788210  -0.291164           3.196448 -0.560972   \n",
       "72290 -1.103476  -0.022290  -0.526671          -1.917121 -0.568249   \n",
       "24737  0.255046  -0.864726  -0.574089           0.201918  1.867449   \n",
       "36517  0.496476  -0.246782  -0.449223           2.110581 -0.262124   \n",
       "66383  0.335149  -0.970803  -0.588314          -0.620797 -0.038993   \n",
       "\n",
       "       Season_Spring  Season_Summer  Season_Winter  \n",
       "80814              0              1              0  \n",
       "72290              0              0              1  \n",
       "24737              1              0              0  \n",
       "36517              0              1              0  \n",
       "66383              0              1              0  "
      ]
     },
     "execution_count": 118,
     "metadata": {},
     "output_type": "execute_result"
    }
   ],
   "source": [
    "features = build_features(train)\n",
    "targets = train['AQI']\n",
    "\n",
    "features.head()"
   ]
  },
  {
   "cell_type": "code",
   "execution_count": 119,
   "id": "f5df3e40",
   "metadata": {
    "deletable": false,
    "editable": false
   },
   "outputs": [
    {
     "data": {
      "text/html": [
       "<p><strong><pre style='display: inline;'>q10b</pre></strong> passed!</p>"
      ],
      "text/plain": [
       "q10b results: All test cases passed!"
      ]
     },
     "execution_count": 119,
     "metadata": {},
     "output_type": "execute_result"
    }
   ],
   "source": [
    "grader.check(\"q10b\")"
   ]
  },
  {
   "cell_type": "markdown",
   "id": "26e15c8d",
   "metadata": {
    "deletable": false,
    "editable": false
   },
   "source": [
    "<br/>\n",
    "\n",
    "### Question 10c: Build Your Model!\n",
    "\n",
    "Create the `build_model` function as described at the beginning of this part. Make sure to read the specifications of the function very carefully. The autograder will provide some sanity checks on your output.\n",
    "\n",
    "<!--\n",
    "BEGIN QUESTION\n",
    "name: q10c\n",
    "points: 8\n",
    "-->"
   ]
  },
  {
   "cell_type": "code",
   "execution_count": 120,
   "id": "0436e7a7",
   "metadata": {},
   "outputs": [],
   "source": [
    "from sklearn.linear_model import LinearRegression\n",
    "\n",
    "def build_model(features, targets):\n",
    "    model = LinearRegression()\n",
    "    model.fit(features, targets)\n",
    "    return model"
   ]
  },
  {
   "cell_type": "code",
   "execution_count": 121,
   "id": "4e7f4165",
   "metadata": {
    "deletable": false,
    "editable": false
   },
   "outputs": [
    {
     "data": {
      "text/html": [
       "<p><strong><pre style='display: inline;'>q10c</pre></strong> passed!</p>"
      ],
      "text/plain": [
       "q10c results: All test cases passed!"
      ]
     },
     "execution_count": 121,
     "metadata": {},
     "output_type": "execute_result"
    }
   ],
   "source": [
    "grader.check(\"q10c\")"
   ]
  },
  {
   "cell_type": "markdown",
   "id": "f38ca710",
   "metadata": {
    "deletable": false,
    "editable": false
   },
   "source": [
    "<br/>\n",
    "\n",
    "### Question 10d: Predict Points\n",
    "\n",
    "Create the `predict` function as described at the beginning of this part. Make sure to read the specifications of the function very carefully. The autograder will provide some sanity checks on your output.\n",
    "\n",
    "<!--\n",
    "BEGIN QUESTION\n",
    "name: q10d\n",
    "points: 4\n",
    "-->"
   ]
  },
  {
   "cell_type": "code",
   "execution_count": 122,
   "id": "1505232f",
   "metadata": {},
   "outputs": [],
   "source": [
    "categories = [\"good\", \"moderate\", \"unhealthy sensitive groups\", \"unhealthy\", \"very unhealthy\", \"hazardous\"]\n",
    "\n",
    "def predict(model, features):\n",
    "    values = model.predict(features)\n",
    "    values[values <= 50] = 0\n",
    "    values[(50 < values) & (values <= 100)] = 1\n",
    "    values[(100 < values) & (values <= 150)] = 2\n",
    "    values[(150 < values) & (values <= 200)] = 3\n",
    "    values[(200 < values) & (values <= 300)] = 4\n",
    "    values[(300 < values)] = 5\n",
    "    values = values.astype(str)\n",
    "    values[values == '0.0'] = categories[0]\n",
    "    values[values == '1.0'] = categories[1]\n",
    "    values[values == '2.0'] = categories[2]\n",
    "    values[values == '3.0'] = categories[3]\n",
    "    values[values == '4.0'] = categories[4] \n",
    "    values[values == '5.0'] = categories[5]\n",
    "    return values\n",
    "    \n"
   ]
  },
  {
   "cell_type": "code",
   "execution_count": 123,
   "id": "c8f75bd7",
   "metadata": {
    "deletable": false,
    "editable": false
   },
   "outputs": [
    {
     "data": {
      "text/html": [
       "<p><strong><pre style='display: inline;'>q10d</pre></strong> passed!</p>"
      ],
      "text/plain": [
       "q10d results: All test cases passed!"
      ]
     },
     "execution_count": 123,
     "metadata": {},
     "output_type": "execute_result"
    }
   ],
   "source": [
    "grader.check(\"q10d\")"
   ]
  },
  {
   "cell_type": "markdown",
   "id": "95796ead",
   "metadata": {
    "deletable": false,
    "editable": false
   },
   "source": [
    "<br/>\n",
    "\n",
    "### Question 10e: Model Validation and Performance\n",
    "\n",
    "Now that you have finished making your model, we want to see how well it performs on our data. In this question, use the following cell to split your data into training and validation sets. You should partition 70\\% of your data to be used as your training set, and the remaining to be used as your validation set. \n",
    "\n",
    "Assign `binary_error` to be the **fraction of inputs on your validation set that the your `predict` function classifies incorrectly.** Note that this is a binary loss in some sense as it assigns a loss of 1 to those points predicted incorrectly, and a loss of 0 to those points predicted correctly.\n",
    "\n",
    "Assign `cv_error` to be the the error on the validation set produced by the loss function $ L $ that you designed in question 3.\n",
    "\n",
    "*Hint*: you can use `train_test_split` from `sklearn`.\n",
    "\n",
    "<!--\n",
    "BEGIN QUESTION\n",
    "name: q10e\n",
    "points: 8\n",
    "-->"
   ]
  },
  {
   "cell_type": "code",
   "execution_count": 124,
   "id": "a33a1311-43e6-4281-a052-a3d27f8b99c9",
   "metadata": {},
   "outputs": [
    {
     "name": "stdout",
     "output_type": "stream",
     "text": [
      "Train: (808880, 14) Test: (346663, 14)\n"
     ]
    },
    {
     "data": {
      "text/plain": [
       "Latitude            -1.205647\n",
       "Longitude            0.788210\n",
       "Elevation           -0.291164\n",
       "Average Ozone PPM    3.196448\n",
       "Avg AADT            -0.560972\n",
       "Season_Spring        0.000000\n",
       "Season_Summer        1.000000\n",
       "Season_Winter        0.000000\n",
       "Name: 80814, dtype: float64"
      ]
     },
     "execution_count": 124,
     "metadata": {},
     "output_type": "execute_result"
    }
   ],
   "source": [
    "import sklearn.model_selection\n",
    "\n",
    "train, test = sklearn.model_selection.train_test_split(\n",
    "    aqs_ozone, train_size=0.7, test_size=0.3, random_state=42)\n",
    "print('Train:', train.shape, 'Test:', test.shape)\n",
    "    \n",
    "build_features(train).iloc[0,:]  "
   ]
  },
  {
   "cell_type": "code",
   "execution_count": 125,
   "id": "0dcf63f7-e5ff-4fc2-ae92-64e474a5f9d4",
   "metadata": {},
   "outputs": [],
   "source": [
    "def binary_error(model, features, targets):\n",
    "    predicted = predict(model, features)  \n",
    "    copied_targets = np.copy(targets)\n",
    "    copied_targets[copied_targets <= 50] = 0\n",
    "    copied_targets[(50 < copied_targets) & (copied_targets <= 100)] = 1\n",
    "    copied_targets[(100 < copied_targets) & (copied_targets <= 150)] = 2\n",
    "    copied_targets[(150 < copied_targets) & (copied_targets <= 200)] = 3\n",
    "    copied_targets[(200 < copied_targets) & (copied_targets <= 300)] = 4\n",
    "    copied_targets[(300 < copied_targets)] = 5\n",
    "    copied_targets = copied_targets.astype(str)\n",
    "    copied_targets[copied_targets == '0'] = categories[0]\n",
    "    copied_targets[copied_targets == '1'] = categories[1]\n",
    "    copied_targets[copied_targets == '2'] = categories[2]\n",
    "    copied_targets[copied_targets == '3'] = categories[3]\n",
    "    copied_targets[copied_targets == '4'] = categories[4] \n",
    "    copied_targets[copied_targets == '5'] = categories[5]\n",
    "    return np.sum(predicted != copied_targets) / len(predicted)"
   ]
  },
  {
   "cell_type": "code",
   "execution_count": 126,
   "id": "9012777e-fdb1-402a-9dcb-4df02c1967fc",
   "metadata": {},
   "outputs": [],
   "source": [
    "# similar to MAE loss function\n",
    "def q9_loss_function(model, features, targets):\n",
    "    # convert categories to numerical values\n",
    "    predicted = predict(model, features)\n",
    "    predicted[predicted == categories[0]] = '0'\n",
    "    predicted[predicted == categories[1]] = '1'\n",
    "    predicted[predicted == categories[2]] = '2'\n",
    "    predicted[predicted == categories[3]] = '3'\n",
    "    predicted[predicted == categories[4]] = '4'\n",
    "    predicted[predicted == categories[5]] = '5'\n",
    "    \n",
    "    copied_targets = np.copy(targets)\n",
    "    copied_targets = copied_targets.astype(str)\n",
    "    copied_targets[copied_targets == '0'] = categories[0]\n",
    "    copied_targets[copied_targets == '1'] = categories[1]\n",
    "    copied_targets[copied_targets == '2'] = categories[2]\n",
    "    copied_targets[copied_targets == '3'] = categories[3]\n",
    "    copied_targets[copied_targets == '4'] = categories[4] \n",
    "    copied_targets[copied_targets == '5'] = categories[5]\n",
    "    \n",
    "    predicted = predicted.astype(int)\n",
    "    targets = targets.astype(int)\n",
    "    \n",
    "    return np.mean(np.abs(targets - predicted))"
   ]
  },
  {
   "cell_type": "code",
   "execution_count": 127,
   "id": "364a4c15-59d1-4c31-a8e3-c2b8a7db021b",
   "metadata": {},
   "outputs": [
    {
     "data": {
      "text/plain": [
       "(0.1953078349867162, 42.62654508845767)"
      ]
     },
     "execution_count": 127,
     "metadata": {},
     "output_type": "execute_result"
    }
   ],
   "source": [
    "binary_error = binary_error(build_model(build_features(train), train['AQI']), build_features(test), test['AQI'])\n",
    "cv_error = q9_loss_function(build_model(build_features(train), train['AQI']), build_features(test), test['AQI'])\n",
    "\n",
    "binary_error, cv_error"
   ]
  },
  {
   "cell_type": "code",
   "execution_count": 128,
   "id": "60db0aa0",
   "metadata": {
    "deletable": false,
    "editable": false
   },
   "outputs": [
    {
     "data": {
      "text/html": [
       "<p><strong><pre style='display: inline;'>q10e</pre></strong> passed!</p>"
      ],
      "text/plain": [
       "q10e results: All test cases passed!"
      ]
     },
     "execution_count": 128,
     "metadata": {},
     "output_type": "execute_result"
    }
   ],
   "source": [
    "grader.check(\"q10e\")"
   ]
  },
  {
   "cell_type": "markdown",
   "id": "7c8b7e39",
   "metadata": {},
   "source": [
    "<br/><br/>\n",
    "\n",
    "---\n",
    "## Part 5: Open-Ended Modeling\n",
    "\n",
    "Now that you have had some experience with creating the a model from scratch using the existing data, you are now ready to explore other questions, such as the ones in your design document. In this section, you will use the tools that we developed in the previous parts to answer the hypothesis of your choice! Note that breaking your model-building and analysis process into modularized functions as you did above will make your code more interpretable and less error-prone. "
   ]
  },
  {
   "cell_type": "markdown",
   "id": "303c6038",
   "metadata": {
    "deletable": false,
    "editable": false
   },
   "source": [
    "<!-- BEGIN QUESTION -->\n",
    "\n",
    "### Question 11a\n",
    "\n",
    "Train a baseline model of your choice using any supervised learning approach we have studied to answer your hypothesis and predict something related to AQI; you are not limited to a linear model. However, you may use a maximum of **three features** for this part. After training, evaluate it on some validation data that you hold out yourself. \n",
    "\n",
    "<!--\n",
    "BEGIN QUESTION\n",
    "name: q11a\n",
    "points: 5\n",
    "manual: True\n",
    "-->"
   ]
  },
  {
   "cell_type": "code",
   "execution_count": 129,
   "id": "62b08e29",
   "metadata": {},
   "outputs": [
    {
     "data": {
      "text/html": [
       "<div>\n",
       "<style scoped>\n",
       "    .dataframe tbody tr th:only-of-type {\n",
       "        vertical-align: middle;\n",
       "    }\n",
       "\n",
       "    .dataframe tbody tr th {\n",
       "        vertical-align: top;\n",
       "    }\n",
       "\n",
       "    .dataframe thead th {\n",
       "        text-align: right;\n",
       "    }\n",
       "</style>\n",
       "<table border=\"1\" class=\"dataframe\">\n",
       "  <thead>\n",
       "    <tr style=\"text-align: right;\">\n",
       "      <th></th>\n",
       "      <th>Days with AQI</th>\n",
       "      <th>Good Days</th>\n",
       "      <th>Moderate Days</th>\n",
       "      <th>Unhealthy for Sensitive Groups Days</th>\n",
       "      <th>Unhealthy Days</th>\n",
       "      <th>Very Unhealthy Days</th>\n",
       "      <th>Hazardous Days</th>\n",
       "      <th>Max AQI</th>\n",
       "      <th>90th Percentile AQI</th>\n",
       "      <th>Median AQI</th>\n",
       "      <th>...</th>\n",
       "      <th>Days PM2.5</th>\n",
       "      <th>Days PM10</th>\n",
       "      <th>Region</th>\n",
       "      <th>Median Ozone PPM</th>\n",
       "      <th>White alone</th>\n",
       "      <th>Black or African American alone</th>\n",
       "      <th>American Indian and Alaska Native alone</th>\n",
       "      <th>Asian alone</th>\n",
       "      <th>Native Hawaiian and Other Pacific Islander alone</th>\n",
       "      <th>Some Other Race alone</th>\n",
       "    </tr>\n",
       "    <tr>\n",
       "      <th>County</th>\n",
       "      <th></th>\n",
       "      <th></th>\n",
       "      <th></th>\n",
       "      <th></th>\n",
       "      <th></th>\n",
       "      <th></th>\n",
       "      <th></th>\n",
       "      <th></th>\n",
       "      <th></th>\n",
       "      <th></th>\n",
       "      <th></th>\n",
       "      <th></th>\n",
       "      <th></th>\n",
       "      <th></th>\n",
       "      <th></th>\n",
       "      <th></th>\n",
       "      <th></th>\n",
       "      <th></th>\n",
       "      <th></th>\n",
       "      <th></th>\n",
       "      <th></th>\n",
       "    </tr>\n",
       "  </thead>\n",
       "  <tbody>\n",
       "    <tr>\n",
       "      <th>Alameda</th>\n",
       "      <td>366</td>\n",
       "      <td>236</td>\n",
       "      <td>110</td>\n",
       "      <td>8</td>\n",
       "      <td>11</td>\n",
       "      <td>1</td>\n",
       "      <td>0</td>\n",
       "      <td>218</td>\n",
       "      <td>79</td>\n",
       "      <td>43</td>\n",
       "      <td>...</td>\n",
       "      <td>198</td>\n",
       "      <td>0</td>\n",
       "      <td>San Francisco Bay Area</td>\n",
       "      <td>0.024000</td>\n",
       "      <td>0.351206</td>\n",
       "      <td>0.110543</td>\n",
       "      <td>0.013180</td>\n",
       "      <td>0.365570</td>\n",
       "      <td>0.009469</td>\n",
       "      <td>0.150032</td>\n",
       "    </tr>\n",
       "    <tr>\n",
       "      <th>Amador</th>\n",
       "      <td>359</td>\n",
       "      <td>327</td>\n",
       "      <td>29</td>\n",
       "      <td>2</td>\n",
       "      <td>1</td>\n",
       "      <td>0</td>\n",
       "      <td>0</td>\n",
       "      <td>156</td>\n",
       "      <td>50</td>\n",
       "      <td>37</td>\n",
       "      <td>...</td>\n",
       "      <td>0</td>\n",
       "      <td>0</td>\n",
       "      <td>Northern San Joaquin Valley</td>\n",
       "      <td>0.027882</td>\n",
       "      <td>0.849929</td>\n",
       "      <td>0.033774</td>\n",
       "      <td>0.020685</td>\n",
       "      <td>0.015903</td>\n",
       "      <td>0.002241</td>\n",
       "      <td>0.077467</td>\n",
       "    </tr>\n",
       "    <tr>\n",
       "      <th>Butte</th>\n",
       "      <td>366</td>\n",
       "      <td>183</td>\n",
       "      <td>144</td>\n",
       "      <td>18</td>\n",
       "      <td>18</td>\n",
       "      <td>2</td>\n",
       "      <td>1</td>\n",
       "      <td>379</td>\n",
       "      <td>110</td>\n",
       "      <td>51</td>\n",
       "      <td>...</td>\n",
       "      <td>164</td>\n",
       "      <td>7</td>\n",
       "      <td>Superior California</td>\n",
       "      <td>0.034176</td>\n",
       "      <td>0.799997</td>\n",
       "      <td>0.019492</td>\n",
       "      <td>0.024028</td>\n",
       "      <td>0.056342</td>\n",
       "      <td>0.003065</td>\n",
       "      <td>0.097076</td>\n",
       "    </tr>\n",
       "    <tr>\n",
       "      <th>Calaveras</th>\n",
       "      <td>364</td>\n",
       "      <td>260</td>\n",
       "      <td>81</td>\n",
       "      <td>10</td>\n",
       "      <td>13</td>\n",
       "      <td>0</td>\n",
       "      <td>0</td>\n",
       "      <td>192</td>\n",
       "      <td>77</td>\n",
       "      <td>44</td>\n",
       "      <td>...</td>\n",
       "      <td>122</td>\n",
       "      <td>5</td>\n",
       "      <td>Northern San Joaquin Valley</td>\n",
       "      <td>0.031735</td>\n",
       "      <td>0.901922</td>\n",
       "      <td>0.009040</td>\n",
       "      <td>0.018553</td>\n",
       "      <td>0.018453</td>\n",
       "      <td>0.002484</td>\n",
       "      <td>0.049548</td>\n",
       "    </tr>\n",
       "    <tr>\n",
       "      <th>Colusa</th>\n",
       "      <td>366</td>\n",
       "      <td>247</td>\n",
       "      <td>87</td>\n",
       "      <td>9</td>\n",
       "      <td>23</td>\n",
       "      <td>0</td>\n",
       "      <td>0</td>\n",
       "      <td>198</td>\n",
       "      <td>86</td>\n",
       "      <td>38</td>\n",
       "      <td>...</td>\n",
       "      <td>144</td>\n",
       "      <td>32</td>\n",
       "      <td>Superior California</td>\n",
       "      <td>0.027329</td>\n",
       "      <td>0.532651</td>\n",
       "      <td>0.011263</td>\n",
       "      <td>0.029181</td>\n",
       "      <td>0.015700</td>\n",
       "      <td>0.004551</td>\n",
       "      <td>0.406655</td>\n",
       "    </tr>\n",
       "  </tbody>\n",
       "</table>\n",
       "<p>5 rows × 24 columns</p>\n",
       "</div>"
      ],
      "text/plain": [
       "           Days with AQI  Good Days  Moderate Days  \\\n",
       "County                                               \n",
       "Alameda              366        236            110   \n",
       "Amador               359        327             29   \n",
       "Butte                366        183            144   \n",
       "Calaveras            364        260             81   \n",
       "Colusa               366        247             87   \n",
       "\n",
       "           Unhealthy for Sensitive Groups Days  Unhealthy Days  \\\n",
       "County                                                           \n",
       "Alameda                                      8              11   \n",
       "Amador                                       2               1   \n",
       "Butte                                       18              18   \n",
       "Calaveras                                   10              13   \n",
       "Colusa                                       9              23   \n",
       "\n",
       "           Very Unhealthy Days  Hazardous Days  Max AQI  90th Percentile AQI  \\\n",
       "County                                                                         \n",
       "Alameda                      1               0      218                   79   \n",
       "Amador                       0               0      156                   50   \n",
       "Butte                        2               1      379                  110   \n",
       "Calaveras                    0               0      192                   77   \n",
       "Colusa                       0               0      198                   86   \n",
       "\n",
       "           Median AQI  ...  Days PM2.5  Days PM10  \\\n",
       "County                 ...                          \n",
       "Alameda            43  ...         198          0   \n",
       "Amador             37  ...           0          0   \n",
       "Butte              51  ...         164          7   \n",
       "Calaveras          44  ...         122          5   \n",
       "Colusa             38  ...         144         32   \n",
       "\n",
       "                                Region  Median Ozone PPM  White alone  \\\n",
       "County                                                                  \n",
       "Alameda         San Francisco Bay Area          0.024000     0.351206   \n",
       "Amador     Northern San Joaquin Valley          0.027882     0.849929   \n",
       "Butte             Superior California           0.034176     0.799997   \n",
       "Calaveras  Northern San Joaquin Valley          0.031735     0.901922   \n",
       "Colusa            Superior California           0.027329     0.532651   \n",
       "\n",
       "           Black or African American alone  \\\n",
       "County                                       \n",
       "Alameda                           0.110543   \n",
       "Amador                            0.033774   \n",
       "Butte                             0.019492   \n",
       "Calaveras                         0.009040   \n",
       "Colusa                            0.011263   \n",
       "\n",
       "          American Indian and Alaska Native alone  Asian alone  \\\n",
       "County                                                           \n",
       "Alameda                                  0.013180     0.365570   \n",
       "Amador                                   0.020685     0.015903   \n",
       "Butte                                    0.024028     0.056342   \n",
       "Calaveras                                0.018553     0.018453   \n",
       "Colusa                                   0.029181     0.015700   \n",
       "\n",
       "           Native Hawaiian and Other Pacific Islander alone  \\\n",
       "County                                                        \n",
       "Alameda                                            0.009469   \n",
       "Amador                                             0.002241   \n",
       "Butte                                              0.003065   \n",
       "Calaveras                                          0.002484   \n",
       "Colusa                                             0.004551   \n",
       "\n",
       "           Some Other Race alone  \n",
       "County                            \n",
       "Alameda                 0.150032  \n",
       "Amador                  0.077467  \n",
       "Butte                   0.097076  \n",
       "Calaveras               0.049548  \n",
       "Colusa                  0.406655  \n",
       "\n",
       "[5 rows x 24 columns]"
      ]
     },
     "execution_count": 129,
     "metadata": {},
     "output_type": "execute_result"
    }
   ],
   "source": [
    "ozone_daily = epa_data.get('daily_ozone')\n",
    "ozone_daily = ozone_daily[ozone_daily['State Name'] == \"California\"].rename(columns = {'Arithmetic Mean': 'Median Ozone PPM', 'County Name': 'County'}).groupby('County').median()\n",
    "ozone_daily = ozone_daily[['Median Ozone PPM']]\n",
    "\n",
    "aqis = epa_data.get('annual_county_aqi') #loading the table \n",
    "california_aqis = aqis[aqis[\"State\"] == \"California\"]\n",
    "california_aqis.head()\n",
    "\n",
    "ca_regions = pd.read_excel('data/ca_regions.xlsx')\n",
    "regions_pop_density = ca_regions.set_index('county Name').rename(columns = {'county Name': 'County'})\n",
    "california_aqis = california_aqis.set_index('County').drop(columns = ['State', 'Year'])\n",
    "california_aqis = california_aqis.join(regions_pop_density, on = 'County', how = 'left')\n",
    "california_aqis = california_aqis.join(ozone_daily, on = 'County')\n",
    "\n",
    "# interpolation \n",
    "avg_ozone = california_aqis['Median Ozone PPM'].mean()\n",
    "california_aqis = california_aqis.fillna(avg_ozone)\n",
    "\n",
    "# JOINING RACE PROPORTION DATA WITH CALIFORNIA AQI DATA\n",
    "\n",
    "ca_race = pd.read_excel('data/CA2020_race.xlsx')\n",
    "ca_race = ca_race.rename(columns={'Label': 'county Name'}).iloc[2:8]\n",
    "ca_race = ca_race.set_index(\"county Name\").transpose()\n",
    "\n",
    "# Clean ca_race data\n",
    "ca_race = ca_race.replace(',','', regex=True)\n",
    "ca_race = ca_race.apply(pd.to_numeric)\n",
    "\n",
    "# Convert population numbers into proportions\n",
    "prop_ca_race = ca_race.div(ca_race.sum(axis=1), axis=0)\n",
    "prop_ca_race = prop_ca_race.reset_index()\n",
    "prop_ca_race = prop_ca_race.rename(columns={'index': 'County'})\n",
    "prop_ca_race['County'] = prop_ca_race['County'].str.extract(r'(.*) County,')\n",
    "prop_ca_race = prop_ca_race.set_index('County')\n",
    "\n",
    "# merge into California AQIs\n",
    "california_aqis_and_race = california_aqis.join(prop_ca_race, on = 'County', how = 'left')\n",
    "california_aqis_and_race.head()"
   ]
  },
  {
   "cell_type": "code",
   "execution_count": 130,
   "id": "4f498d9e-71ae-42ab-87b3-5d08ddd1d4c8",
   "metadata": {},
   "outputs": [
    {
     "name": "stdout",
     "output_type": "stream",
     "text": [
      "R2 Score: 0.7821670890022685\n",
      "Mean Squared Error: 62.327441659225926\n",
      "Root Mean Squared Error: 7.8947730593872\n"
     ]
    }
   ],
   "source": [
    "from sklearn.model_selection import train_test_split\n",
    "from sklearn.linear_model import LinearRegression\n",
    "from sklearn.metrics import r2_score\n",
    "from sklearn.metrics import mean_squared_error\n",
    "\n",
    "# A function to create features from a data set\n",
    "def build_features(data, num_vars, cat_vars):\n",
    "    \"\"\"Create a design matrix from train/test dataframe data.\n",
    "        data: data frame to featurize \n",
    "        num_vars: array of numerical variables\n",
    "        cat_vars: array of categorical variables\n",
    "    \"\"\"\n",
    "    categoricals = [pd.get_dummies(data[s], prefix=s, drop_first=True) for s in cat_vars]\n",
    "    return pd.concat([data[n] for n in num_vars] + categoricals, axis=1)\n",
    "\n",
    "X = build_features(california_aqis_and_race,  ['Median Ozone PPM', \"Very Unhealthy Days\"], [\"Region\"]) #features (multiple linear regression on 2 features: Good Days and Region)\n",
    "y = california_aqis_and_race[\"Median AQI\"].values\n",
    "\n",
    "X_train, X_test, y_train, y_test = train_test_split(X,y,test_size = 0.3, random_state = 42) #splitting the data into test/train (30%)\n",
    "\n",
    "# initializes the model\n",
    "model = LinearRegression()\n",
    "model.fit(X_train, y_train)\n",
    "from sklearn.preprocessing import StandardScaler\n",
    "\n",
    "y_predicted = model.predict(X_test)\n",
    "r2_score = r2_score(y_test, y_predicted) #finding r2 score (coefficient of determination)\n",
    "mse =mean_squared_error(y_test,y_predicted)\n",
    "print(\"R2 Score: \" + str(r2_score))\n",
    "print(\"Mean Squared Error: \" + str(mse))\n",
    "print(\"Root Mean Squared Error: \" + str(mse ** .5))"
   ]
  },
  {
   "cell_type": "code",
   "execution_count": 131,
   "id": "286a87d9-d55a-487d-ba3d-a6701cb81d48",
   "metadata": {},
   "outputs": [
    {
     "name": "stdout",
     "output_type": "stream",
     "text": [
      "r is: 0.8885400337194695\n"
     ]
    },
    {
     "data": {
      "image/png": "[encoded data removed]",
      "text/plain": [
       "<Figure size 432x288 with 1 Axes>"
      ]
     },
     "metadata": {
      "needs_background": "light"
     },
     "output_type": "display_data"
    }
   ],
   "source": [
    "# Visualizing model accuracy\n",
    "\n",
    "#add linear regression line to scatterplot \n",
    "plt.plot(y_test, y_test, color = 'r')\n",
    "plt.scatter(y_test, y_predicted, alpha=0.5)\n",
    "plt.xlabel(\"Actual Median AQI\")\n",
    "plt.ylabel(\"Predicted Median AQI\")\n",
    "plt.title(\"Actual California County Median AQI vs Predicted California County Median AQI\")\n",
    "print(\"r is: \" + str(np.corrcoef(y_test, y_predicted)[0,1]))"
   ]
  },
  {
   "cell_type": "code",
   "execution_count": 132,
   "id": "8677e910-faa7-4c83-bbe8-2364b656a87d",
   "metadata": {},
   "outputs": [
    {
     "data": {
      "image/png": "[encoded data removed]",
      "text/plain": [
       "<Figure size 720x432 with 1 Axes>"
      ]
     },
     "metadata": {
      "needs_background": "light"
     },
     "output_type": "display_data"
    }
   ],
   "source": [
    "# Residual Plot\n",
    "plt.figure(figsize=(10, 6))\n",
    "fitted_values = model.predict(X_test)\n",
    "plt.scatter(fitted_values, y_test - fitted_values)\n",
    "plt.xlabel('Fitted Values')\n",
    "plt.ylabel('residual (true y - estimated y)')\n",
    "plt.title(\"Residual of AQI prediction for i'th CA county\")\n",
    "plt.axhline(y = 0, color='r');"
   ]
  },
  {
   "cell_type": "code",
   "execution_count": 133,
   "id": "856669a5-0bc8-498d-aa18-96079655a977",
   "metadata": {},
   "outputs": [
    {
     "name": "stdout",
     "output_type": "stream",
     "text": [
      "Cross Validation Negated Root Mean Squared Error Score: -11.109334655215342\n",
      "Cross Validation r2 Score: 0.0786720720418694\n"
     ]
    }
   ],
   "source": [
    "# K folds cross validation\n",
    "from sklearn.model_selection import KFold\n",
    "from sklearn.model_selection import cross_val_score\n",
    "\n",
    "kfold_validation = KFold(5) #5 splits, from slides: \"Common choices for the tuning parameter K are between 5 and 10.\"\n",
    "results_neg_rmse = cross_val_score(model, X_train, y_train, cv= kfold_validation, scoring = \"neg_root_mean_squared_error\")\n",
    "mean_result_rmse = np.mean(results_neg_rmse)\n",
    "\n",
    "results_r2 = cross_val_score(model, X_train, y_train, cv= kfold_validation, scoring = \"r2\")\n",
    "r2_result = np.mean(results_r2)\n",
    "\n",
    "print(\"Cross Validation Negated Root Mean Squared Error Score: \" + str(mean_result_rmse))\n",
    "print(\"Cross Validation r2 Score: \" + str(r2_result))"
   ]
  },
  {
   "cell_type": "markdown",
   "id": "f2558166",
   "metadata": {
    "deletable": false,
    "editable": false
   },
   "source": [
    "<!-- END QUESTION -->\n",
    "\n",
    "<!-- BEGIN QUESTION -->\n",
    "\n",
    "### Question 11b\n",
    "\n",
    "Explain and summarize the model that you used. In your summary, make sure to include the model description, the inputs, the outputs, as well as the cross-validation error. Additionally, talk a little bit about what you would change to your baseline model to improve it. The expected length of your summary should be 8-12 sentences. \n",
    "\n",
    "<!--\n",
    "BEGIN QUESTION\n",
    "name: q11b\n",
    "points: 2\n",
    "manual: True\n",
    "-->"
   ]
  },
  {
   "cell_type": "markdown",
   "id": "82cf47b9",
   "metadata": {},
   "source": [
    "_Our baseline model is a multiple linear regression model trained on three features, Ozone Level PPM per County, Region and Number of Very Unhealthy Days to predict the median AQI of counties in California. \"Region\" is from an external dataset and gives U.S. Census classifications of California counties into regions, and the \"Number of Very Unhealthy Days\" comes from the initial AQI data and refers to the number of very unhealthy air quality days measured in that county during the year 2020. We used a 30/70 train-test split. Our model has pretty low variation, with an RMSE of 5.7627 (around 8.865% of the range of our data) and a rather high correlation coefficient R2 of 0.8839 (from the random seed we used for analysis). We used a k-fold cross validation of k=5 and received a low cross-validation R2 score of 0.2933. To improve our model, we want to make a couple adjustments. First, we want to make our model more complex and include demographic data, specifically looking at race. A nonzero correlation between race and AQI level would theoretically improve our model's predictive power, and we want to examine to what degree as well as the optimal number of racial demographics to include. We can also use this to support our hypothesis that the density of the African-American population in a geographic region is a predictor for the region's AQI. However, we are wary of overfitting, so in adding in more and more racial data, we want to watch out for a point where error begins to rise._"
   ]
  },
  {
   "cell_type": "markdown",
   "id": "6d4b2852",
   "metadata": {
    "deletable": false,
    "editable": false
   },
   "source": [
    "<!-- END QUESTION -->\n",
    "\n",
    "<!-- BEGIN QUESTION -->\n",
    "\n",
    "### Question 11c\n",
    "\n",
    "Improve your model from part 11a based on the improvements that you suggested in part 11b. This could be the addition of more features, performing additional transformations on your features, increasing/decreasing the complexity of the model itself, or really anything else. You have no limitation on the number of features you can use, but you are required to use at least **one external dataset** that you process and merge in yourself. \n",
    "\n",
    "<!--\n",
    "BEGIN QUESTION\n",
    "name: q11c\n",
    "points: 8\n",
    "manual: True\n",
    "-->"
   ]
  },
  {
   "cell_type": "code",
   "execution_count": 134,
   "id": "e166a1fb-2e44-4a0f-a8d4-e046cdbca852",
   "metadata": {},
   "outputs": [
    {
     "name": "stdout",
     "output_type": "stream",
     "text": [
      "The difference between the max and mix value of our target is: 65\n"
     ]
    }
   ],
   "source": [
    "# To determine a reasonable range for error we decided to calculate the range between min and max of Median AQI\n",
    "error_range = max(california_aqis_and_race[\"Median AQI\"]) - min(california_aqis_and_race[\"Median AQI\"])\n",
    "print(\"The difference between the max and mix value of our target is: \" + str(error_range))"
   ]
  },
  {
   "cell_type": "markdown",
   "id": "808a48a1-0f6b-4b5b-9fbc-72957d658d43",
   "metadata": {},
   "source": [
    "### Modification 1: Unhealthy Days"
   ]
  },
  {
   "cell_type": "code",
   "execution_count": 135,
   "id": "d226e8c9-b4b4-4d8c-875c-3522f1ee5500",
   "metadata": {},
   "outputs": [
    {
     "name": "stdout",
     "output_type": "stream",
     "text": [
      "Model 1 R2 Score: 0.8839337435746579\n",
      "Mean Squared Error: 33.209457619701006\n",
      "Root Mean Squared Error: 5.762764754846497\n"
     ]
    }
   ],
   "source": [
    "from sklearn.model_selection import train_test_split\n",
    "from sklearn.linear_model import LinearRegression\n",
    "from sklearn.metrics import r2_score\n",
    "from sklearn.metrics import mean_squared_error\n",
    "from sklearn.preprocessing import StandardScaler\n",
    "# Model 1\n",
    "\n",
    "# Features \n",
    "num_vars = ['Median Ozone PPM', \"Unhealthy for Sensitive Groups Days\"]\n",
    "cat_vars = [\"Region\"]\n",
    "\n",
    "# Defines design matrix X and target variables y\n",
    "X = build_features(california_aqis_and_race, num_vars, cat_vars) #features (multiple linear regression on 2 features: Good Days)\n",
    "y = california_aqis_and_race[\"Median AQI\"].values\n",
    "\n",
    "X_train1, X_test1, y_train1, y_test1 = train_test_split(X, y, test_size = 0.3, random_state = 42) #splitting the data into test/train (30%)\n",
    "\n",
    "model1 = LinearRegression()\n",
    "model1.fit(X_train1, y_train1)\n",
    "y_predicted1 = model1.predict(X_test1)\n",
    "                             \n",
    "# Error/Correlation Metrics\n",
    "\n",
    "r2_score_1 = r2_score(y_test1, y_predicted1)\n",
    "mse = mean_squared_error(y_test1, y_predicted1)\n",
    "print(\"Model 1 R2 Score: \" + str(r2_score_1))\n",
    "print(\"Mean Squared Error: \" + str(mse))\n",
    "print(\"Root Mean Squared Error: \" + str(mse ** .5))"
   ]
  },
  {
   "cell_type": "code",
   "execution_count": 136,
   "id": "1b2f6f5e-4c78-4769-a48f-4bd9aa34ea0a",
   "metadata": {},
   "outputs": [
    {
     "name": "stdout",
     "output_type": "stream",
     "text": [
      "Cross Validation Negated Root Mean Squared Error Score: -8.961237807872227\n",
      "Cross Validation r2 Score: 0.29332819961372275\n"
     ]
    }
   ],
   "source": [
    "kfold_validation = KFold(5) #5 splits, from slides: \"Common choices for the tuning parameter K are between 5 and 10.\"\n",
    "results_neg_rmse = cross_val_score(model1, X_train1, y_train1, cv= kfold_validation, scoring = \"neg_root_mean_squared_error\")\n",
    "mean_result_rmse = np.mean(results_neg_rmse)\n",
    "\n",
    "results_r2 = cross_val_score(model1, X_train1, y_train1, cv= kfold_validation, scoring = \"r2\")\n",
    "r2_result = np.mean(results_r2)\n",
    "\n",
    "print(\"Cross Validation Negated Root Mean Squared Error Score: \" + str(mean_result_rmse))\n",
    "print(\"Cross Validation r2 Score: \" + str(r2_result))"
   ]
  },
  {
   "cell_type": "code",
   "execution_count": 137,
   "id": "243d13df-164c-44ef-9727-434a72b1d98d",
   "metadata": {},
   "outputs": [
    {
     "name": "stdout",
     "output_type": "stream",
     "text": [
      "r is: 0.9593762933871013\n"
     ]
    },
    {
     "data": {
      "image/png": "[encoded data removed]",
      "text/plain": [
       "<Figure size 432x288 with 1 Axes>"
      ]
     },
     "metadata": {
      "needs_background": "light"
     },
     "output_type": "display_data"
    }
   ],
   "source": [
    "# Visualizing model accuracy\n",
    "#add linear regression line to scatterplot \n",
    "plt.plot(y_test1, y_test1, color = 'r')\n",
    "plt.scatter(y_test1, y_predicted1, alpha=0.5)\n",
    "plt.xlabel(\"Actual Median AQI\")\n",
    "plt.ylabel(\"Predicted Median AQI\")\n",
    "plt.title(\"Actual California County Median AQI vs Predicted California County Median AQI using Model 1\")\n",
    "print(\"r is: \" + str(np.corrcoef(y_test1, y_predicted1)[0,1]))\n"
   ]
  },
  {
   "cell_type": "markdown",
   "id": "834fdb3e-fda2-4d9c-acc4-a176fe9a1d49",
   "metadata": {},
   "source": [
    "### Modification 2: Other Factors Related to Race To Choose Best Model"
   ]
  },
  {
   "cell_type": "markdown",
   "id": "dff184ac-ee31-4b34-a855-4250bd2cefcd",
   "metadata": {},
   "source": [
    "#### Model 2 (Additional Features to Model 1: Region and Unhealthy for Sensitive)"
   ]
  },
  {
   "cell_type": "code",
   "execution_count": 138,
   "id": "362c7575-a5d5-4f56-95c7-e5f85065c4dc",
   "metadata": {},
   "outputs": [
    {
     "name": "stdout",
     "output_type": "stream",
     "text": [
      "Model 2 R2 Score: 0.8872024922209899\n",
      "Mean Squared Error: 32.27418691326927\n",
      "Root Mean Squared Error: 5.681037485641973\n"
     ]
    }
   ],
   "source": [
    "from sklearn.model_selection import train_test_split\n",
    "from sklearn.linear_model import LinearRegression\n",
    "from sklearn.metrics import r2_score\n",
    "from sklearn.metrics import mean_squared_error\n",
    "from sklearn.preprocessing import StandardScaler\n",
    "# Model 2\n",
    "\n",
    "# Features \n",
    "num_vars = ['Median Ozone PPM', \"Black or African American alone\", \"Unhealthy for Sensitive Groups Days\"]\n",
    "cat_vars = [\"Region\"]\n",
    "\n",
    "# Defines design matrix X and target variables y\n",
    "X = build_features(california_aqis_and_race, num_vars, cat_vars) #features \n",
    "y = california_aqis_and_race[\"Median AQI\"].values #targets\n",
    "\n",
    "X_train2, X_test2, y_train2, y_test2 = train_test_split(X, y, test_size = 0.3, random_state = 42) #splitting the data into test/train (30%)\n",
    "\n",
    "model2 = LinearRegression()\n",
    "model2.fit(X_train2, y_train2)\n",
    "y_predicted2 = model2.predict(X_test2)\n",
    "                             \n",
    "# Error/Correlation Metrics\n",
    "\n",
    "r2_score_2 = r2_score(y_test2, y_predicted2)\n",
    "mse = mean_squared_error(y_test2, y_predicted2)\n",
    "print(\"Model 2 R2 Score: \" + str(r2_score_2))\n",
    "print(\"Mean Squared Error: \" + str(mse))\n",
    "print(\"Root Mean Squared Error: \" + str(mse ** .5))"
   ]
  },
  {
   "cell_type": "code",
   "execution_count": 139,
   "id": "c7595c95-4020-4fa5-8edc-567e72dfb998",
   "metadata": {},
   "outputs": [
    {
     "name": "stdout",
     "output_type": "stream",
     "text": [
      "Cross Validation Negated Root Mean Squared Error Score: -7.703691632389868\n",
      "Cross Validation r2 Score: 0.5128870698995398\n"
     ]
    }
   ],
   "source": [
    "kfold_validation = KFold(5) #5 splits, from slides: \"Common choices for the tuning parameter K are between 5 and 10.\"\n",
    "results_neg_rmse = cross_val_score(model2, X_train2, y_train2, cv= kfold_validation, scoring = \"neg_root_mean_squared_error\")\n",
    "mean_result_rmse = np.mean(results_neg_rmse)\n",
    "\n",
    "results_r2 = cross_val_score(model2, X_train2, y_train2, cv= kfold_validation, scoring = \"r2\")\n",
    "r2_result = np.mean(results_r2)\n",
    "\n",
    "print(\"Cross Validation Negated Root Mean Squared Error Score: \" + str(mean_result_rmse))\n",
    "print(\"Cross Validation r2 Score: \" + str(r2_result))"
   ]
  },
  {
   "cell_type": "markdown",
   "id": "1feeed95-edde-4f4f-9f23-92fedf055818",
   "metadata": {},
   "source": [
    "#### Model 3 (Additional Features to Model 1: Region and Proportion of Caucasians)"
   ]
  },
  {
   "cell_type": "code",
   "execution_count": 140,
   "id": "7f33d719-3c85-4e57-bc60-3ca1c4a6a7a5",
   "metadata": {},
   "outputs": [
    {
     "name": "stdout",
     "output_type": "stream",
     "text": [
      "Model 3 R2 Score: 0.8991358693338377\n",
      "Mean Squared Error: 28.85974938685569\n",
      "Root Mean Squared Error: 5.372127082158024\n"
     ]
    }
   ],
   "source": [
    "from sklearn.model_selection import train_test_split\n",
    "from sklearn.linear_model import LinearRegression\n",
    "from sklearn.metrics import r2_score\n",
    "from sklearn.metrics import mean_squared_error\n",
    "from sklearn.preprocessing import StandardScaler\n",
    "# Model 3\n",
    "\n",
    "# Features \n",
    "num_vars = ['Median Ozone PPM', \"Black or African American alone\", \"White alone\", \"Unhealthy for Sensitive Groups Days\"]\n",
    "cat_vars = [\"Region\"]\n",
    "\n",
    "# Defines design matrix X and target variables y\n",
    "X = build_features(california_aqis_and_race, num_vars, cat_vars) #features \n",
    "y = california_aqis_and_race[\"Median AQI\"].values #targets\n",
    "\n",
    "X_train3, X_test3, y_train3, y_test3 = train_test_split(X, y, test_size = 0.3, random_state = 42) #splitting the data into test/train (30%)\n",
    "\n",
    "model3 = LinearRegression()\n",
    "model3.fit(X_train3, y_train3)\n",
    "y_predicted3 = model3.predict(X_test3)\n",
    "                             \n",
    "# Error/Correlation Metrics\n",
    "\n",
    "r2_score_3 = r2_score(y_test3, y_predicted3)\n",
    "mse = mean_squared_error(y_test3, y_predicted3)\n",
    "print(\"Model 3 R2 Score: \" + str(r2_score_3))\n",
    "print(\"Mean Squared Error: \" + str(mse))\n",
    "print(\"Root Mean Squared Error: \" + str(mse ** .5))"
   ]
  },
  {
   "cell_type": "code",
   "execution_count": 141,
   "id": "ab09e67d-b6e1-4b14-b7b1-6e200ecaa329",
   "metadata": {},
   "outputs": [
    {
     "name": "stdout",
     "output_type": "stream",
     "text": [
      "Cross Validation Negated Root Mean Squared Error Score: -7.964879409018662\n",
      "Cross Validation r2 Score: 0.43685331701597774\n"
     ]
    }
   ],
   "source": [
    "kfold_validation = KFold(5) #5 splits, from slides: \"Common choices for the tuning parameter K are between 5 and 10.\"\n",
    "results_neg_rmse = cross_val_score(model3, X_train3, y_train3, cv= kfold_validation, scoring = \"neg_root_mean_squared_error\")\n",
    "mean_result_rmse = np.mean(results_neg_rmse)\n",
    "\n",
    "results_r2 = cross_val_score(model3, X_train3, y_train3, cv= kfold_validation, scoring = \"r2\")\n",
    "r2_result = np.mean(results_r2)\n",
    "\n",
    "print(\"Cross Validation Negated Root Mean Squared Error Score: \" + str(mean_result_rmse))\n",
    "print(\"Cross Validation r2 Score: \" + str(r2_result))"
   ]
  },
  {
   "cell_type": "markdown",
   "id": "82255c76-b3ae-4dfe-95fc-3e005dd1d66d",
   "metadata": {},
   "source": [
    "#### Model 4 (Additional Features to Model 1: Region and Proportion of Caucasians and Proportion of American Indian/Alaska Natives)"
   ]
  },
  {
   "cell_type": "code",
   "execution_count": 142,
   "id": "346ee067-a54b-43ef-a69d-5b6ecb53dcd0",
   "metadata": {},
   "outputs": [
    {
     "name": "stdout",
     "output_type": "stream",
     "text": [
      "Model 4 R2 Score: 0.860821926365825\n",
      "Mean Squared Error: 39.822326318578305\n",
      "Root Mean Squared Error: 6.310493349856119\n"
     ]
    }
   ],
   "source": [
    "from sklearn.model_selection import train_test_split\n",
    "from sklearn.linear_model import LinearRegression\n",
    "from sklearn.metrics import r2_score\n",
    "from sklearn.metrics import mean_squared_error\n",
    "from sklearn.preprocessing import StandardScaler\n",
    "# Model 4\n",
    "\n",
    "# Features \n",
    "num_vars = ['Median Ozone PPM', \"Black or African American alone\", \"White alone\", \"Unhealthy for Sensitive Groups Days\", \"American Indian and Alaska Native alone\"]\n",
    "cat_vars = [\"Region\"]\n",
    "\n",
    "# Defines design matrix X and target variables y\n",
    "X = build_features(california_aqis_and_race, num_vars, cat_vars) #features \n",
    "y = california_aqis_and_race[\"Median AQI\"].values #targets\n",
    "\n",
    "X_train4, X_test4, y_train4, y_test4 = train_test_split(X, y, test_size = 0.3, random_state = 42) #splitting the data into test/train (30%)\n",
    "\n",
    "model4 = LinearRegression()\n",
    "model4.fit(X_train4, y_train4)\n",
    "y_predicted4 = model4.predict(X_test4)\n",
    "                             \n",
    "# Error/Correlation Metrics\n",
    "\n",
    "r2_score_4 = r2_score(y_test4, y_predicted4)\n",
    "mse = mean_squared_error(y_test4, y_predicted4)\n",
    "print(\"Model 4 R2 Score: \" + str(r2_score_4))\n",
    "print(\"Mean Squared Error: \" + str(mse))\n",
    "print(\"Root Mean Squared Error: \" + str(mse ** .5))"
   ]
  },
  {
   "cell_type": "code",
   "execution_count": 143,
   "id": "0b865c39-6264-4bcd-94cd-82823413464d",
   "metadata": {},
   "outputs": [
    {
     "name": "stdout",
     "output_type": "stream",
     "text": [
      "Cross Validation Negated Root Mean Squared Error Score: -8.235106763239681\n",
      "Cross Validation r2 Score: 0.42742354015672934\n"
     ]
    }
   ],
   "source": [
    "kfold_validation = KFold(5) #5 splits, from slides: \"Common choices for the tuning parameter K are between 5 and 10.\"\n",
    "results_neg_rmse = cross_val_score(model4, X_train4, y_train4, cv= kfold_validation, scoring = \"neg_root_mean_squared_error\")\n",
    "mean_result_rmse = np.mean(results_neg_rmse)\n",
    "\n",
    "results_r2 = cross_val_score(model4, X_train4, y_train4, cv= kfold_validation, scoring = \"r2\")\n",
    "r2_result = np.mean(results_r2)\n",
    "\n",
    "print(\"Cross Validation Negated Root Mean Squared Error Score: \" + str(mean_result_rmse))\n",
    "print(\"Cross Validation r2 Score: \" + str(r2_result))"
   ]
  },
  {
   "cell_type": "raw",
   "id": "8d210d00-c142-480e-b9cb-c9488f56c3b9",
   "metadata": {},
   "source": [
    "R2, MSE, RMSE (random state = 42)\n",
    "\n",
    "Features: Median Ozone PPM, Region, Very Unhealthy Days\n",
    "R2 Score: 0.7821670890022685\n",
    "Mean Squared Error: 62.327441659225926\n",
    "Root Mean Squared Error: 7.8947730593872\n",
    "\n",
    "1) Features: Median Ozone PPM, Region, Unhealthy for Sensitive Groups (Change 1)\n",
    "Model 1 R2 Score: 0.8839337435746579\n",
    "Mean Squared Error: 33.209457619701006\n",
    "Root Mean Squared Error: 5.762764754846497\n",
    "\n",
    "2) Features: Median Ozone PPM, Region, Unhealthy for Sensitive Groups, Black\n",
    "Model 2 R2 Score: 0.8872024922209899\n",
    "Mean Squared Error: 32.27418691326927\n",
    "Root Mean Squared Error: 5.681037485641973\n",
    "\n",
    "3) Features: Median Ozone PPM, Region, White, Black, Unhealthy for Sensitive Groups\n",
    "Model 3 R2 Score: 0.8991358693338377\n",
    "Mean Squared Error: 28.85974938685569\n",
    "Root Mean Squared Error: 5.372127082158024\n",
    "\n",
    "4) Features: Median Ozone PPM, Region, Black, White, American Indian, Unhealthy for Sensitive Groups\n",
    "Model 4 R2 Score: 0.860821926365825\n",
    "Mean Squared Error: 39.822326318578305\n",
    "Root Mean Squared Error: 6.310493349856119\n",
    "\n",
    "Cross Validation (random state = 42)\n",
    "\n",
    "Initial Model\n",
    "Cross Validation Negated Root Mean Squared Error Score: -11.109334655215342\n",
    "Cross Validation r2 Score: 0.0786720720418694\n",
    "\n",
    "1) Model 1 (Modification 1)\n",
    "Cross Validation Negated Root Mean Squared Error Score: -8.961237807872227\n",
    "Cross Validation r2 Score: 0.29332819961372275\n",
    "\n",
    "Modification 2\n",
    "2) Model 2\n",
    "Cross Validation Negated Root Mean Squared Error Score: -7.703691632389868\n",
    "Cross Validation r2 Score: 0.5128870698995398\n",
    "\n",
    "3) Model 3\n",
    "Cross Validation Negated Root Mean Squared Error Score: -7.964879409018662\n",
    "Cross Validation r2 Score: 0.43685331701597774\n",
    "\n",
    "4) Model 4\n",
    "Cross Validation Negated Root Mean Squared Error Score: -8.235106763239681\n",
    "Cross Validation r2 Score: 0.42742354015672934\n"
   ]
  },
  {
   "cell_type": "markdown",
   "id": "a90d6e21-d126-412a-a014-c25058a43a86",
   "metadata": {},
   "source": [
    "1) Our first improvement was noticing that the feature Very Unhealthy Days could be related with wildfires and extreme edge cases rather than systemic racism. As such, we decided to change that feature from Very Unhealthy to Unhealthy for Sensitive Groups. In addition, we added a categorical Region feature to see if it helped improve the model.\n",
    "\n",
    "2) We added additional racial data and compared several models to determine the optimal model via our cross validation scores and model r2 and RMSE\n",
    "\n",
    "In the end we chose model 2 because it had the best Cross Validation scores while still having a very high R2 and low RMSE on the test data."
   ]
  },
  {
   "cell_type": "code",
   "execution_count": 144,
   "id": "51f4d714-a0a5-432f-be4e-c4c257a54da9",
   "metadata": {},
   "outputs": [
    {
     "name": "stdout",
     "output_type": "stream",
     "text": [
      "r is: 0.9530316679584072\n"
     ]
    },
    {
     "data": {
      "image/png": "[encoded data removed]",
      "text/plain": [
       "<Figure size 432x288 with 1 Axes>"
      ]
     },
     "metadata": {
      "needs_background": "light"
     },
     "output_type": "display_data"
    }
   ],
   "source": [
    "# We settled on Model 2 when looking at our cross validation error and r2 score\n",
    "\n",
    "#add y=x to scatterplot \n",
    "plt.plot(y_test2, y_test1, color = 'r')\n",
    "plt.scatter(y_test2, y_predicted2, alpha=0.5)\n",
    "plt.xlabel(\"Actual Median AQI\")\n",
    "plt.ylabel(\"Predicted Median AQI\")\n",
    "plt.title(\"Actual California County Median AQI vs Predicted California County Median AQI using Model 2\")\n",
    "print(\"r is: \" + str(np.corrcoef(y_test2, y_predicted2)[0,1]))"
   ]
  },
  {
   "cell_type": "code",
   "execution_count": 145,
   "id": "09c5b6d4-be42-4862-a1ed-ef833b2ac09c",
   "metadata": {},
   "outputs": [
    {
     "data": {
      "image/png": "[encoded data removed]",
      "text/plain": [
       "<Figure size 720x432 with 1 Axes>"
      ]
     },
     "metadata": {
      "needs_background": "light"
     },
     "output_type": "display_data"
    }
   ],
   "source": [
    "# Residual Plot\n",
    "plt.figure(figsize=(10, 6))\n",
    "fitted_values = model2.predict(X_test2)\n",
    "plt.scatter(fitted_values, y_test2 - fitted_values)\n",
    "plt.xlabel('Fitted Values')\n",
    "plt.ylabel('residual (true y - estimated y)')\n",
    "plt.title(\"Residual of AQI prediction for i'th CA county Using Model 2\")\n",
    "plt.axhline(y = 0, color='r');"
   ]
  },
  {
   "cell_type": "markdown",
   "id": "62956358",
   "metadata": {
    "deletable": false,
    "editable": false
   },
   "source": [
    "<!-- END QUESTION -->\n",
    "\n",
    "<!-- BEGIN QUESTION -->\n",
    "\n",
    "### Question 11d\n",
    "\n",
    "Compare and contrast your baseline model and (hopefully) improved model. Make sure to compare their validation errors. Were you able to successfully answer your research question and evaluate your hypothesis? Summarize in a few sentences the conclusions that you can draw from your model and predictions. The expected length of your response should be 8-10 sentences. \n",
    "\n",
    "<!--\n",
    "BEGIN QUESTION\n",
    "name: q11d\n",
    "points: 3\n",
    "manual: True\n",
    "-->"
   ]
  },
  {
   "cell_type": "markdown",
   "id": "c541f7ef",
   "metadata": {},
   "source": [
    "_Our baseline model was a multiple linear regression model on two features, Region and the Number of Very Unhealthy Days (annual, based on air quality) in a region. Our improved model includes the African-American population density of each region as a fourth feature. Our correlation coefficient R2 of our new model was slightly higher than the baseline (0.8872 vs 0.8839) and our RMSE was slightly lower (5.6810 vs 5.7627), but our cross-validation R2 nearly doubled from 0.2933 in our baseline model to 0.5128 in our new model. We constructed multiple models in our analysis, each one adding in more racial data (first African-American, then White, then American-Indian). We settled on the model that had Median Ozone PPM, Region, Unhealthy for Sensitive Groups, and Black Proportion as features because our hypothesis pertains specifically to the predictive power of African-American population proportion. Additionally, due to the immense improvement in cross validation score, we fail to reject our hypothesis that African Americans have some predictive power in estimating AQI. However, it is important to note that while adding in only African-American population data improved our model across the board, RMSE began to rise with the addition of other racial demographic data. We believe this is because the addition of those factors caused overfitting in our model. Additionally, we have to be wary about our conclusion as we only utilized a total of 53 counties/data points, which means that our 70/30 train-test split led to a trade-off between test RMSE and R2 versus cross validation RMSE and R2._\n"
   ]
  },
  {
   "cell_type": "markdown",
   "id": "a8758917",
   "metadata": {
    "deletable": false,
    "editable": false
   },
   "source": [
    "---\n",
    "\n",
    "To double-check your work, the cell below will rerun all of the autograder tests."
   ]
  },
  {
   "cell_type": "code",
   "execution_count": 146,
   "id": "4521edc4",
   "metadata": {
    "deletable": false,
    "editable": false
   },
   "outputs": [
    {
     "data": {
      "text/plain": [
       "q10b results: All test cases passed!\n",
       "\n",
       "q10c results: All test cases passed!\n",
       "\n",
       "q10d results: All test cases passed!\n",
       "\n",
       "q10e results: All test cases passed!\n",
       "\n",
       "q1a results: All test cases passed!\n",
       "\n",
       "q1b results: All test cases passed!\n",
       "\n",
       "q1c results: All test cases passed!\n",
       "\n",
       "q2a results: All test cases passed!\n",
       "\n",
       "q2b results: All test cases passed!\n",
       "\n",
       "q3a results: All test cases passed!\n",
       "\n",
       "q4a results: All test cases passed!\n",
       "\n",
       "q4i results: All test cases passed!\n",
       "\n",
       "q5a results: All test cases passed!\n",
       "\n",
       "q6a results: All test cases passed!\n",
       "\n",
       "q6b results: All test cases passed!\n",
       "\n",
       "q8a results: All test cases passed!\n",
       "\n",
       "q8b results: All test cases passed!"
      ]
     },
     "execution_count": 146,
     "metadata": {},
     "output_type": "execute_result"
    }
   ],
   "source": [
    "grader.check_all()"
   ]
  },
  {
   "cell_type": "markdown",
   "id": "9946713b",
   "metadata": {
    "deletable": false,
    "editable": false
   },
   "source": [
    "## Submission\n",
    "\n",
    "Make sure you have run all cells in your notebook in order before running the cell below, so that all images/graphs appear in the output. The cell below will generate a zip file for you to submit. **Please save before exporting!**"
   ]
  },
  {
   "cell_type": "code",
   "execution_count": 147,
   "id": "d43d5a5c",
   "metadata": {
    "deletable": false,
    "editable": false
   },
   "outputs": [
    {
     "data": {
      "text/html": [
       "\n",
       "            <p>Your submission has been exported. Click <a href=\"AQI_2021_12_13T17_37_42_676608.zip\" download=\"AQI_2021_12_13T17_37_42_676608.zip\" target=\"_blank\">here</a>\n",
       "            to download the zip file.</p>\n",
       "            "
      ],
      "text/plain": [
       "<IPython.core.display.HTML object>"
      ]
     },
     "metadata": {},
     "output_type": "display_data"
    }
   ],
   "source": [
    "# Save your notebook first, then run this cell to export your submission.\n",
    "grader.export()"
   ]
  },
  {
   "cell_type": "markdown",
   "id": "b6d88d47",
   "metadata": {},
   "source": [
    " "
   ]
  }
 ],
 "metadata": {
  "kernelspec": {
   "display_name": "Python 3 (ipykernel)",
   "language": "python",
   "name": "python3"
  },
  "language_info": {
   "codemirror_mode": {
    "name": "ipython",
    "version": 3
   },
   "file_extension": ".py",
   "mimetype": "text/x-python",
   "name": "python",
   "nbconvert_exporter": "python",
   "pygments_lexer": "ipython3",
   "version": "3.9.10"
  }
 },
 "nbformat": 4,
 "nbformat_minor": 5
}
